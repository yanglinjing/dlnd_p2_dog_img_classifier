{
  "nbformat": 4,
  "nbformat_minor": 0,
  "metadata": {
    "colab": {
      "name": "dog_app_zh.ipynb",
      "version": "0.3.2",
      "provenance": [],
      "collapsed_sections": [
        "uFrB4e2cgHh2",
        "7iAEGwF9gHiS"
      ]
    },
    "language_info": {
      "codemirror_mode": {
        "name": "ipython",
        "version": 3
      },
      "file_extension": ".py",
      "mimetype": "text/x-python",
      "name": "python",
      "nbconvert_exporter": "python",
      "pygments_lexer": "ipython3",
      "version": "3.6.3"
    },
    "kernelspec": {
      "name": "python3",
      "display_name": "Python 3"
    },
    "accelerator": "GPU"
  },
  "cells": [
    {
      "metadata": {
        "id": "CByTiMYbgHhZ",
        "colab_type": "text"
      },
      "cell_type": "markdown",
      "source": [
        "## 卷积神经网络（Convolutional Neural Network, CNN）\n",
        "\n",
        "## 项目：实现一个狗品种识别算法App\n",
        "\n",
        "在这个notebook文件中，有些模板代码已经提供给你，但你还需要实现更多的功能来完成这个项目。除非有明确要求，你无须修改任何已给出的代码。以**'(练习)'**开始的标题表示接下来的代码部分中有你需要实现的功能。这些部分都配有详细的指导，需要实现的部分也会在注释中以'TODO'标出。请仔细阅读所有的提示。\n",
        "\n",
        "除了实现代码外，你还**需要**回答一些与项目及代码相关的问题。每个需要回答的问题都会以 **'问题 X'** 标记。请仔细阅读每个问题，并且在问题后的 **'回答'** 部分写出完整的答案。我们将根据 你对问题的回答 和 撰写代码实现的功能 来对你提交的项目进行评分。\n",
        "\n",
        ">**提示：**Code 和 Markdown 区域可通过 **Shift + Enter** 快捷键运行。此外，Markdown可以通过双击进入编辑模式。\n",
        "\n",
        "项目中显示为_选做_的部分可以帮助你的项目脱颖而出，而不是仅仅达到通过的最低要求。如果你决定追求更高的挑战，请在此 notebook 中完成_选做_部分的代码。\n",
        "\n",
        "---\n",
        "\n",
        "### 让我们开始吧\n",
        "在这个notebook中，你将迈出第一步，来开发可以作为移动端或 Web应用程序一部分的算法。在这个项目的最后，你的程序将能够把用户提供的任何一个图像作为输入。如果可以从图像中检测到一只狗，它会输出对狗品种的预测。如果图像中是一个人脸，它会预测一个与其最相似的狗的种类。下面这张图展示了完成项目后可能的输出结果。（……实际上我们希望每个学生的输出结果不相同！）\n",
        "\n",
        "![Sample Dog Output](images/sample_dog_output.png)\n",
        "\n",
        "在现实世界中，你需要拼凑一系列的模型来完成不同的任务；举个例子，用来预测狗种类的算法会与预测人类的算法不同。在做项目的过程中，你可能会遇到不少失败的预测，因为并不存在完美的算法和模型。你最终提交的不完美的解决方案也一定会给你带来一个有趣的学习经验！\n",
        "\n",
        "### 项目内容\n",
        "\n",
        "我们将这个notebook分为不同的步骤，你可以使用下面的链接来浏览此notebook。\n",
        "\n",
        "* [Step 0](#step0): 导入数据集\n",
        "* [Step 1](#step1): 检测人脸\n",
        "* [Step 2](#step2): 检测狗狗\n",
        "* [Step 3](#step3): 从头创建一个CNN来分类狗品种\n",
        "* [Step 4](#step4): 使用一个CNN来区分狗的品种(使用迁移学习)\n",
        "* [Step 5](#step5): 建立一个CNN来分类狗的品种（使用迁移学习）\n",
        "* [Step 6](#step6): 完成你的算法\n",
        "* [Step 7](#step7): 测试你的算法\n",
        "\n",
        "在该项目中包含了如下的问题：\n",
        "\n",
        "* [问题 1](#question1)\n",
        "* [问题 2](#question2)\n",
        "* [问题 3](#question3)\n",
        "* [问题 4](#question4)\n",
        "* [问题 5](#question5)\n",
        "* [问题 6](#question6)\n",
        "* [问题 7](#question7)\n",
        "* [问题 8](#question8)\n",
        "* [问题 9](#question9)\n",
        "* [问题 10](#question10)\n",
        "* [问题 11](#question11)\n",
        "\n",
        "\n",
        "---\n",
        "<a id='step0'></a>\n"
      ]
    },
    {
      "metadata": {
        "id": "k3MoZ82YgOuv",
        "colab_type": "code",
        "outputId": "9540fbd4-c2c1-4cfc-e361-351eae79d02a",
        "colab": {
          "base_uri": "https://localhost:8080/",
          "height": 121
        }
      },
      "cell_type": "code",
      "source": [
        "# All the documents are stored on Google Drive.\n",
        "# It requires authorisation before use them.\n",
        "# This chunk of code is about authorisation.\n",
        "\n",
        "# Mounting Google Drive locally\n",
        "# https://colab.research.google.com/notebooks/io.ipynb#scrollTo=u22w3BFiOveA\n",
        "\n",
        "from google.colab import drive\n",
        "drive.mount('/content/gdrive')"
      ],
      "execution_count": 1,
      "outputs": [
        {
          "output_type": "stream",
          "text": [
            "Go to this URL in a browser: https://accounts.google.com/o/oauth2/auth?client_id=947318989803-6bn6qk8qdgf4n4g3pfee6491hc0brc4i.apps.googleusercontent.com&redirect_uri=urn%3Aietf%3Awg%3Aoauth%3A2.0%3Aoob&scope=email%20https%3A%2F%2Fwww.googleapis.com%2Fauth%2Fdocs.test%20https%3A%2F%2Fwww.googleapis.com%2Fauth%2Fdrive%20https%3A%2F%2Fwww.googleapis.com%2Fauth%2Fdrive.photos.readonly%20https%3A%2F%2Fwww.googleapis.com%2Fauth%2Fpeopleapi.readonly&response_type=code\n",
            "\n",
            "Enter your authorization code:\n",
            "··········\n",
            "Mounted at /content/gdrive\n"
          ],
          "name": "stdout"
        }
      ]
    },
    {
      "metadata": {
        "id": "pzIh7v-4gUnO",
        "colab_type": "code",
        "outputId": "8c3607cb-8795-4a99-d9d2-23c4ea4ef6c4",
        "colab": {
          "base_uri": "https://localhost:8080/",
          "height": 34
        }
      },
      "cell_type": "code",
      "source": [
        "!pwd"
      ],
      "execution_count": 2,
      "outputs": [
        {
          "output_type": "stream",
          "text": [
            "/content\n"
          ],
          "name": "stdout"
        }
      ]
    },
    {
      "metadata": {
        "id": "o4tYDKZXgWrl",
        "colab_type": "code",
        "outputId": "43b41030-19ab-4f28-9bc6-aac816021445",
        "colab": {
          "base_uri": "https://localhost:8080/",
          "height": 34
        }
      },
      "cell_type": "code",
      "source": [
        "# GPU!!! --drive\n",
        "#google colab - change path to google drive\n",
        "\n",
        "import os \n",
        "os.chdir('gdrive/My Drive/Colab Notebooks/dl_p2_dog_classifier')\n",
        "!pwd"
      ],
      "execution_count": 3,
      "outputs": [
        {
          "output_type": "stream",
          "text": [
            "/content/gdrive/My Drive/Colab Notebooks/dl_p2_dog_classifier\n"
          ],
          "name": "stdout"
        }
      ]
    },
    {
      "metadata": {
        "id": "43r4uHtJgaPa",
        "colab_type": "code",
        "colab": {
          "base_uri": "https://localhost:8080/",
          "height": 67
        },
        "outputId": "6878f6db-9439-45fc-e190-996c5965868c"
      },
      "cell_type": "code",
      "source": [
        "!ls"
      ],
      "execution_count": 4,
      "outputs": [
        {
          "output_type": "stream",
          "text": [
            "CODEOWNERS     dog_app_zh.ipynb\t\t       images\t    README.md\n",
            "data\t       extract_bottleneck_features.py  LICENSE.txt  requirements\n",
            "dog_app.ipynb  haarcascades\t\t       __pycache__  saved_models\n"
          ],
          "name": "stdout"
        }
      ]
    },
    {
      "metadata": {
        "id": "_kgSNnTLiEER",
        "colab_type": "code",
        "outputId": "a65c7d3a-40a9-435e-909f-634eabdff7a0",
        "colab": {
          "base_uri": "https://localhost:8080/",
          "height": 34
        }
      },
      "cell_type": "code",
      "source": [
        "from sklearn.datasets import load_files       \n",
        "from keras.utils import np_utils\n",
        "from keras.preprocessing import image \n",
        "from keras.applications.resnet50 import ResNet50\n",
        "from keras.applications.resnet50 import preprocess_input, decode_predictions\n",
        "from keras.callbacks import ModelCheckpoint  \n",
        "from keras.layers import Conv2D, MaxPooling2D, GlobalAveragePooling2D\n",
        "from keras.layers import Dropout, Flatten, Dense\n",
        "from keras.models import Sequential\n",
        "from keras.callbacks import ModelCheckpoint  \n",
        "\n",
        "\n",
        "from tqdm import tqdm\n",
        "from glob import glob\n",
        "import cv2  \n",
        "from PIL import ImageFile\n",
        "from extract_bottleneck_features import *\n",
        "\n",
        "\n",
        "import numpy as np\n",
        "import random\n",
        "              \n",
        "from IPython.display import Image\n",
        "import matplotlib.pyplot as plt      \n",
        "%matplotlib inline   "
      ],
      "execution_count": 5,
      "outputs": [
        {
          "output_type": "stream",
          "text": [
            "Using TensorFlow backend.\n"
          ],
          "name": "stderr"
        }
      ]
    },
    {
      "metadata": {
        "id": "A_UEUxGyhsx5",
        "colab_type": "text"
      },
      "cell_type": "markdown",
      "source": [
        "## 步骤 0: 导入数据集\n",
        "\n",
        "### 导入狗数据集\n",
        "在下方的代码单元（cell）中，我们导入了一个狗图像的数据集。我们使用 scikit-learn 库中的 `load_files` 函数来获取一些变量：\n",
        "- `train_files`, `valid_files`, `test_files` - 包含图像的文件路径的numpy数组\n",
        "- `train_targets`, `valid_targets`, `test_targets` - 包含独热编码分类标签的numpy数组\n",
        "- `dog_names` - 由字符串构成的与标签相对应的狗的种类"
      ]
    },
    {
      "metadata": {
        "id": "pkr8fQDYcv7T",
        "colab_type": "code",
        "colab": {}
      },
      "cell_type": "code",
      "source": [
        "# define function to load train, test, and validation datasets\n",
        "def load_dataset(path):\n",
        "    data = load_files(path)\n",
        "    dog_files = np.array(data['filenames'])\n",
        "    dog_targets = np_utils.to_categorical(np.array(data['target']), 133)\n",
        "    return dog_files, dog_targets"
      ],
      "execution_count": 0,
      "outputs": []
    },
    {
      "metadata": {
        "id": "jCYRDtxacyes",
        "colab_type": "code",
        "colab": {}
      },
      "cell_type": "code",
      "source": [
        "# load train, test, and validation datasets\n",
        "train_files, train_targets = load_dataset('data/dog_images/train')\n",
        "valid_files, valid_targets = load_dataset('data/dog_images/valid')\n",
        "test_files, test_targets = load_dataset('data/dog_images/test')"
      ],
      "execution_count": 0,
      "outputs": []
    },
    {
      "metadata": {
        "id": "wzTyodjVxvnA",
        "colab_type": "code",
        "colab": {
          "base_uri": "https://localhost:8080/",
          "height": 34
        },
        "outputId": "c34ea9be-dd72-4699-8411-eb6161163ff1"
      },
      "cell_type": "code",
      "source": [
        "train_files[0]"
      ],
      "execution_count": 8,
      "outputs": [
        {
          "output_type": "execute_result",
          "data": {
            "text/plain": [
              "'data/dog_images/train/095.Kuvasz/Kuvasz_06442.jpg'"
            ]
          },
          "metadata": {
            "tags": []
          },
          "execution_count": 8
        }
      ]
    },
    {
      "metadata": {
        "id": "aPxE_aobx5-Y",
        "colab_type": "code",
        "colab": {
          "base_uri": "https://localhost:8080/",
          "height": 168
        },
        "outputId": "226005a8-6745-4303-c70f-3deae9c0b0e8"
      },
      "cell_type": "code",
      "source": [
        "train_targets[1]"
      ],
      "execution_count": 9,
      "outputs": [
        {
          "output_type": "execute_result",
          "data": {
            "text/plain": [
              "array([0., 0., 0., 0., 0., 0., 0., 0., 0., 0., 0., 0., 0., 0., 0., 0., 0.,\n",
              "       0., 0., 0., 0., 0., 0., 0., 0., 0., 0., 0., 0., 0., 0., 0., 0., 0.,\n",
              "       0., 0., 0., 0., 0., 0., 0., 0., 0., 0., 0., 0., 0., 0., 0., 0., 0.,\n",
              "       0., 0., 0., 0., 0., 1., 0., 0., 0., 0., 0., 0., 0., 0., 0., 0., 0.,\n",
              "       0., 0., 0., 0., 0., 0., 0., 0., 0., 0., 0., 0., 0., 0., 0., 0., 0.,\n",
              "       0., 0., 0., 0., 0., 0., 0., 0., 0., 0., 0., 0., 0., 0., 0., 0., 0.,\n",
              "       0., 0., 0., 0., 0., 0., 0., 0., 0., 0., 0., 0., 0., 0., 0., 0., 0.,\n",
              "       0., 0., 0., 0., 0., 0., 0., 0., 0., 0., 0., 0., 0., 0.],\n",
              "      dtype=float32)"
            ]
          },
          "metadata": {
            "tags": []
          },
          "execution_count": 9
        }
      ]
    },
    {
      "metadata": {
        "id": "sn82AYO5c2VW",
        "colab_type": "code",
        "colab": {}
      },
      "cell_type": "code",
      "source": [
        "# load list of dog names\n",
        "dog_names = [item[20:-1] for item in sorted(glob(\"data/dog_images/train/*/\"))]"
      ],
      "execution_count": 0,
      "outputs": []
    },
    {
      "metadata": {
        "id": "CcgVyvbZyX04",
        "colab_type": "code",
        "colab": {
          "base_uri": "https://localhost:8080/",
          "height": 34
        },
        "outputId": "48e81298-c7e3-44dc-af57-8ff96e24c610"
      },
      "cell_type": "code",
      "source": [
        "dog_names[0]"
      ],
      "execution_count": 11,
      "outputs": [
        {
          "output_type": "execute_result",
          "data": {
            "text/plain": [
              "'n/001.Affenpinscher'"
            ]
          },
          "metadata": {
            "tags": []
          },
          "execution_count": 11
        }
      ]
    },
    {
      "metadata": {
        "id": "en45hIKdgHhb",
        "colab_type": "code",
        "colab": {
          "base_uri": "https://localhost:8080/",
          "height": 118
        },
        "outputId": "fd2cf6d9-d8ef-4f1b-f7ed-853f78008845"
      },
      "cell_type": "code",
      "source": [
        "# print statistics about the dataset\n",
        "print('There are %d total dog categories.' % len(dog_names))\n",
        "print('There are %s total dog images.\\n' % len(np.hstack([train_files, valid_files, test_files])))\n",
        "print('There are %d training dog images.' % len(train_files))\n",
        "print('There are %d validation dog images.' % len(valid_files))\n",
        "print('There are %d test dog images.'% len(test_files))"
      ],
      "execution_count": 12,
      "outputs": [
        {
          "output_type": "stream",
          "text": [
            "There are 133 total dog categories.\n",
            "There are 8351 total dog images.\n",
            "\n",
            "There are 6680 training dog images.\n",
            "There are 835 validation dog images.\n",
            "There are 836 test dog images.\n"
          ],
          "name": "stdout"
        }
      ]
    },
    {
      "metadata": {
        "id": "z7j-iF1YgHhi",
        "colab_type": "text"
      },
      "cell_type": "markdown",
      "source": [
        "### 导入人脸数据集\n",
        "\n",
        "在下方的代码单元中，我们导入人脸图像数据集，文件所在路径存储在名为 `human_files` 的 numpy 数组。"
      ]
    },
    {
      "metadata": {
        "id": "DAa_5bhBgHhj",
        "colab_type": "code",
        "colab": {
          "base_uri": "https://localhost:8080/",
          "height": 34
        },
        "outputId": "abd26138-37a9-441e-ccd2-1141a2401f13"
      },
      "cell_type": "code",
      "source": [
        "random.seed(8675309)\n",
        "\n",
        "# 加载打乱后的人脸数据集的文件名\n",
        "human_files = np.array(glob(\"data/lfw/*/*\"))\n",
        "random.shuffle(human_files)\n",
        "\n",
        "# 打印数据集的数据量\n",
        "print('There are %d total human images.' % len(human_files))"
      ],
      "execution_count": 15,
      "outputs": [
        {
          "output_type": "stream",
          "text": [
            "There are 13233 total human images.\n"
          ],
          "name": "stdout"
        }
      ]
    },
    {
      "metadata": {
        "id": "KpGBwUZ8zEw7",
        "colab_type": "code",
        "colab": {
          "base_uri": "https://localhost:8080/",
          "height": 34
        },
        "outputId": "4275a5b4-d81f-4b51-8d24-f7297e43a274"
      },
      "cell_type": "code",
      "source": [
        "human_files[0]"
      ],
      "execution_count": 17,
      "outputs": [
        {
          "output_type": "execute_result",
          "data": {
            "text/plain": [
              "'data/lfw/Kelvin_Sampson/Kelvin_Sampson_0002.jpg'"
            ]
          },
          "metadata": {
            "tags": []
          },
          "execution_count": 17
        }
      ]
    },
    {
      "metadata": {
        "id": "Bh7QBB9IgHhn",
        "colab_type": "text"
      },
      "cell_type": "markdown",
      "source": [
        "---\n",
        "<a id='step1'></a>\n",
        "## 步骤1：检测人脸\n",
        " \n",
        "我们将使用 OpenCV 中的 [Haar feature-based cascade classifiers](http://docs.opencv.org/trunk/d7/d8b/tutorial_py_face_detection.html) 来检测图像中的人脸。OpenCV 提供了很多预训练的人脸检测模型，它们以XML文件保存在 [github](https://github.com/opencv/opencv/tree/master/data/haarcascades)。我们已经下载了其中一个检测模型，并且把它存储在 `haarcascades` 的目录中。\n",
        "\n",
        "在如下代码单元中，我们将演示如何使用这个检测模型在样本图像中找到人脸。"
      ]
    },
    {
      "metadata": {
        "id": "Ng6lQTWlgHho",
        "colab_type": "code",
        "colab": {
          "base_uri": "https://localhost:8080/",
          "height": 286
        },
        "outputId": "21e6e1c4-9038-49e7-d55b-7a74205d6a79"
      },
      "cell_type": "code",
      "source": [
        "# 提取预训练的人脸检测模型\n",
        "face_cascade = cv2.CascadeClassifier('haarcascades/haarcascade_frontalface_alt.xml')\n",
        "\n",
        "# 加载彩色（通道顺序为BGR）图像\n",
        "img = cv2.imread(human_files[3])\n",
        "\n",
        "# 将BGR图像进行灰度处理\n",
        "gray = cv2.cvtColor(img, cv2.COLOR_BGR2GRAY)\n",
        "\n",
        "# 在图像中找出脸\n",
        "faces = face_cascade.detectMultiScale(gray)\n",
        "\n",
        "# 打印图像中检测到的脸的个数\n",
        "print('Number of faces detected:', len(faces))\n",
        "\n",
        "# 获取每一个所检测到的脸的识别框\n",
        "for (x,y,w,h) in faces:\n",
        "    # 在人脸图像中绘制出识别框\n",
        "    cv2.rectangle(img,(x,y),(x+w,y+h),(255,0,0),2)\n",
        "    \n",
        "# 将BGR图像转变为RGB图像以打印\n",
        "cv_rgb = cv2.cvtColor(img, cv2.COLOR_BGR2RGB)\n",
        "\n",
        "# 展示含有识别框的图像\n",
        "plt.imshow(cv_rgb)\n",
        "plt.show()"
      ],
      "execution_count": 18,
      "outputs": [
        {
          "output_type": "stream",
          "text": [
            "Number of faces detected: 1\n"
          ],
          "name": "stdout"
        },
        {
          "output_type": "display_data",
          "data": {
            "image/png": "[encoded data removed]",
            "text/plain": [
              "<Figure size 432x288 with 1 Axes>"
            ]
          },
          "metadata": {
            "tags": []
          }
        }
      ]
    },
    {
      "metadata": {
        "id": "FSS5p_CzgHhs",
        "colab_type": "text"
      },
      "cell_type": "markdown",
      "source": [
        "在使用任何一个检测模型之前，将图像转换为灰度图是常用过程。`detectMultiScale` 函数使用储存在 `face_cascade` 中的的数据，对输入的灰度图像进行分类。\n",
        "\n",
        "在上方的代码中，`faces` 以 numpy 数组的形式，保存了识别到的面部信息。它其中每一行表示一个被检测到的脸，该数据包括如下四个信息：前两个元素  `x`、`y` 代表识别框左上角的 x 和 y 坐标（参照上图，注意 y 坐标的方向和我们默认的方向不同）；后两个元素代表识别框在 x 和 y 轴两个方向延伸的长度 `w` 和 `d`。 \n",
        "\n",
        "### 写一个人脸识别器\n",
        "\n",
        "我们可以将这个程序封装为一个函数。该函数的输入为人脸图像的**路径**，当图像中包含人脸时，该函数返回 `True`，反之返回 `False`。该函数定义如下所示。"
      ]
    },
    {
      "metadata": {
        "id": "6OhFnlqugHht",
        "colab_type": "code",
        "colab": {}
      },
      "cell_type": "code",
      "source": [
        "# 如果img_path路径表示的图像检测到了脸，返回\"True\" \n",
        "def face_detector(img_path):\n",
        "    img = cv2.imread(img_path)\n",
        "    gray = cv2.cvtColor(img, cv2.COLOR_BGR2GRAY)\n",
        "    faces = face_cascade.detectMultiScale(gray)\n",
        "    return len(faces) > 0"
      ],
      "execution_count": 0,
      "outputs": []
    },
    {
      "metadata": {
        "id": "8_lEltKegHhw",
        "colab_type": "text"
      },
      "cell_type": "markdown",
      "source": [
        "### **【练习】** 评估人脸检测模型"
      ]
    },
    {
      "metadata": {
        "id": "cnH-z0imgHhy",
        "colab_type": "text"
      },
      "cell_type": "markdown",
      "source": [
        "\n",
        "---\n",
        "\n",
        "<a id='question1'></a>\n",
        "### __问题 1:__ \n",
        "\n",
        "在下方的代码块中，使用 `face_detector` 函数，计算：\n",
        "\n",
        "- `human_files` 的前100张图像中，能够检测到**人脸**的图像占比多少？\n",
        "- `dog_files` 的前100张图像中，能够检测到**人脸**的图像占比多少？\n",
        "\n",
        "理想情况下，人图像中检测到人脸的概率应当为100%，而狗图像中检测到人脸的概率应该为0%。你会发现我们的算法并非完美，但结果仍然是可以接受的。我们从每个数据集中提取前100个图像的文件路径，并将它们存储在`human_files_short`和`dog_files_short`中。"
      ]
    },
    {
      "metadata": {
        "id": "lGPCvR7lgHhz",
        "colab_type": "code",
        "colab": {}
      },
      "cell_type": "code",
      "source": [
        "human_files_short = human_files[:100]\n",
        "dog_files_short = train_files[:100]"
      ],
      "execution_count": 0,
      "outputs": []
    },
    {
      "metadata": {
        "id": "WH2fcyVSw9fD",
        "colab_type": "code",
        "colab": {
          "base_uri": "https://localhost:8080/",
          "height": 50
        },
        "outputId": "c312e03a-b518-4416-88a9-644f4fd77e45"
      },
      "cell_type": "code",
      "source": [
        "## TODO: 基于human_files_short和dog_files_short\n",
        "## 中的图像测试face_detector的表现\n",
        "\n",
        "human_num = 0\n",
        "dog_num = 0\n",
        "\n",
        "for file in human_files_short:\n",
        "    human_num += face_detector(file)\n",
        "\n",
        "for file in dog_files_short:\n",
        "    dog_num += face_detector(file)\n",
        "\n",
        "print(f\"In human files, {human_num}% of the first 100 images have a detected human face.\")\n",
        "print(f\"In dog files, {dog_num}% of the first 100 images have a detected human face.\")"
      ],
      "execution_count": 21,
      "outputs": [
        {
          "output_type": "stream",
          "text": [
            "In human files, 100% of the first 100 images have a detected human face.\n",
            "In dog files, 12% of the first 100 images have a detected human face.\n"
          ],
          "name": "stdout"
        }
      ]
    },
    {
      "metadata": {
        "id": "uFrB4e2cgHh2",
        "colab_type": "text"
      },
      "cell_type": "markdown",
      "source": [
        "---\n",
        "\n",
        "<a id='question2'></a>\n",
        "\n",
        "### __问题 2:__ \n",
        "\n",
        "就算法而言，该算法成功与否的关键在于，用户能否提供含有清晰面部特征的人脸图像。\n",
        "那么你认为，这样的要求在实际使用中对用户合理吗？如果你觉得不合理，你能否想到一个方法，即使图像中并没有清晰的面部特征，也能够检测到人脸？\n",
        "\n",
        "__回答:__\n",
        "不合理。训练CNN识别不同条件下的人脸（旋转，部分人脸，明暗度等）\n"
      ]
    },
    {
      "metadata": {
        "id": "MQVmydbZgHh3",
        "colab_type": "text"
      },
      "cell_type": "markdown",
      "source": [
        "---\n",
        "\n",
        "<a id='Selection1'></a>\n",
        "### 选做：\n",
        "\n",
        "我们建议在你的算法中使用opencv的人脸检测模型去检测人类图像，不过你可以自由地探索其他的方法，尤其是尝试使用深度学习来解决它:)。请用下方的代码单元来设计和测试你的面部监测算法。如果你决定完成这个_选做_任务，你需要报告算法在每一个数据集上的表现。"
      ]
    },
    {
      "metadata": {
        "id": "PBKTknnsgHh3",
        "colab_type": "code",
        "colab": {}
      },
      "cell_type": "code",
      "source": [
        "## (选做) TODO: 报告另一个面部检测算法在LFW数据集上的表现\n",
        "### 你可以随意使用所需的代码单元数"
      ],
      "execution_count": 0,
      "outputs": []
    },
    {
      "metadata": {
        "id": "WjAnNTnwgHh7",
        "colab_type": "text"
      },
      "cell_type": "markdown",
      "source": [
        "---\n",
        "<a id='step2'></a>\n",
        "\n",
        "## 步骤 2: 检测狗狗\n",
        "\n",
        "在这个部分中，我们使用预训练的 [ResNet-50](http://ethereon.github.io/netscope/#/gist/db945b393d40bfa26006) 模型去检测图像中的狗。下方的第一行代码就是下载了 ResNet-50 模型的网络结构参数，以及基于 [ImageNet](http://www.image-net.org/) 数据集的预训练权重。\n",
        "\n",
        "ImageNet 这目前一个非常流行的数据集，常被用来测试图像分类等计算机视觉任务相关的算法。它包含超过一千万个 URL，每一个都链接到 [1000 categories](https://gist.github.com/yrevar/942d3a0ac09ec9e5eb3a) 中所对应的一个物体的图像。任给输入一个图像，该 ResNet-50 模型会返回一个对图像中物体的预测结果。"
      ]
    },
    {
      "metadata": {
        "id": "W5_bvlEggHh9",
        "colab_type": "code",
        "colab": {
          "base_uri": "https://localhost:8080/",
          "height": 121
        },
        "outputId": "58e44cac-424c-461c-d776-980b8c120c6f"
      },
      "cell_type": "code",
      "source": [
        "# 定义ResNet50模型\n",
        "ResNet50_model = ResNet50(weights='imagenet')"
      ],
      "execution_count": 23,
      "outputs": [
        {
          "output_type": "stream",
          "text": [
            "WARNING:tensorflow:From /usr/local/lib/python3.6/dist-packages/tensorflow/python/framework/op_def_library.py:263: colocate_with (from tensorflow.python.framework.ops) is deprecated and will be removed in a future version.\n",
            "Instructions for updating:\n",
            "Colocations handled automatically by placer.\n",
            "Downloading data from https://github.com/fchollet/deep-learning-models/releases/download/v0.2/resnet50_weights_tf_dim_ordering_tf_kernels.h5\n",
            "102858752/102853048 [==============================] - 1s 0us/step\n"
          ],
          "name": "stdout"
        }
      ]
    },
    {
      "metadata": {
        "id": "VxJv3ohBgHiB",
        "colab_type": "text"
      },
      "cell_type": "markdown",
      "source": [
        "### 数据预处理\n",
        "\n",
        "- 在使用 TensorFlow 作为后端的时候，在 Keras 中，CNN 的输入是一个4维数组（也被称作4维张量），它的各维度尺寸为 `(nb_samples, rows, columns, channels)`。其中 `nb_samples` 表示图像（或者样本）的总数，`rows`, `columns`, 和 `channels` 分别表示图像的行数、列数和通道数。\n",
        "\n",
        "\n",
        "- 下方的 `path_to_tensor` 函数实现如下将彩色图像的字符串型的文件路径作为输入，返回一个4维张量，作为 Keras CNN 输入。因为我们的输入图像是彩色图像，因此它们具有三个通道（ `channels` 为 `3`）。\n",
        "    1. 该函数首先读取一张图像，然后将其缩放为 224×224 的图像。\n",
        "    2. 随后，该图像被调整为具有4个维度的张量。\n",
        "    3. 对于任一输入图像，最后返回的张量的维度是：`(1, 224, 224, 3)`。\n",
        "\n",
        "\n",
        "- `paths_to_tensor` 函数将图像路径的字符串组成的 numpy 数组作为输入，并返回一个4维张量，各维度尺寸为 `(nb_samples, 224, 224, 3)`。 在这里，`nb_samples`是提供的图像路径的数据中的样本数量或图像数量。你也可以将 `nb_samples` 理解为数据集中3维张量的个数（每个3维张量表示一个不同的图像。"
      ]
    },
    {
      "metadata": {
        "id": "075duavKgHiB",
        "colab_type": "code",
        "colab": {}
      },
      "cell_type": "code",
      "source": [
        "#from keras.preprocessing import image                  \n",
        "#from tqdm import tqdm\n",
        "\n",
        "def path_to_tensor(img_path):\n",
        "    # 用PIL加载RGB图像为PIL.Image.Image类型\n",
        "    img = image.load_img(img_path, target_size=(224, 224))\n",
        "    # 将PIL.Image.Image类型转化为格式为(224, 224, 3)的3维张量\n",
        "    x = image.img_to_array(img)\n",
        "    # 将3维张量转化为格式为(1, 224, 224, 3)的4维张量并返回\n",
        "    return np.expand_dims(x, axis=0)\n",
        "\n",
        "def paths_to_tensor(img_paths):\n",
        "    list_of_tensors = [path_to_tensor(img_path) for img_path in tqdm(img_paths)]\n",
        "    return np.vstack(list_of_tensors)"
      ],
      "execution_count": 0,
      "outputs": []
    },
    {
      "metadata": {
        "id": "2FESuLJJgHiE",
        "colab_type": "text"
      },
      "cell_type": "markdown",
      "source": [
        "### 基于 ResNet-50 架构进行预测\n",
        "\n",
        "对于通过上述步骤得到的四维张量，在把它们输入到 ResNet-50 网络、或 Keras 中其他类似的预训练模型之前，还需要进行一些额外的处理：\n",
        "1. 首先，这些图像的通道顺序为 RGB，我们需要重排他们的通道顺序为 BGR。\n",
        "2. 其次，预训练模型的输入都进行了额外的归一化过程。因此我们在这里也要对这些张量进行归一化，即对所有图像所有像素都减去像素均值 `[103.939, 116.779, 123.68]`（以 RGB 模式表示，根据所有的 ImageNet 图像算出）。\n",
        "\n",
        "导入的 `preprocess_input` 函数实现了这些功能。如果你对此很感兴趣，可以在 [这里](https://github.com/fchollet/keras/blob/master/keras/applications/imagenet_utils.py) 查看 `preprocess_input`的代码。\n",
        "\n",
        "\n",
        "在实现了图像处理的部分之后，我们就可以使用模型来进行预测。这一步通过 `predict` 方法来实现，它返回一个向量，向量的第 i 个元素表示该图像属于第 i 个 ImageNet 类别的概率。这通过如下的 `ResNet50_predict_labels` 函数实现。\n",
        "\n",
        "通过对预测出的向量取用 argmax 函数（找到有最大概率值的下标序号），我们可以得到一个整数，即模型预测到的物体的类别。进而根据这个 [清单](https://gist.github.com/yrevar/942d3a0ac09ec9e5eb3a)，我们能够知道这具体是哪个品种的狗狗。\n"
      ]
    },
    {
      "metadata": {
        "id": "pxWaJNK0gHiF",
        "colab_type": "code",
        "colab": {}
      },
      "cell_type": "code",
      "source": [
        "#from keras.applications.resnet50 import preprocess_input, decode_predictions\n",
        "def ResNet50_predict_labels(img_path):\n",
        "    # 返回img_path路径的图像的预测向量\n",
        "    img = preprocess_input(path_to_tensor(img_path))\n",
        "    return np.argmax(ResNet50_model.predict(img))"
      ],
      "execution_count": 0,
      "outputs": []
    },
    {
      "metadata": {
        "id": "bBX4s1vegHiI",
        "colab_type": "text"
      },
      "cell_type": "markdown",
      "source": [
        "### 完成狗检测模型\n",
        "\n",
        "\n",
        "在研究该 [清单](https://gist.github.com/yrevar/942d3a0ac09ec9e5eb3a) 的时候，你会注意到，狗类别对应的序号为151-268。因此，在检查预训练模型判断图像是否包含狗的时候，我们只需要检查如上的 `ResNet50_predict_labels` 函数是否返回一个介于151和268之间（包含区间端点）的值。\n",
        "\n",
        "我们通过这些想法来完成下方的 `dog_detector` 函数，如果从图像中检测到狗就返回 `True`，否则返回 `False`。"
      ]
    },
    {
      "metadata": {
        "id": "j0auUpWYgHiJ",
        "colab_type": "code",
        "colab": {}
      },
      "cell_type": "code",
      "source": [
        "def dog_detector(img_path):\n",
        "    prediction = ResNet50_predict_labels(img_path)\n",
        "    return ((prediction <= 268) & (prediction >= 151)) "
      ],
      "execution_count": 0,
      "outputs": []
    },
    {
      "metadata": {
        "id": "-Si_BoX8gHiL",
        "colab_type": "text"
      },
      "cell_type": "markdown",
      "source": [
        "### 【作业】评估狗狗检测模型\n",
        "\n",
        "---\n",
        "\n",
        "<a id='question3'></a>\n",
        "### __问题 3:__ \n",
        "\n",
        "在下方的代码块中，使用 `dog_detector` 函数，计算：\n",
        "\n",
        "- `human_files_short`中图像检测到狗狗的百分比？\n",
        "- `dog_files_short`中图像检测到狗狗的百分比？"
      ]
    },
    {
      "metadata": {
        "id": "l1nkUMyHgHiM",
        "colab_type": "code",
        "colab": {
          "base_uri": "https://localhost:8080/",
          "height": 50
        },
        "outputId": "339e4516-fec6-4455-a1d1-e54cf4ab83b3"
      },
      "cell_type": "code",
      "source": [
        "### TODO: 测试dog_detector函数在human_files_short和dog_files_short的表现\n",
        "human_num = 0\n",
        "dog_num = 0\n",
        "\n",
        "for file in human_files_short:\n",
        "    human_num += dog_detector(file)\n",
        "\n",
        "for file in dog_files_short:\n",
        "    dog_num += dog_detector(file)\n",
        "\n",
        "print(f\"In human files, {human_num}% of the first 100 images have a detected human face.\")\n",
        "print(f\"In dog files, {dog_num}% of the first 100 images have a detected human face.\")"
      ],
      "execution_count": 27,
      "outputs": [
        {
          "output_type": "stream",
          "text": [
            "In human files, 1% of the first 100 images have a detected human face.\n",
            "In dog files, 100% of the first 100 images have a detected human face.\n"
          ],
          "name": "stdout"
        }
      ]
    },
    {
      "metadata": {
        "id": "8V2fcF29gHiP",
        "colab_type": "text"
      },
      "cell_type": "markdown",
      "source": [
        "---\n",
        "\n",
        "<a id='step3'></a>\n",
        "\n",
        "## 步骤 3: 从头开始创建一个CNN来分类狗品种\n",
        "\n",
        "\n",
        "现在我们已经实现了一个函数，能够在图像中识别人类及狗狗。但我们需要更进一步的方法，来对狗的类别进行识别。在这一步中，你需要实现一个卷积神经网络来对狗的品种进行分类。你需要__从头实现__你的卷积神经网络（在这一阶段，你还不能使用迁移学习），并且你需要达到超过1%的测试集准确率。在本项目的步骤五种，你还有机会使用迁移学习来实现一个准确率大大提高的模型。\n",
        "\n",
        "在添加卷积层的时候，注意不要加上太多的（可训练的）层。更多的参数意味着更长的训练时间，也就是说你更可能需要一个 GPU 来加速训练过程。万幸的是，Keras 提供了能够轻松预测每次迭代（epoch）花费时间所需的函数。你可以据此推断你算法所需的训练时间。\n",
        "\n",
        "值得注意的是，对狗的图像进行分类是一项极具挑战性的任务。因为即便是一个正常人，也很难区分布列塔尼犬和威尔士史宾格犬。\n",
        "\n",
        "布列塔尼犬（Brittany） | 威尔士史宾格犬（Welsh Springer Spaniel）\n",
        "- | - \n",
        "<img src=\"images/Brittany_02625.jpg\" width=\"100\"> | <img src=\"images/Welsh_springer_spaniel_08203.jpg\" width=\"200\">\n",
        "\n",
        "不难发现其他的狗品种会有很小的类间差别（比如金毛寻回犬和美国水猎犬）。\n",
        "\n",
        "\n",
        "金毛寻回犬（Curly-Coated Retriever） | 美国水猎犬（American Water Spaniel）\n",
        "- | -\n",
        "<img src=\"images/Curly-coated_retriever_03896.jpg\" width=\"200\"> | <img src=\"images/American_water_spaniel_00648.jpg\" width=\"200\">\n",
        "\n",
        "同样，拉布拉多犬（labradors）有黄色、棕色和黑色这三种。那么你设计的基于视觉的算法将不得不克服这种较高的类间差别，以达到能够将这些不同颜色的同类狗分到同一个品种中。\n",
        "\n",
        "黄色拉布拉多犬（Yellow Labrador） | 棕色拉布拉多犬（Chocolate Labrador） | 黑色拉布拉多犬（Black Labrador）\n",
        "- | -\n",
        "<img src=\"images/Labrador_retriever_06457.jpg\" width=\"150\"> | <img src=\"images/Labrador_retriever_06455.jpg\" width=\"240\"> | <img src=\"images/Labrador_retriever_06449.jpg\" width=\"220\">\n",
        "\n",
        "我们也提到了随机分类将得到一个非常低的结果：不考虑品种略有失衡的影响，随机猜测到正确品种的概率是1/133，相对应的准确率是低于1%的。\n",
        "\n",
        "请记住，在深度学习领域，实践远远高于理论。大量尝试不同的框架吧，相信你的直觉！当然，玩得开心！\n",
        "\n",
        "\n",
        "### 数据预处理\n",
        "\n",
        "\n",
        "通过对每张图像的像素值除以255，我们对图像实现了归一化处理。"
      ]
    },
    {
      "metadata": {
        "id": "fuWQ0902gHiP",
        "colab_type": "code",
        "colab": {
          "base_uri": "https://localhost:8080/",
          "height": 67
        },
        "outputId": "cdd87bef-1e14-42de-940a-5b5eaa43d919"
      },
      "cell_type": "code",
      "source": [
        "#from PIL import ImageFile                            \n",
        "ImageFile.LOAD_TRUNCATED_IMAGES = True                 \n",
        "\n",
        "# Keras中的数据预处理过程\n",
        "train_tensors = paths_to_tensor(train_files).astype('float32')/255\n",
        "valid_tensors = paths_to_tensor(valid_files).astype('float32')/255\n",
        "test_tensors = paths_to_tensor(test_files).astype('float32')/255"
      ],
      "execution_count": 28,
      "outputs": [
        {
          "output_type": "stream",
          "text": [
            "100%|██████████| 6680/6680 [00:57<00:00, 116.32it/s]\n",
            "100%|██████████| 835/835 [00:08<00:00, 101.51it/s]\n",
            "100%|██████████| 836/836 [00:07<00:00, 118.79it/s]\n"
          ],
          "name": "stderr"
        }
      ]
    },
    {
      "metadata": {
        "id": "w-pp9ZnwKtq_",
        "colab_type": "code",
        "colab": {
          "base_uri": "https://localhost:8080/",
          "height": 5174
        },
        "outputId": "62cf77d0-ae57-49db-99bd-077b1605f2a2"
      },
      "cell_type": "code",
      "source": [
        "train_tensors"
      ],
      "execution_count": 29,
      "outputs": [
        {
          "output_type": "execute_result",
          "data": {
            "text/plain": [
              "array([[[[0.60784316, 0.61960787, 0.69411767],\n",
              "         [0.6627451 , 0.6509804 , 0.7254902 ],\n",
              "         [0.6392157 , 0.65882355, 0.7372549 ],\n",
              "         ...,\n",
              "         [0.5882353 , 0.6       , 0.6745098 ],\n",
              "         [0.57254905, 0.58431375, 0.65882355],\n",
              "         [0.5529412 , 0.5803922 , 0.6509804 ]],\n",
              "\n",
              "        [[0.6627451 , 0.67058825, 0.7294118 ],\n",
              "         [0.6392157 , 0.63529414, 0.69803923],\n",
              "         [0.6039216 , 0.6313726 , 0.7019608 ],\n",
              "         ...,\n",
              "         [0.54509807, 0.5803922 , 0.64705884],\n",
              "         [0.5568628 , 0.5764706 , 0.6509804 ],\n",
              "         [0.5411765 , 0.5686275 , 0.6392157 ]],\n",
              "\n",
              "        [[0.59607846, 0.6039216 , 0.6627451 ],\n",
              "         [0.64705884, 0.65882355, 0.7176471 ],\n",
              "         [0.6392157 , 0.6745098 , 0.7411765 ],\n",
              "         ...,\n",
              "         [0.5529412 , 0.6       , 0.654902  ],\n",
              "         [0.5529412 , 0.5803922 , 0.6509804 ],\n",
              "         [0.54509807, 0.57254905, 0.64705884]],\n",
              "\n",
              "        ...,\n",
              "\n",
              "        [[0.14509805, 0.13333334, 0.07450981],\n",
              "         [0.14117648, 0.13333334, 0.08627451],\n",
              "         [0.16470589, 0.14117648, 0.08627451],\n",
              "         ...,\n",
              "         [0.6431373 , 0.65882355, 0.7058824 ],\n",
              "         [0.6117647 , 0.61960787, 0.6784314 ],\n",
              "         [0.60784316, 0.6313726 , 0.69411767]],\n",
              "\n",
              "        [[0.14117648, 0.12941177, 0.05490196],\n",
              "         [0.15294118, 0.12941177, 0.06666667],\n",
              "         [0.15686275, 0.14117648, 0.09803922],\n",
              "         ...,\n",
              "         [0.5921569 , 0.6313726 , 0.6666667 ],\n",
              "         [0.5882353 , 0.5921569 , 0.6627451 ],\n",
              "         [0.6117647 , 0.62352943, 0.6901961 ]],\n",
              "\n",
              "        [[0.13333334, 0.12156863, 0.0627451 ],\n",
              "         [0.14117648, 0.11764706, 0.0627451 ],\n",
              "         [0.15294118, 0.13725491, 0.10196079],\n",
              "         ...,\n",
              "         [0.6039216 , 0.6431373 , 0.68235296],\n",
              "         [0.59607846, 0.6       , 0.67058825],\n",
              "         [0.60784316, 0.627451  , 0.7019608 ]]],\n",
              "\n",
              "\n",
              "       [[[0.6313726 , 0.38431373, 0.01960784],\n",
              "         [0.63529414, 0.3882353 , 0.02352941],\n",
              "         [0.6313726 , 0.38431373, 0.01176471],\n",
              "         ...,\n",
              "         [0.4745098 , 0.08627451, 0.00392157],\n",
              "         [0.44705883, 0.08627451, 0.        ],\n",
              "         [0.47058824, 0.10980392, 0.01960784]],\n",
              "\n",
              "        [[0.63529414, 0.3882353 , 0.02352941],\n",
              "         [0.6313726 , 0.38431373, 0.01960784],\n",
              "         [0.6392157 , 0.39215687, 0.01960784],\n",
              "         ...,\n",
              "         [0.4862745 , 0.09019608, 0.01176471],\n",
              "         [0.4509804 , 0.08235294, 0.        ],\n",
              "         [0.4745098 , 0.10588235, 0.00784314]],\n",
              "\n",
              "        [[0.63529414, 0.3882353 , 0.02352941],\n",
              "         [0.627451  , 0.38039216, 0.01568628],\n",
              "         [0.6431373 , 0.39607844, 0.02352941],\n",
              "         ...,\n",
              "         [0.4862745 , 0.09019608, 0.01176471],\n",
              "         [0.44313726, 0.06666667, 0.        ],\n",
              "         [0.4627451 , 0.08627451, 0.        ]],\n",
              "\n",
              "        ...,\n",
              "\n",
              "        [[0.21176471, 0.10980392, 0.05098039],\n",
              "         [0.21568628, 0.11372549, 0.05490196],\n",
              "         [0.19607843, 0.10588235, 0.04313726],\n",
              "         ...,\n",
              "         [0.21568628, 0.10588235, 0.10196079],\n",
              "         [0.23921569, 0.11372549, 0.07058824],\n",
              "         [0.25490198, 0.12941177, 0.08627451]],\n",
              "\n",
              "        [[0.20392157, 0.10196079, 0.04313726],\n",
              "         [0.21176471, 0.10980392, 0.05098039],\n",
              "         [0.19607843, 0.10588235, 0.04313726],\n",
              "         ...,\n",
              "         [0.19607843, 0.08627451, 0.08235294],\n",
              "         [0.22352941, 0.09803922, 0.05490196],\n",
              "         [0.24313726, 0.11764706, 0.07450981]],\n",
              "\n",
              "        [[0.19607843, 0.09411765, 0.03529412],\n",
              "         [0.22352941, 0.12156863, 0.0627451 ],\n",
              "         [0.20392157, 0.11372549, 0.05098039],\n",
              "         ...,\n",
              "         [0.14117648, 0.04313726, 0.02745098],\n",
              "         [0.19215687, 0.07450981, 0.04313726],\n",
              "         [0.20784314, 0.09019608, 0.05882353]]],\n",
              "\n",
              "\n",
              "       [[[0.61960787, 0.62352943, 0.6039216 ],\n",
              "         [0.627451  , 0.6313726 , 0.6117647 ],\n",
              "         [0.627451  , 0.6313726 , 0.6117647 ],\n",
              "         ...,\n",
              "         [0.34901962, 0.3529412 , 0.32941177],\n",
              "         [0.35686275, 0.36078432, 0.3372549 ],\n",
              "         [0.35686275, 0.36078432, 0.3372549 ]],\n",
              "\n",
              "        [[0.61960787, 0.62352943, 0.6039216 ],\n",
              "         [0.627451  , 0.6313726 , 0.6117647 ],\n",
              "         [0.6313726 , 0.63529414, 0.6156863 ],\n",
              "         ...,\n",
              "         [0.34901962, 0.3529412 , 0.32941177],\n",
              "         [0.35686275, 0.36078432, 0.3372549 ],\n",
              "         [0.35686275, 0.36078432, 0.3372549 ]],\n",
              "\n",
              "        [[0.61960787, 0.62352943, 0.6039216 ],\n",
              "         [0.627451  , 0.6313726 , 0.6117647 ],\n",
              "         [0.63529414, 0.6392157 , 0.61960787],\n",
              "         ...,\n",
              "         [0.34901962, 0.3529412 , 0.32941177],\n",
              "         [0.35686275, 0.36078432, 0.3372549 ],\n",
              "         [0.35686275, 0.36078432, 0.3372549 ]],\n",
              "\n",
              "        ...,\n",
              "\n",
              "        [[0.53333336, 0.40784314, 0.46666667],\n",
              "         [0.5372549 , 0.41568628, 0.47843137],\n",
              "         [0.5254902 , 0.4117647 , 0.48235294],\n",
              "         ...,\n",
              "         [0.5254902 , 0.40392157, 0.42745098],\n",
              "         [0.52156866, 0.4       , 0.43137255],\n",
              "         [0.5764706 , 0.4509804 , 0.49411765]],\n",
              "\n",
              "        [[0.2509804 , 0.19215687, 0.21176471],\n",
              "         [0.5254902 , 0.43137255, 0.4862745 ],\n",
              "         [0.5647059 , 0.44313726, 0.5137255 ],\n",
              "         ...,\n",
              "         [0.57254905, 0.44313726, 0.47058824],\n",
              "         [0.4862745 , 0.35686275, 0.38431373],\n",
              "         [0.56078434, 0.43137255, 0.45882353]],\n",
              "\n",
              "        [[0.1882353 , 0.20392157, 0.2       ],\n",
              "         [0.30588236, 0.26666668, 0.3019608 ],\n",
              "         [0.5058824 , 0.42352942, 0.48235294],\n",
              "         ...,\n",
              "         [0.6117647 , 0.48235294, 0.50980395],\n",
              "         [0.5294118 , 0.4       , 0.42745098],\n",
              "         [0.5568628 , 0.42745098, 0.45490196]]],\n",
              "\n",
              "\n",
              "       ...,\n",
              "\n",
              "\n",
              "       [[[0.0627451 , 0.1254902 , 0.08235294],\n",
              "         [0.06666667, 0.12941177, 0.09019608],\n",
              "         [0.05882353, 0.12156863, 0.08235294],\n",
              "         ...,\n",
              "         [0.28235295, 0.5019608 , 0.35686275],\n",
              "         [0.2901961 , 0.50980395, 0.37254903],\n",
              "         [0.32156864, 0.5254902 , 0.38431373]],\n",
              "\n",
              "        [[0.07843138, 0.14117648, 0.09019608],\n",
              "         [0.06666667, 0.13725491, 0.09019608],\n",
              "         [0.05882353, 0.12941177, 0.08235294],\n",
              "         ...,\n",
              "         [0.25882354, 0.49803922, 0.3372549 ],\n",
              "         [0.2627451 , 0.49803922, 0.34901962],\n",
              "         [0.30980393, 0.5294118 , 0.3764706 ]],\n",
              "\n",
              "        [[0.09019608, 0.16078432, 0.09803922],\n",
              "         [0.06666667, 0.14901961, 0.09019608],\n",
              "         [0.0627451 , 0.15294118, 0.09019608],\n",
              "         ...,\n",
              "         [0.24705882, 0.4745098 , 0.3137255 ],\n",
              "         [0.2627451 , 0.49019608, 0.33333334],\n",
              "         [0.29803923, 0.5137255 , 0.35686275]],\n",
              "\n",
              "        ...,\n",
              "\n",
              "        [[0.85882354, 0.77254903, 0.78039217],\n",
              "         [0.8862745 , 0.8117647 , 0.81960785],\n",
              "         [0.92941177, 0.8745098 , 0.8745098 ],\n",
              "         ...,\n",
              "         [0.16862746, 0.34117648, 0.2509804 ],\n",
              "         [0.28235295, 0.4745098 , 0.3882353 ],\n",
              "         [0.32156864, 0.5019608 , 0.3882353 ]],\n",
              "\n",
              "        [[0.8       , 0.73333335, 0.7647059 ],\n",
              "         [0.9372549 , 0.85882354, 0.8666667 ],\n",
              "         [0.9254902 , 0.84705883, 0.8509804 ],\n",
              "         ...,\n",
              "         [0.        , 0.16078432, 0.05098039],\n",
              "         [0.11372549, 0.28235295, 0.17254902],\n",
              "         [0.14117648, 0.37254903, 0.24705882]],\n",
              "\n",
              "        [[0.8352941 , 0.7764706 , 0.8039216 ],\n",
              "         [0.8784314 , 0.8156863 , 0.81960785],\n",
              "         [0.8509804 , 0.7882353 , 0.7882353 ],\n",
              "         ...,\n",
              "         [0.03921569, 0.20784314, 0.09019608],\n",
              "         [0.21960784, 0.38039216, 0.25490198],\n",
              "         [0.10196079, 0.2784314 , 0.14901961]]],\n",
              "\n",
              "\n",
              "       [[[0.7254902 , 0.6627451 , 0.6117647 ],\n",
              "         [0.5529412 , 0.49019608, 0.4392157 ],\n",
              "         [0.67058825, 0.5921569 , 0.54901963],\n",
              "         ...,\n",
              "         [0.6392157 , 0.5647059 , 0.5411765 ],\n",
              "         [0.7529412 , 0.68235296, 0.6431373 ],\n",
              "         [0.654902  , 0.58431375, 0.5294118 ]],\n",
              "\n",
              "        [[0.6156863 , 0.5529412 , 0.5019608 ],\n",
              "         [0.6431373 , 0.5803922 , 0.5294118 ],\n",
              "         [0.72156864, 0.6431373 , 0.6       ],\n",
              "         ...,\n",
              "         [0.7647059 , 0.69411767, 0.6392157 ],\n",
              "         [0.6313726 , 0.56078434, 0.5137255 ],\n",
              "         [0.75686276, 0.6862745 , 0.6392157 ]],\n",
              "\n",
              "        [[0.68235296, 0.61960787, 0.5686275 ],\n",
              "         [0.68235296, 0.61960787, 0.5686275 ],\n",
              "         [0.6313726 , 0.5529412 , 0.50980395],\n",
              "         ...,\n",
              "         [0.63529414, 0.5686275 , 0.49019608],\n",
              "         [0.6431373 , 0.5764706 , 0.5137255 ],\n",
              "         [0.61960787, 0.54901963, 0.5019608 ]],\n",
              "\n",
              "        ...,\n",
              "\n",
              "        [[0.2784314 , 0.23921569, 0.20392157],\n",
              "         [0.03137255, 0.        , 0.        ],\n",
              "         [0.48235294, 0.43137255, 0.4       ],\n",
              "         ...,\n",
              "         [0.5647059 , 0.5137255 , 0.49019608],\n",
              "         [0.56078434, 0.50980395, 0.47843137],\n",
              "         [0.6313726 , 0.5803922 , 0.54509807]],\n",
              "\n",
              "        [[0.34509805, 0.32941177, 0.29411766],\n",
              "         [0.5019608 , 0.4745098 , 0.44313726],\n",
              "         [0.5137255 , 0.4627451 , 0.4392157 ],\n",
              "         ...,\n",
              "         [0.59607846, 0.54509807, 0.52156866],\n",
              "         [0.6117647 , 0.56078434, 0.5294118 ],\n",
              "         [0.5568628 , 0.5058824 , 0.47058824]],\n",
              "\n",
              "        [[0.46666667, 0.46666667, 0.43529412],\n",
              "         [0.49803922, 0.47843137, 0.45490196],\n",
              "         [0.44705883, 0.40392157, 0.3882353 ],\n",
              "         ...,\n",
              "         [0.60784316, 0.5568628 , 0.53333336],\n",
              "         [0.6313726 , 0.5803922 , 0.54901963],\n",
              "         [0.6901961 , 0.6392157 , 0.6039216 ]]],\n",
              "\n",
              "\n",
              "       [[[0.96862745, 0.99215686, 0.9843137 ],\n",
              "         [0.96862745, 0.99215686, 0.9843137 ],\n",
              "         [0.96862745, 0.99215686, 0.9843137 ],\n",
              "         ...,\n",
              "         [0.6862745 , 0.43137255, 0.5647059 ],\n",
              "         [0.70980394, 0.45490196, 0.57254905],\n",
              "         [0.7058824 , 0.4509804 , 0.5686275 ]],\n",
              "\n",
              "        [[0.96862745, 0.99215686, 0.9843137 ],\n",
              "         [0.96862745, 0.99215686, 0.9843137 ],\n",
              "         [0.96862745, 0.99215686, 0.9843137 ],\n",
              "         ...,\n",
              "         [0.6745098 , 0.41960785, 0.5529412 ],\n",
              "         [0.6862745 , 0.43137255, 0.54901963],\n",
              "         [0.68235296, 0.43137255, 0.5372549 ]],\n",
              "\n",
              "        [[0.96862745, 0.99215686, 0.9843137 ],\n",
              "         [0.96862745, 0.99215686, 0.9843137 ],\n",
              "         [0.96862745, 0.99215686, 0.9843137 ],\n",
              "         ...,\n",
              "         [0.6666667 , 0.4117647 , 0.5372549 ],\n",
              "         [0.6666667 , 0.42352942, 0.52156866],\n",
              "         [0.6666667 , 0.42352942, 0.52156866]],\n",
              "\n",
              "        ...,\n",
              "\n",
              "        [[0.23529412, 0.33333334, 0.45490196],\n",
              "         [0.26666668, 0.35686275, 0.48235294],\n",
              "         [0.24313726, 0.33333334, 0.45882353],\n",
              "         ...,\n",
              "         [0.49019608, 0.32941177, 0.32156864],\n",
              "         [0.4862745 , 0.2901961 , 0.3254902 ],\n",
              "         [0.5019608 , 0.30588236, 0.34117648]],\n",
              "\n",
              "        [[0.2509804 , 0.34901962, 0.47058824],\n",
              "         [0.25882354, 0.35686275, 0.47843137],\n",
              "         [0.25490198, 0.34509805, 0.47058824],\n",
              "         ...,\n",
              "         [0.5019608 , 0.34117648, 0.33333334],\n",
              "         [0.49803922, 0.3019608 , 0.3372549 ],\n",
              "         [0.5058824 , 0.30980393, 0.34509805]],\n",
              "\n",
              "        [[0.25490198, 0.36078432, 0.47843137],\n",
              "         [0.27450982, 0.37254903, 0.49411765],\n",
              "         [0.2627451 , 0.36078432, 0.48235294],\n",
              "         ...,\n",
              "         [0.5568628 , 0.4       , 0.39215687],\n",
              "         [0.5176471 , 0.33333334, 0.37254903],\n",
              "         [0.49803922, 0.3137255 , 0.3529412 ]]]], dtype=float32)"
            ]
          },
          "metadata": {
            "tags": []
          },
          "execution_count": 29
        }
      ]
    },
    {
      "metadata": {
        "id": "7iAEGwF9gHiS",
        "colab_type": "text"
      },
      "cell_type": "markdown",
      "source": [
        "### 【练习】模型架构\n",
        "\n",
        "\n",
        "创建一个卷积神经网络来对狗品种进行分类。在你代码块的最后，执行 `model.summary()` 来输出你模型的总结信息。\n",
        "    \n",
        "我们已经帮你导入了一些所需的 Python 库，如有需要你可以自行导入。如果你在过程中遇到了困难，如下是给你的一点小提示——该模型能够在5个 epoch 内取得超过1%的测试准确率，并且能在CPU上很快地训练。\n",
        "\n",
        "![Sample CNN](images/sample_cnn.png)"
      ]
    },
    {
      "metadata": {
        "id": "RE8lBhNKgHiT",
        "colab_type": "text"
      },
      "cell_type": "markdown",
      "source": [
        "---\n",
        "\n",
        "<a id='question4'></a>  \n",
        "\n",
        "### __问题 4:__ \n",
        "\n",
        "在下方的代码块中尝试使用 Keras 搭建卷积网络的架构，并回答相关的问题。\n",
        "\n",
        "1. 你可以尝试自己搭建一个卷积网络的模型，那么你需要回答你搭建卷积网络的具体步骤（用了哪些层）以及为什么这样搭建。\n",
        "2. 你也可以根据上图提示的步骤搭建卷积网络，那么请说明为何如上的架构能够在该问题上取得很好的表现。\n",
        "\n",
        "__回答:__ \n",
        "添加了三个卷积层，每个卷积层之后跟随了一个池化层和一个dropout层，来缩小维度，防止过度拟合。在输出层之前添加了一个扁平层。"
      ]
    },
    {
      "metadata": {
        "id": "E9axXGVzOfhy",
        "colab_type": "code",
        "colab": {
          "base_uri": "https://localhost:8080/",
          "height": 34
        },
        "outputId": "b67ce6ea-968c-4ee7-b813-ad4af43d89c4"
      },
      "cell_type": "code",
      "source": [
        "train_tensors.shape"
      ],
      "execution_count": 30,
      "outputs": [
        {
          "output_type": "execute_result",
          "data": {
            "text/plain": [
              "(6680, 224, 224, 3)"
            ]
          },
          "metadata": {
            "tags": []
          },
          "execution_count": 30
        }
      ]
    },
    {
      "metadata": {
        "id": "Gz7ptLj9gHiU",
        "colab_type": "code",
        "colab": {
          "base_uri": "https://localhost:8080/",
          "height": 642
        },
        "outputId": "1c40aece-af58-41e9-bd3b-5c83d348c474"
      },
      "cell_type": "code",
      "source": [
        "#from keras.layers import Conv2D, MaxPooling2D, GlobalAveragePooling2D\n",
        "#from keras.layers import Dropout, Flatten, Dense\n",
        "#from keras.models import Sequential\n",
        "\n",
        "model = Sequential([\n",
        "    Conv2D(16, 2, padding='same', activation='relu', input_shape=train_tensors.shape[1:], name='conv_1'),\n",
        "    MaxPooling2D(2, strides=2, name='pool_1'),\n",
        "    Dropout(0.2, name='dropout_1'),\n",
        "    \n",
        "    Conv2D(32, 2, padding='same', activation='relu', name='conv_2'),\n",
        "    MaxPooling2D(2, strides=2, name='pool_2'),\n",
        "    Dropout(0.2, name='dropout_2'),\n",
        "    \n",
        "    Conv2D(64, 2, padding='same', activation='relu', name='conv_3'),\n",
        "    MaxPooling2D(2, strides=2, name='pool_3'),\n",
        "    Dropout(0.2, name='dropout_3'),\n",
        "    \n",
        "    Flatten(name='flatten_1'),\n",
        "    Dense(64, activation='relu', name='dense_1'),\n",
        "    Dropout(0.2, name='dropout_4'),\n",
        "    \n",
        "    Dense(len(dog_names), activation='softmax', name='output')\n",
        "\n",
        "])\n",
        "\n",
        "                 \n",
        "model.summary()"
      ],
      "execution_count": 31,
      "outputs": [
        {
          "output_type": "stream",
          "text": [
            "WARNING:tensorflow:From /usr/local/lib/python3.6/dist-packages/keras/backend/tensorflow_backend.py:3445: calling dropout (from tensorflow.python.ops.nn_ops) with keep_prob is deprecated and will be removed in a future version.\n",
            "Instructions for updating:\n",
            "Please use `rate` instead of `keep_prob`. Rate should be set to `rate = 1 - keep_prob`.\n",
            "_________________________________________________________________\n",
            "Layer (type)                 Output Shape              Param #   \n",
            "=================================================================\n",
            "conv_1 (Conv2D)              (None, 224, 224, 16)      208       \n",
            "_________________________________________________________________\n",
            "pool_1 (MaxPooling2D)        (None, 112, 112, 16)      0         \n",
            "_________________________________________________________________\n",
            "dropout_1 (Dropout)          (None, 112, 112, 16)      0         \n",
            "_________________________________________________________________\n",
            "conv_2 (Conv2D)              (None, 112, 112, 32)      2080      \n",
            "_________________________________________________________________\n",
            "pool_2 (MaxPooling2D)        (None, 56, 56, 32)        0         \n",
            "_________________________________________________________________\n",
            "dropout_2 (Dropout)          (None, 56, 56, 32)        0         \n",
            "_________________________________________________________________\n",
            "conv_3 (Conv2D)              (None, 56, 56, 64)        8256      \n",
            "_________________________________________________________________\n",
            "pool_3 (MaxPooling2D)        (None, 28, 28, 64)        0         \n",
            "_________________________________________________________________\n",
            "dropout_3 (Dropout)          (None, 28, 28, 64)        0         \n",
            "_________________________________________________________________\n",
            "flatten_1 (Flatten)          (None, 50176)             0         \n",
            "_________________________________________________________________\n",
            "dense_1 (Dense)              (None, 64)                3211328   \n",
            "_________________________________________________________________\n",
            "dropout_4 (Dropout)          (None, 64)                0         \n",
            "_________________________________________________________________\n",
            "output (Dense)               (None, 133)               8645      \n",
            "=================================================================\n",
            "Total params: 3,230,517\n",
            "Trainable params: 3,230,517\n",
            "Non-trainable params: 0\n",
            "_________________________________________________________________\n"
          ],
          "name": "stdout"
        }
      ]
    },
    {
      "metadata": {
        "id": "54-rq64ZgHiW",
        "colab_type": "code",
        "colab": {}
      },
      "cell_type": "code",
      "source": [
        "## 编译模型\n",
        "model.compile(optimizer='rmsprop', loss='categorical_crossentropy', metrics=['accuracy'])"
      ],
      "execution_count": 0,
      "outputs": []
    },
    {
      "metadata": {
        "id": "vpoZEg4TgHib",
        "colab_type": "text"
      },
      "cell_type": "markdown",
      "source": [
        "---"
      ]
    },
    {
      "metadata": {
        "id": "L3kDNp-tgHid",
        "colab_type": "text"
      },
      "cell_type": "markdown",
      "source": [
        "## 【练习】训练模型\n",
        "\n",
        "\n",
        "---\n",
        "\n",
        "<a id='question5'></a>  \n",
        "\n",
        "### __问题 5:__ \n",
        "\n",
        "在下方代码单元训练模型。使用模型检查点（model checkpointing）来储存具有最低验证集 loss 的模型。\n",
        "\n",
        "可选题：你也可以对训练集进行 [数据增强](https://blog.keras.io/building-powerful-image-classification-models-using-very-little-data.html)，来优化模型的表现。\n",
        "\n"
      ]
    },
    {
      "metadata": {
        "id": "0_swjhB3gHie",
        "colab_type": "code",
        "colab": {}
      },
      "cell_type": "code",
      "source": [
        "#from keras.callbacks import ModelCheckpoint  \n",
        "\n",
        "### TODO: 设置训练模型的epochs的数量\n",
        "\n",
        "epochs = 5\n",
        "batch_size=20\n"
      ],
      "execution_count": 0,
      "outputs": []
    },
    {
      "metadata": {
        "id": "c9JqZKAuUy8K",
        "colab_type": "code",
        "colab": {
          "base_uri": "https://localhost:8080/",
          "height": 457
        },
        "outputId": "ec5a510f-6d10-4bc4-a69c-c5a492d1119c"
      },
      "cell_type": "code",
      "source": [
        "checkpointer = ModelCheckpoint(filepath='saved_models/weights.best.from_scratch.hdf5', \n",
        "                               verbose=1, save_best_only=True)\n",
        "\n",
        "model.fit(train_tensors, train_targets, \n",
        "          validation_data=(valid_tensors, valid_targets),\n",
        "          epochs = epochs, \n",
        "          batch_size = batch_size, \n",
        "          callbacks = [checkpointer], \n",
        "          verbose=1)"
      ],
      "execution_count": 34,
      "outputs": [
        {
          "output_type": "stream",
          "text": [
            "WARNING:tensorflow:From /usr/local/lib/python3.6/dist-packages/tensorflow/python/ops/math_ops.py:3066: to_int32 (from tensorflow.python.ops.math_ops) is deprecated and will be removed in a future version.\n",
            "Instructions for updating:\n",
            "Use tf.cast instead.\n",
            "Train on 6680 samples, validate on 835 samples\n",
            "Epoch 1/5\n",
            "6680/6680 [==============================] - 12s 2ms/step - loss: 4.9202 - acc: 0.0087 - val_loss: 4.8814 - val_acc: 0.0168\n",
            "\n",
            "Epoch 00001: val_loss improved from inf to 4.88137, saving model to saved_models/weights.best.from_scratch.hdf5\n",
            "Epoch 2/5\n",
            "6680/6680 [==============================] - 10s 2ms/step - loss: 4.8429 - acc: 0.0141 - val_loss: 4.7840 - val_acc: 0.0168\n",
            "\n",
            "Epoch 00002: val_loss improved from 4.88137 to 4.78403, saving model to saved_models/weights.best.from_scratch.hdf5\n",
            "Epoch 3/5\n",
            "6680/6680 [==============================] - 10s 1ms/step - loss: 4.7142 - acc: 0.0249 - val_loss: 4.6552 - val_acc: 0.0228\n",
            "\n",
            "Epoch 00003: val_loss improved from 4.78403 to 4.65521, saving model to saved_models/weights.best.from_scratch.hdf5\n",
            "Epoch 4/5\n",
            "6680/6680 [==============================] - 10s 1ms/step - loss: 4.6090 - acc: 0.0280 - val_loss: 4.5583 - val_acc: 0.0299\n",
            "\n",
            "Epoch 00004: val_loss improved from 4.65521 to 4.55831, saving model to saved_models/weights.best.from_scratch.hdf5\n",
            "Epoch 5/5\n",
            "6680/6680 [==============================] - 10s 2ms/step - loss: 4.5548 - acc: 0.0280 - val_loss: 4.5208 - val_acc: 0.0287\n",
            "\n",
            "Epoch 00005: val_loss improved from 4.55831 to 4.52083, saving model to saved_models/weights.best.from_scratch.hdf5\n"
          ],
          "name": "stdout"
        },
        {
          "output_type": "execute_result",
          "data": {
            "text/plain": [
              "<keras.callbacks.History at 0x7f36b81d1240>"
            ]
          },
          "metadata": {
            "tags": []
          },
          "execution_count": 34
        }
      ]
    },
    {
      "metadata": {
        "id": "8Z692DVSgHij",
        "colab_type": "code",
        "colab": {}
      },
      "cell_type": "code",
      "source": [
        "## 加载具有最好验证loss的模型\n",
        "\n",
        "model.load_weights('saved_models/weights.best.from_scratch.hdf5')"
      ],
      "execution_count": 0,
      "outputs": []
    },
    {
      "metadata": {
        "id": "OI6RgWiugHim",
        "colab_type": "text"
      },
      "cell_type": "markdown",
      "source": [
        "### 测试模型\n",
        "\n",
        "在狗图像的测试数据集上试用你的模型。确保测试准确率大于1%。"
      ]
    },
    {
      "metadata": {
        "id": "19_9OwOZgHin",
        "colab_type": "code",
        "colab": {
          "base_uri": "https://localhost:8080/",
          "height": 34
        },
        "outputId": "32265dd5-e13a-404b-9bf9-f4e0db3fd427"
      },
      "cell_type": "code",
      "source": [
        "# 获取测试数据集中每一个图像所预测的狗品种的index\n",
        "dog_breed_predictions = [np.argmax(model.predict(np.expand_dims(tensor, axis=0))) for tensor in test_tensors]\n",
        "\n",
        "# 报告测试准确率\n",
        "test_accuracy = 100*np.sum(np.array(dog_breed_predictions)==np.argmax(test_targets, axis=1))/len(dog_breed_predictions)\n",
        "print('Test accuracy: %.4f%%' % test_accuracy)"
      ],
      "execution_count": 36,
      "outputs": [
        {
          "output_type": "stream",
          "text": [
            "Test accuracy: 3.7081%\n"
          ],
          "name": "stdout"
        }
      ]
    },
    {
      "metadata": {
        "id": "Hqz_VLkBgHip",
        "colab_type": "text"
      },
      "cell_type": "markdown",
      "source": [
        "---\n",
        "<a id='step4'></a>\n",
        "## 步骤 4: 使用一个CNN来区分狗的品种\n",
        "\n",
        "\n",
        "使用 迁移学习（Transfer Learning）的方法，能帮助我们在不损失准确率的情况下大大减少训练时间。在以下步骤中，你可以尝试使用迁移学习来训练你自己的CNN。\n"
      ]
    },
    {
      "metadata": {
        "id": "sPeBZwBigHiq",
        "colab_type": "text"
      },
      "cell_type": "markdown",
      "source": [
        "### 得到从图像中提取的特征向量（Bottleneck Features）"
      ]
    },
    {
      "metadata": {
        "id": "I2GhuHbugHis",
        "colab_type": "code",
        "colab": {}
      },
      "cell_type": "code",
      "source": [
        "bottleneck_features = np.load('data/bottleneck_features/DogVGG16Data.npz')\n",
        "train_VGG16 = bottleneck_features['train']\n",
        "valid_VGG16 = bottleneck_features['valid']\n",
        "test_VGG16 = bottleneck_features['test']"
      ],
      "execution_count": 0,
      "outputs": []
    },
    {
      "metadata": {
        "id": "fTazjgWAFiOr",
        "colab_type": "code",
        "colab": {
          "base_uri": "https://localhost:8080/",
          "height": 34
        },
        "outputId": "2206d3f2-1c97-4d52-c8e4-ee54dd6bcb16"
      },
      "cell_type": "code",
      "source": [
        "train_VGG16.shape"
      ],
      "execution_count": 144,
      "outputs": [
        {
          "output_type": "execute_result",
          "data": {
            "text/plain": [
              "(6680, 7, 7, 512)"
            ]
          },
          "metadata": {
            "tags": []
          },
          "execution_count": 144
        }
      ]
    },
    {
      "metadata": {
        "id": "md9SrxoXgHiv",
        "colab_type": "text"
      },
      "cell_type": "markdown",
      "source": [
        "### 模型架构\n",
        "\n",
        "该模型使用预训练的 VGG-16 模型作为固定的图像特征提取器，其中 VGG-16 最后一层卷积层的输出被直接输入到我们的模型。我们只需要添加一个全局平均池化层以及一个全连接层，其中全连接层使用 softmax 激活函数，对每一个狗的种类都包含一个节点。"
      ]
    },
    {
      "metadata": {
        "id": "m6SVHEjpgHiw",
        "colab_type": "code",
        "colab": {
          "base_uri": "https://localhost:8080/",
          "height": 202
        },
        "outputId": "358dfd51-45ab-4f98-82fa-de3a8413aa9b"
      },
      "cell_type": "code",
      "source": [
        "VGG16_model = Sequential()\n",
        "VGG16_model.add(GlobalAveragePooling2D(input_shape=train_VGG16.shape[1:]))\n",
        "VGG16_model.add(Dense(133, activation='softmax'))\n",
        "\n",
        "VGG16_model.summary()"
      ],
      "execution_count": 38,
      "outputs": [
        {
          "output_type": "stream",
          "text": [
            "_________________________________________________________________\n",
            "Layer (type)                 Output Shape              Param #   \n",
            "=================================================================\n",
            "global_average_pooling2d_1 ( (None, 512)               0         \n",
            "_________________________________________________________________\n",
            "dense_1 (Dense)              (None, 133)               68229     \n",
            "=================================================================\n",
            "Total params: 68,229\n",
            "Trainable params: 68,229\n",
            "Non-trainable params: 0\n",
            "_________________________________________________________________\n"
          ],
          "name": "stdout"
        }
      ]
    },
    {
      "metadata": {
        "id": "sGjJANVlgHiy",
        "colab_type": "code",
        "colab": {}
      },
      "cell_type": "code",
      "source": [
        "## 编译模型\n",
        "\n",
        "VGG16_model.compile(loss='categorical_crossentropy', optimizer='rmsprop', metrics=['accuracy'])"
      ],
      "execution_count": 0,
      "outputs": []
    },
    {
      "metadata": {
        "id": "SEyPcKLJgHi1",
        "colab_type": "code",
        "colab": {
          "base_uri": "https://localhost:8080/",
          "height": 1394
        },
        "outputId": "c87f07ff-a20d-4d65-b81c-50b2a1524487"
      },
      "cell_type": "code",
      "source": [
        "## 训练模型\n",
        "\n",
        "checkpointer = ModelCheckpoint(filepath='saved_models/weights.best.VGG16.hdf5', \n",
        "                               verbose=1, save_best_only=True)\n",
        "\n",
        "VGG16_model.fit(train_VGG16, train_targets, \n",
        "          validation_data=(valid_VGG16, valid_targets),\n",
        "          epochs=20, batch_size=20, callbacks=[checkpointer], verbose=1)\n",
        "\n"
      ],
      "execution_count": 40,
      "outputs": [
        {
          "output_type": "stream",
          "text": [
            "Train on 6680 samples, validate on 835 samples\n",
            "Epoch 1/20\n",
            "6680/6680 [==============================] - 2s 318us/step - loss: 11.9067 - acc: 0.1364 - val_loss: 10.0836 - val_acc: 0.2503\n",
            "\n",
            "Epoch 00001: val_loss improved from inf to 10.08364, saving model to saved_models/weights.best.VGG16.hdf5\n",
            "Epoch 2/20\n",
            "6680/6680 [==============================] - 1s 187us/step - loss: 9.2491 - acc: 0.3157 - val_loss: 8.8857 - val_acc: 0.3617\n",
            "\n",
            "Epoch 00002: val_loss improved from 10.08364 to 8.88573, saving model to saved_models/weights.best.VGG16.hdf5\n",
            "Epoch 3/20\n",
            "6680/6680 [==============================] - 1s 186us/step - loss: 8.4424 - acc: 0.4027 - val_loss: 8.6118 - val_acc: 0.3701\n",
            "\n",
            "Epoch 00003: val_loss improved from 8.88573 to 8.61176, saving model to saved_models/weights.best.VGG16.hdf5\n",
            "Epoch 4/20\n",
            "6680/6680 [==============================] - 1s 188us/step - loss: 8.1461 - acc: 0.4415 - val_loss: 8.3745 - val_acc: 0.4012\n",
            "\n",
            "Epoch 00004: val_loss improved from 8.61176 to 8.37450, saving model to saved_models/weights.best.VGG16.hdf5\n",
            "Epoch 5/20\n",
            "6680/6680 [==============================] - 1s 190us/step - loss: 7.8100 - acc: 0.4686 - val_loss: 8.0611 - val_acc: 0.4216\n",
            "\n",
            "Epoch 00005: val_loss improved from 8.37450 to 8.06108, saving model to saved_models/weights.best.VGG16.hdf5\n",
            "Epoch 6/20\n",
            "6680/6680 [==============================] - 1s 187us/step - loss: 7.3940 - acc: 0.4985 - val_loss: 7.6857 - val_acc: 0.4311\n",
            "\n",
            "Epoch 00006: val_loss improved from 8.06108 to 7.68571, saving model to saved_models/weights.best.VGG16.hdf5\n",
            "Epoch 7/20\n",
            "6680/6680 [==============================] - 1s 186us/step - loss: 7.0188 - acc: 0.5278 - val_loss: 7.5627 - val_acc: 0.4515\n",
            "\n",
            "Epoch 00007: val_loss improved from 7.68571 to 7.56270, saving model to saved_models/weights.best.VGG16.hdf5\n",
            "Epoch 8/20\n",
            "6680/6680 [==============================] - 1s 186us/step - loss: 6.8668 - acc: 0.5455 - val_loss: 7.3867 - val_acc: 0.4659\n",
            "\n",
            "Epoch 00008: val_loss improved from 7.56270 to 7.38670, saving model to saved_models/weights.best.VGG16.hdf5\n",
            "Epoch 9/20\n",
            "6680/6680 [==============================] - 1s 186us/step - loss: 6.7909 - acc: 0.5549 - val_loss: 7.3642 - val_acc: 0.4731\n",
            "\n",
            "Epoch 00009: val_loss improved from 7.38670 to 7.36420, saving model to saved_models/weights.best.VGG16.hdf5\n",
            "Epoch 10/20\n",
            "6680/6680 [==============================] - 1s 187us/step - loss: 6.6990 - acc: 0.5663 - val_loss: 7.2342 - val_acc: 0.4850\n",
            "\n",
            "Epoch 00010: val_loss improved from 7.36420 to 7.23417, saving model to saved_models/weights.best.VGG16.hdf5\n",
            "Epoch 11/20\n",
            "6680/6680 [==============================] - 1s 185us/step - loss: 6.5574 - acc: 0.5714 - val_loss: 7.2021 - val_acc: 0.4731\n",
            "\n",
            "Epoch 00011: val_loss improved from 7.23417 to 7.20208, saving model to saved_models/weights.best.VGG16.hdf5\n",
            "Epoch 12/20\n",
            "6680/6680 [==============================] - 1s 187us/step - loss: 6.4429 - acc: 0.5814 - val_loss: 7.1411 - val_acc: 0.4898\n",
            "\n",
            "Epoch 00012: val_loss improved from 7.20208 to 7.14109, saving model to saved_models/weights.best.VGG16.hdf5\n",
            "Epoch 13/20\n",
            "6680/6680 [==============================] - 1s 187us/step - loss: 6.4037 - acc: 0.5871 - val_loss: 7.1260 - val_acc: 0.4826\n",
            "\n",
            "Epoch 00013: val_loss improved from 7.14109 to 7.12597, saving model to saved_models/weights.best.VGG16.hdf5\n",
            "Epoch 14/20\n",
            "6680/6680 [==============================] - 1s 186us/step - loss: 6.3275 - acc: 0.5895 - val_loss: 6.9459 - val_acc: 0.4958\n",
            "\n",
            "Epoch 00014: val_loss improved from 7.12597 to 6.94588, saving model to saved_models/weights.best.VGG16.hdf5\n",
            "Epoch 15/20\n",
            "6680/6680 [==============================] - 1s 187us/step - loss: 6.2430 - acc: 0.5996 - val_loss: 6.9070 - val_acc: 0.5042\n",
            "\n",
            "Epoch 00015: val_loss improved from 6.94588 to 6.90695, saving model to saved_models/weights.best.VGG16.hdf5\n",
            "Epoch 16/20\n",
            "6680/6680 [==============================] - 1s 186us/step - loss: 6.1733 - acc: 0.6007 - val_loss: 6.8938 - val_acc: 0.4982\n",
            "\n",
            "Epoch 00016: val_loss improved from 6.90695 to 6.89379, saving model to saved_models/weights.best.VGG16.hdf5\n",
            "Epoch 17/20\n",
            "6680/6680 [==============================] - 1s 187us/step - loss: 6.0616 - acc: 0.6105 - val_loss: 6.8343 - val_acc: 0.5126\n",
            "\n",
            "Epoch 00017: val_loss improved from 6.89379 to 6.83434, saving model to saved_models/weights.best.VGG16.hdf5\n",
            "Epoch 18/20\n",
            "6680/6680 [==============================] - 1s 186us/step - loss: 6.0067 - acc: 0.6165 - val_loss: 6.7659 - val_acc: 0.5102\n",
            "\n",
            "Epoch 00018: val_loss improved from 6.83434 to 6.76591, saving model to saved_models/weights.best.VGG16.hdf5\n",
            "Epoch 19/20\n",
            "6680/6680 [==============================] - 1s 186us/step - loss: 5.9224 - acc: 0.6187 - val_loss: 6.6255 - val_acc: 0.5138\n",
            "\n",
            "Epoch 00019: val_loss improved from 6.76591 to 6.62551, saving model to saved_models/weights.best.VGG16.hdf5\n",
            "Epoch 20/20\n",
            "6680/6680 [==============================] - 1s 185us/step - loss: 5.8609 - acc: 0.6263 - val_loss: 6.6131 - val_acc: 0.5186\n",
            "\n",
            "Epoch 00020: val_loss improved from 6.62551 to 6.61312, saving model to saved_models/weights.best.VGG16.hdf5\n"
          ],
          "name": "stdout"
        },
        {
          "output_type": "execute_result",
          "data": {
            "text/plain": [
              "<keras.callbacks.History at 0x7f336c4ae320>"
            ]
          },
          "metadata": {
            "tags": []
          },
          "execution_count": 40
        }
      ]
    },
    {
      "metadata": {
        "id": "vJ7HBZLtgHi4",
        "colab_type": "code",
        "colab": {}
      },
      "cell_type": "code",
      "source": [
        "## 加载具有最好验证loss的模型\n",
        "\n",
        "VGG16_model.load_weights('saved_models/weights.best.VGG16.hdf5')"
      ],
      "execution_count": 0,
      "outputs": []
    },
    {
      "metadata": {
        "id": "NRq6yMMSgHi7",
        "colab_type": "text"
      },
      "cell_type": "markdown",
      "source": [
        "### 测试模型\n",
        "现在，我们可以测试此CNN在狗图像测试数据集中识别品种的效果如何。我们在下方打印出测试准确率。"
      ]
    },
    {
      "metadata": {
        "id": "R5dk9K8RgHi8",
        "colab_type": "code",
        "colab": {
          "base_uri": "https://localhost:8080/",
          "height": 34
        },
        "outputId": "74ccdfb0-a3fe-4a55-ebf3-3cbf532a9709"
      },
      "cell_type": "code",
      "source": [
        "# 获取测试数据集中每一个图像所预测的狗品种的index\n",
        "VGG16_predictions = [np.argmax(VGG16_model.predict(np.expand_dims(feature, axis=0))) for feature in test_VGG16]\n",
        "\n",
        "# 报告测试准确率\n",
        "test_accuracy = 100*np.sum(np.array(VGG16_predictions)==np.argmax(test_targets, axis=1))/len(VGG16_predictions)\n",
        "print('Test accuracy: %.4f%%' % test_accuracy)"
      ],
      "execution_count": 42,
      "outputs": [
        {
          "output_type": "stream",
          "text": [
            "Test accuracy: 50.7177%\n"
          ],
          "name": "stdout"
        }
      ]
    },
    {
      "metadata": {
        "id": "rpozNKVlgHjA",
        "colab_type": "text"
      },
      "cell_type": "markdown",
      "source": [
        "### 使用模型预测狗的品种"
      ]
    },
    {
      "metadata": {
        "id": "Wcrq12YdgHjB",
        "colab_type": "code",
        "colab": {}
      },
      "cell_type": "code",
      "source": [
        "#from extract_bottleneck_features import *\n",
        "\n",
        "def VGG16_predict_breed(img_path):\n",
        "    # 提取bottleneck特征\n",
        "    bottleneck_feature = extract_VGG16(path_to_tensor(img_path))\n",
        "    # 获取预测向量\n",
        "    predicted_vector = VGG16_model.predict(bottleneck_feature)\n",
        "    # 返回此模型预测的狗的品种\n",
        "    return dog_names[np.argmax(predicted_vector)]"
      ],
      "execution_count": 0,
      "outputs": []
    },
    {
      "metadata": {
        "id": "DTfcg76OgHjE",
        "colab_type": "text"
      },
      "cell_type": "markdown",
      "source": [
        "---\n",
        "<a id='step5'></a>\n",
        "## 步骤 5: 建立一个CNN来分类狗的品种（使用迁移学习）\n",
        "\n",
        "现在你将使用迁移学习来建立一个CNN，从而可以从图像中识别狗的品种。你的 CNN 在测试集上的准确率必须至少达到60%。\n",
        "\n",
        "在步骤4中，我们使用了迁移学习来创建一个使用基于 VGG-16 提取的特征向量来搭建一个 CNN。在本部分内容中，你必须使用另一个预训练模型来搭建一个 CNN。为了让这个任务更易实现，我们已经预先对目前 keras 中可用的几种网络进行了预训练：\n",
        "\n",
        "- [VGG-19](https://s3-us-west-1.amazonaws.com/udacity-aind/dog-project/DogVGG19Data.npz) bottleneck features\n",
        "- [ResNet-50](https://s3-us-west-1.amazonaws.com/udacity-aind/dog-project/DogResnet50Data.npz) bottleneck features\n",
        "- [Inception](https://s3-us-west-1.amazonaws.com/udacity-aind/dog-project/DogInceptionV3Data.npz) bottleneck features\n",
        "- [Xception](https://s3-us-west-1.amazonaws.com/udacity-aind/dog-project/DogXceptionData.npz) bottleneck features\n",
        "\n",
        "这些文件被命名为为：\n",
        "\n",
        "    Dog{network}Data.npz\n",
        "\n",
        "其中 `{network}` 可以是 `VGG19`、`Resnet50`、`InceptionV3` 或 `Xception` 中的一个。选择上方网络架构中的一个，他们已经保存在目录 `/data/bottleneck_features/` 中。\n",
        "\n",
        "\n",
        "### 【练习】获取模型的特征向量\n",
        "\n",
        "在下方代码块中，通过运行下方代码提取训练、测试与验证集相对应的bottleneck特征。\n",
        "\n",
        "    bottleneck_features = np.load('/data/bottleneck_features/Dog{network}Data.npz')\n",
        "    train_{network} = bottleneck_features['train']\n",
        "    valid_{network} = bottleneck_features['valid']\n",
        "    test_{network} = bottleneck_features['test']"
      ]
    },
    {
      "metadata": {
        "id": "niyjiE50gHjF",
        "colab_type": "code",
        "colab": {}
      },
      "cell_type": "code",
      "source": [
        "### TODO: 从另一个预训练的CNN获取bottleneck特征\n",
        "\n",
        "bottleneck_features = np.load('data/bottleneck_features/DogResnet50Data.npz')\n",
        "train_Resnet50 = bottleneck_features['train']\n",
        "valid_Resnet50 = bottleneck_features['valid']\n",
        "test_Resnet50 = bottleneck_features['test']"
      ],
      "execution_count": 0,
      "outputs": []
    },
    {
      "metadata": {
        "id": "lav_3iZbcY6s",
        "colab_type": "code",
        "colab": {
          "base_uri": "https://localhost:8080/",
          "height": 34
        },
        "outputId": "44fc245c-d2ee-4588-937e-22d206854e45"
      },
      "cell_type": "code",
      "source": [
        "train_Resnet50.shape"
      ],
      "execution_count": 165,
      "outputs": [
        {
          "output_type": "execute_result",
          "data": {
            "text/plain": [
              "(6680, 1, 1, 2048)"
            ]
          },
          "metadata": {
            "tags": []
          },
          "execution_count": 165
        }
      ]
    },
    {
      "metadata": {
        "id": "-ddAk_5fgHjH",
        "colab_type": "text"
      },
      "cell_type": "markdown",
      "source": [
        "### 【练习】模型架构\n",
        "\n",
        "建立一个CNN来分类狗品种。在你的代码单元块的最后，通过运行如下代码输出网络的结构：\n",
        "    \n",
        "        <your model's name>.summary()\n",
        "   \n",
        "---\n",
        "\n",
        "<a id='question6'></a>  \n",
        "\n",
        "### __问题 6:__ \n",
        "\n",
        "\n",
        "在下方的代码块中尝试使用 Keras 搭建最终的网络架构，并回答你实现最终 CNN 架构的步骤与每一步的作用，并描述你在迁移学习过程中，使用该网络架构的原因。\n",
        "\n",
        "\n",
        "__回答:__ \n",
        "池化层：降低维度，防止过度拟合。\n",
        "之前尝试过再加的dropout 或另一个全连接层，效果并不理想。所以最终只保留了1个池化层和1个输出的全连接层。\n"
      ]
    },
    {
      "metadata": {
        "id": "xIOMBugngHjI",
        "colab_type": "code",
        "colab": {
          "base_uri": "https://localhost:8080/",
          "height": 202
        },
        "outputId": "d0047a12-4bb7-4d89-866e-fb5c3dd2d421"
      },
      "cell_type": "code",
      "source": [
        "### TODO: 定义你的框架\n",
        "Resnet50_model = Sequential()\n",
        "Resnet50_model.add(GlobalAveragePooling2D(input_shape = train_Resnet50.shape[1:]))\n",
        "#Resnet50_model.add(Dense(512, activation='relu'))\n",
        "#Resnet50_model.add(Dropout(0.2))\n",
        "Resnet50_model.add(Dense(133, activation='softmax'))\n",
        "\n",
        "Resnet50_model.summary()"
      ],
      "execution_count": 166,
      "outputs": [
        {
          "output_type": "stream",
          "text": [
            "_________________________________________________________________\n",
            "Layer (type)                 Output Shape              Param #   \n",
            "=================================================================\n",
            "global_average_pooling2d_9 ( (None, 2048)              0         \n",
            "_________________________________________________________________\n",
            "dense_10 (Dense)             (None, 133)               272517    \n",
            "=================================================================\n",
            "Total params: 272,517\n",
            "Trainable params: 272,517\n",
            "Non-trainable params: 0\n",
            "_________________________________________________________________\n"
          ],
          "name": "stdout"
        }
      ]
    },
    {
      "metadata": {
        "id": "GBRz0mgagHjK",
        "colab_type": "code",
        "colab": {}
      },
      "cell_type": "code",
      "source": [
        "### TODO: 编译模型\n",
        "\n",
        "Resnet50_model.compile(loss='categorical_crossentropy', optimizer='rmsprop', metrics=['accuracy'])"
      ],
      "execution_count": 0,
      "outputs": []
    },
    {
      "metadata": {
        "id": "SXmUwuSrgHjM",
        "colab_type": "text"
      },
      "cell_type": "markdown",
      "source": [
        "---\n",
        "\n",
        "### 【练习】训练模型\n",
        "\n",
        "<a id='question7'></a>  \n",
        "\n",
        "### __问题 7:__ \n",
        "\n",
        "在下方代码单元中训练你的模型。使用模型检查点（model checkpointing）来储存具有最低验证集 loss 的模型。\n",
        "\n",
        "当然，你也可以对训练集进行 [数据增强](https://blog.keras.io/building-powerful-image-classification-models-using-very-little-data.html) 以优化模型的表现，不过这不是必须的步骤。\n"
      ]
    },
    {
      "metadata": {
        "id": "yy0mYimugHjM",
        "colab_type": "code",
        "colab": {
          "base_uri": "https://localhost:8080/",
          "height": 722
        },
        "outputId": "65c94d2f-761e-4d13-9448-5e31e001d110"
      },
      "cell_type": "code",
      "source": [
        "### TODO: 训练模型\n",
        "\n",
        "## 训练模型\n",
        "\n",
        "checkpointer = ModelCheckpoint(filepath='saved_models/weights.best.Resnet50.hdf5', \n",
        "                               verbose=1, save_best_only=True)\n",
        "\n",
        "Resnet50_model.fit(train_Resnet50, train_targets, \n",
        "                   validation_data = (valid_Resnet50, valid_targets),\n",
        "                   epochs = 10, \n",
        "                   batch_size = 20, \n",
        "                   callbacks=[checkpointer], \n",
        "                   verbose=2)"
      ],
      "execution_count": 168,
      "outputs": [
        {
          "output_type": "stream",
          "text": [
            "Train on 6680 samples, validate on 835 samples\n",
            "Epoch 1/10\n",
            " - 33s - loss: 1.6296 - acc: 0.6037 - val_loss: 0.7947 - val_acc: 0.7605\n",
            "\n",
            "Epoch 00001: val_loss improved from inf to 0.79472, saving model to saved_models/weights.best.Resnet50.hdf5\n",
            "Epoch 2/10\n",
            " - 2s - loss: 0.4382 - acc: 0.8609 - val_loss: 0.7189 - val_acc: 0.7820\n",
            "\n",
            "Epoch 00002: val_loss improved from 0.79472 to 0.71895, saving model to saved_models/weights.best.Resnet50.hdf5\n",
            "Epoch 3/10\n",
            " - 2s - loss: 0.2636 - acc: 0.9133 - val_loss: 0.7245 - val_acc: 0.7844\n",
            "\n",
            "Epoch 00003: val_loss did not improve from 0.71895\n",
            "Epoch 4/10\n",
            " - 2s - loss: 0.1748 - acc: 0.9446 - val_loss: 0.7034 - val_acc: 0.8012\n",
            "\n",
            "Epoch 00004: val_loss improved from 0.71895 to 0.70339, saving model to saved_models/weights.best.Resnet50.hdf5\n",
            "Epoch 5/10\n",
            " - 2s - loss: 0.1236 - acc: 0.9620 - val_loss: 0.7034 - val_acc: 0.8096\n",
            "\n",
            "Epoch 00005: val_loss improved from 0.70339 to 0.70338, saving model to saved_models/weights.best.Resnet50.hdf5\n",
            "Epoch 6/10\n",
            " - 2s - loss: 0.0865 - acc: 0.9747 - val_loss: 0.6726 - val_acc: 0.8108\n",
            "\n",
            "Epoch 00006: val_loss improved from 0.70338 to 0.67260, saving model to saved_models/weights.best.Resnet50.hdf5\n",
            "Epoch 7/10\n",
            " - 2s - loss: 0.0666 - acc: 0.9786 - val_loss: 0.7046 - val_acc: 0.8096\n",
            "\n",
            "Epoch 00007: val_loss did not improve from 0.67260\n",
            "Epoch 8/10\n",
            " - 2s - loss: 0.0493 - acc: 0.9849 - val_loss: 0.7349 - val_acc: 0.8036\n",
            "\n",
            "Epoch 00008: val_loss did not improve from 0.67260\n",
            "Epoch 9/10\n",
            " - 2s - loss: 0.0355 - acc: 0.9901 - val_loss: 0.7165 - val_acc: 0.8096\n",
            "\n",
            "Epoch 00009: val_loss did not improve from 0.67260\n",
            "Epoch 10/10\n",
            " - 2s - loss: 0.0264 - acc: 0.9930 - val_loss: 0.7484 - val_acc: 0.8144\n",
            "\n",
            "Epoch 00010: val_loss did not improve from 0.67260\n"
          ],
          "name": "stdout"
        },
        {
          "output_type": "execute_result",
          "data": {
            "text/plain": [
              "<keras.callbacks.History at 0x7f33352e38d0>"
            ]
          },
          "metadata": {
            "tags": []
          },
          "execution_count": 168
        }
      ]
    },
    {
      "metadata": {
        "id": "zR_DuLy-gHjO",
        "colab_type": "code",
        "colab": {}
      },
      "cell_type": "code",
      "source": [
        "### TODO: 加载具有最佳验证loss的模型权重\n",
        "\n",
        "Resnet50_model.load_weights('saved_models/weights.best.Resnet50.hdf5')"
      ],
      "execution_count": 0,
      "outputs": []
    },
    {
      "metadata": {
        "id": "RcEk8lTBgHjQ",
        "colab_type": "text"
      },
      "cell_type": "markdown",
      "source": [
        "---\n",
        "\n",
        "### 【练习】测试模型\n",
        "\n",
        "<a id='question8'></a>  \n",
        "\n",
        "### __问题 8:__ \n",
        "\n",
        "在狗图像的测试数据集上试用你的模型。确保测试准确率大于60%。"
      ]
    },
    {
      "metadata": {
        "id": "bagKeeiIgHjR",
        "colab_type": "code",
        "colab": {
          "base_uri": "https://localhost:8080/",
          "height": 34
        },
        "outputId": "469eb5d5-eeb2-48ff-abe2-5d734194dd82"
      },
      "cell_type": "code",
      "source": [
        "### TODO: 在测试集上计算分类准确率\n",
        "\n",
        "# 获取测试数据集中每一个图像所预测的狗品种的index\n",
        "Resnet50_predictions = [np.argmax(Resnet50_model.predict(np.expand_dims(feature, axis=0))) for feature in test_Resnet50]\n",
        "\n",
        "# 报告测试准确率\n",
        "test_accuracy = 100*np.sum(np.array(Resnet50_predictions)==np.argmax(test_targets, axis=1))/len(Resnet50_predictions)\n",
        "print('Test accuracy: %.4f%%' % test_accuracy)"
      ],
      "execution_count": 170,
      "outputs": [
        {
          "output_type": "stream",
          "text": [
            "Test accuracy: 80.8612%\n"
          ],
          "name": "stdout"
        }
      ]
    },
    {
      "metadata": {
        "id": "qm4DEtr-gHjT",
        "colab_type": "text"
      },
      "cell_type": "markdown",
      "source": [
        "---\n",
        "\n",
        "### 【练习】使用模型测试狗的品种\n",
        "\n",
        "\n",
        "实现一个函数，它的输入为图像路径，功能为预测对应图像的类别，输出为你模型预测出的狗类别（`Affenpinscher`, `Afghan_hound` 等）。\n",
        "\n",
        "与步骤5中的模拟函数类似，你的函数应当包含如下三个步骤：\n",
        "\n",
        "1. 根据选定的模型载入图像特征（bottleneck features）\n",
        "2. 将图像特征输输入到你的模型中，并返回预测向量。注意，在该向量上使用 argmax 函数可以返回狗种类的序号。\n",
        "3. 使用在步骤0中定义的 `dog_names` 数组来返回对应的狗种类名称。\n",
        "\n",
        "提取图像特征过程中使用到的函数可以在 `extract_bottleneck_features.py` 中找到。同时，他们应已在之前的代码块中被导入。根据你选定的 CNN 网络，你可以使用 `extract_{network}` 函数来获得对应的图像特征，其中 `{network}` 代表 `VGG19`, `Resnet50`, `InceptionV3`, 或 `Xception` 中的一个。\n",
        " \n",
        "---\n",
        "\n",
        "<a id='question9'></a>  \n",
        "\n",
        "### __问题 9:__"
      ]
    },
    {
      "metadata": {
        "id": "suY9LyIXyK2Y",
        "colab_type": "code",
        "colab": {}
      },
      "cell_type": "code",
      "source": [
        "### TODO: 写一个函数，该函数将图像的路径作为输入\n",
        "### 然后返回此模型所预测的狗的品种\n",
        "\n",
        "def Resnet50_predict_breed(img_path):\n",
        "    # 提取bottleneck特征\n",
        "    bottleneck_feature = extract_Resnet50(path_to_tensor(img_path))\n",
        "    # 获取模型\n",
        "    Resnet50_model.load_weights('saved_models/weights.best.Resnet50.hdf5')\n",
        "    # 获取预测向量\n",
        "    predicted_vector = Resnet50_model.predict(bottleneck_feature)\n",
        "    # 返回此模型预测的狗的品种\n",
        "    return dog_names[np.argmax(predicted_vector)]"
      ],
      "execution_count": 0,
      "outputs": []
    },
    {
      "metadata": {
        "id": "YBZZqvuhgHjW",
        "colab_type": "text"
      },
      "cell_type": "markdown",
      "source": [
        "---\n",
        "\n",
        "<a id='step6'></a>\n",
        "## 步骤 6: 完成你的算法\n",
        "\n",
        "\n",
        "\n",
        "实现一个算法，它的输入为图像的路径，它能够区分图像是否包含一个人、狗或两者都不包含，然后：\n",
        "\n",
        "- 如果从图像中检测到一只__狗__，返回被预测的品种。\n",
        "- 如果从图像中检测到__人__，返回最相像的狗品种。\n",
        "- 如果两者都不能在图像中检测到，输出错误提示。\n",
        "\n",
        "我们非常欢迎你来自己编写检测图像中人类与狗的函数，你可以随意地使用上方完成的 `face_detector` 和 `dog_detector` 函数。你__需要__在步骤5使用你的CNN来预测狗品种。\n",
        "\n",
        "下面提供了算法的示例输出，但你可以自由地设计自己的模型！\n",
        "\n",
        "![Sample Human Output](images/sample_human_output.png)\n",
        "\n",
        "\n",
        "\n",
        "\n",
        "<a id='question10'></a>  \n",
        "\n",
        "### __问题 10:__\n",
        "\n",
        "在下方代码块中完成你的代码。\n",
        "\n",
        "---\n"
      ]
    },
    {
      "metadata": {
        "id": "PQ24sKvTgHjX",
        "colab_type": "code",
        "colab": {}
      },
      "cell_type": "code",
      "source": [
        "def show_img(path):\n",
        "  img = image.load_img(path, target_size=(224, 224))\n",
        "  plt.imshow(img)"
      ],
      "execution_count": 0,
      "outputs": []
    },
    {
      "metadata": {
        "id": "nC6g_94E3ctj",
        "colab_type": "code",
        "colab": {}
      },
      "cell_type": "code",
      "source": [
        "def predict_cate(path):\n",
        "  show_img(path)\n",
        "  \n",
        "  breed = Resnet50_predict_breed(path).split('.')[-1].replace('_', \" \")\n",
        "  \n",
        "  if dog_detector(path):\n",
        "    print(f\"This is a {breed} dog.\")\n",
        "    \n",
        "  elif face_detector(path):\n",
        "    print(f\"This is a human who looks like a {breed} dog.\")\n",
        "    \n",
        "  else:\n",
        "    print(\"This is neither a human nor a dog.\")"
      ],
      "execution_count": 0,
      "outputs": []
    },
    {
      "metadata": {
        "id": "kFc0fBU2DoKU",
        "colab_type": "code",
        "colab": {
          "base_uri": "https://localhost:8080/",
          "height": 34
        },
        "outputId": "349040d8-604c-4529-f2dc-b2a0a194721c"
      },
      "cell_type": "code",
      "source": [
        "path_to_tensor('data/lfw/Kelvin_Sampson/Kelvin_Sampson_0002.jpg').shape"
      ],
      "execution_count": 147,
      "outputs": [
        {
          "output_type": "execute_result",
          "data": {
            "text/plain": [
              "(1, 224, 224, 3)"
            ]
          },
          "metadata": {
            "tags": []
          },
          "execution_count": 147
        }
      ]
    },
    {
      "metadata": {
        "id": "aZY7m4ybD2Qa",
        "colab_type": "code",
        "colab": {
          "base_uri": "https://localhost:8080/",
          "height": 87
        },
        "outputId": "2d3801ed-7116-49e4-a3eb-92c8ed3a710b"
      },
      "cell_type": "code",
      "source": [
        "extract_Resnet50(path_to_tensor('data/lfw/Kelvin_Sampson/Kelvin_Sampson_0002.jpg')).shape"
      ],
      "execution_count": 139,
      "outputs": [
        {
          "output_type": "stream",
          "text": [
            "/usr/local/lib/python3.6/dist-packages/keras_applications/resnet50.py:265: UserWarning: The output shape of `ResNet50(include_top=False)` has been changed since Keras 2.2.0.\n",
            "  warnings.warn('The output shape of `ResNet50(include_top=False)` '\n"
          ],
          "name": "stderr"
        },
        {
          "output_type": "execute_result",
          "data": {
            "text/plain": [
              "(1, 7, 7, 2048)"
            ]
          },
          "metadata": {
            "tags": []
          },
          "execution_count": 139
        }
      ]
    },
    {
      "metadata": {
        "id": "womRuhiQEvAU",
        "colab_type": "code",
        "colab": {
          "base_uri": "https://localhost:8080/",
          "height": 67
        },
        "outputId": "8dc42c2f-0dde-469c-fb4c-e9c64260e978"
      },
      "cell_type": "code",
      "source": [
        "extract_VGG19(path_to_tensor('data/lfw/Kelvin_Sampson/Kelvin_Sampson_0002.jpg')).shape"
      ],
      "execution_count": 140,
      "outputs": [
        {
          "output_type": "stream",
          "text": [
            "Downloading data from https://github.com/fchollet/deep-learning-models/releases/download/v0.1/vgg19_weights_tf_dim_ordering_tf_kernels_notop.h5\n",
            "80142336/80134624 [==============================] - 1s 0us/step\n"
          ],
          "name": "stdout"
        },
        {
          "output_type": "execute_result",
          "data": {
            "text/plain": [
              "(1, 7, 7, 512)"
            ]
          },
          "metadata": {
            "tags": []
          },
          "execution_count": 140
        }
      ]
    },
    {
      "metadata": {
        "id": "Cq0vp8VEFAAQ",
        "colab_type": "code",
        "colab": {
          "base_uri": "https://localhost:8080/",
          "height": 34
        },
        "outputId": "b5d962cd-0dde-4ecf-da6a-f4b6193f5c09"
      },
      "cell_type": "code",
      "source": [
        "extract_VGG16(path_to_tensor('data/lfw/Kelvin_Sampson/Kelvin_Sampson_0002.jpg')).shape"
      ],
      "execution_count": 141,
      "outputs": [
        {
          "output_type": "execute_result",
          "data": {
            "text/plain": [
              "(1, 7, 7, 512)"
            ]
          },
          "metadata": {
            "tags": []
          },
          "execution_count": 141
        }
      ]
    },
    {
      "metadata": {
        "id": "la0xtFzK3gDH",
        "colab_type": "code",
        "colab": {}
      },
      "cell_type": "code",
      "source": [
        "# test\n",
        "predict_cate('data/lfw/Kelvin_Sampson/Kelvin_Sampson_0002.jpg')"
      ],
      "execution_count": 0,
      "outputs": []
    },
    {
      "metadata": {
        "id": "jx1eEshugHjd",
        "colab_type": "text"
      },
      "cell_type": "markdown",
      "source": [
        "---\n",
        "<a id='step7'></a>\n",
        "## 步骤 7: 测试你的算法\n",
        "\n",
        "在这个部分中，你将尝试一下你的新算法！算法认为__你__看起来像什么类型的狗？如果你有一只狗，它可以准确地预测你的狗的品种吗？如果你有一只猫，它会将你的猫误判为一只狗吗？\n",
        "\n",
        "**上传方式：点击左上角的Jupyter回到上级菜单，你可以看到Jupyter Notebook的右上方会有Upload按钮。**\n",
        "\n",
        "<a id='question11'></a>  \n",
        "\n",
        "### __问题 11:__\n",
        "\n",
        "在下方编写代码，用至少6张现实中的图片来测试你的算法。你可以使用任意照片，不过请至少使用两张人类图片（要征得当事人同意哦）和两张狗的图片。\n",
        "同时请回答如下问题：\n",
        "\n",
        "1. 输出结果比你预想的要好吗 :) ？或者更糟 :( ？\n",
        "2. 提出至少三点改进你的模型的想法。"
      ]
    },
    {
      "metadata": {
        "id": "HeUaOkuBgHje",
        "colab_type": "code",
        "colab": {}
      },
      "cell_type": "code",
      "source": [
        "## TODO: 在你的电脑上，在步骤6中，至少在6张图片上运行你的算法。\n",
        "## 自由地使用所需的代码单元数吧"
      ],
      "execution_count": 0,
      "outputs": []
    },
    {
      "metadata": {
        "id": "IVf5j3wTgHjg",
        "colab_type": "text"
      },
      "cell_type": "markdown",
      "source": [
        "**注意: 当你写完了所有的代码，并且回答了所有的问题。你就可以把你的 iPython Notebook 导出成 HTML 文件。你可以在菜单栏，这样导出File -> Download as -> HTML (.html)把这个 HTML 和这个 iPython notebook 一起做为你的作业提交。**"
      ]
    }
  ]
}