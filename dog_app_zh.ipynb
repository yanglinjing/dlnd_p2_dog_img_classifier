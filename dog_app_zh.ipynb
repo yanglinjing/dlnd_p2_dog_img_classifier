{
  "nbformat": 4,
  "nbformat_minor": 0,
  "metadata": {
    "colab": {
      "name": "dog_app_zh.ipynb",
      "version": "0.3.2",
      "provenance": [],
      "collapsed_sections": [
        "uFrB4e2cgHh2",
        "7iAEGwF9gHiS"
      ],
      "include_colab_link": true
    },
    "language_info": {
      "codemirror_mode": {
        "name": "ipython",
        "version": 3
      },
      "file_extension": ".py",
      "mimetype": "text/x-python",
      "name": "python",
      "nbconvert_exporter": "python",
      "pygments_lexer": "ipython3",
      "version": "3.6.3"
    },
    "kernelspec": {
      "name": "python3",
      "display_name": "Python 3"
    },
    "accelerator": "GPU"
  },
  "cells": [
    {
      "cell_type": "markdown",
      "metadata": {
        "id": "view-in-github",
        "colab_type": "text"
      },
      "source": [
        "<a href=\"https://colab.research.google.com/github/yanglinjing/dlnd_p2_dog_img_classifier/blob/master/dog_app_zh.ipynb\" target=\"_parent\"><img src=\"https://colab.research.google.com/assets/colab-badge.svg\" alt=\"Open In Colab\"/></a>"
      ]
    },
    {
      "metadata": {
        "id": "CByTiMYbgHhZ",
        "colab_type": "text"
      },
      "cell_type": "markdown",
      "source": [
        "## 卷积神经网络（Convolutional Neural Network, CNN）\n",
        "\n",
        "## 项目：实现一个狗品种识别算法App\n",
        "\n",
        "在这个notebook文件中，有些模板代码已经提供给你，但你还需要实现更多的功能来完成这个项目。除非有明确要求，你无须修改任何已给出的代码。以**'(练习)'**开始的标题表示接下来的代码部分中有你需要实现的功能。这些部分都配有详细的指导，需要实现的部分也会在注释中以'TODO'标出。请仔细阅读所有的提示。\n",
        "\n",
        "除了实现代码外，你还**需要**回答一些与项目及代码相关的问题。每个需要回答的问题都会以 **'问题 X'** 标记。请仔细阅读每个问题，并且在问题后的 **'回答'** 部分写出完整的答案。我们将根据 你对问题的回答 和 撰写代码实现的功能 来对你提交的项目进行评分。\n",
        "\n",
        ">**提示：**Code 和 Markdown 区域可通过 **Shift + Enter** 快捷键运行。此外，Markdown可以通过双击进入编辑模式。\n",
        "\n",
        "项目中显示为_选做_的部分可以帮助你的项目脱颖而出，而不是仅仅达到通过的最低要求。如果你决定追求更高的挑战，请在此 notebook 中完成_选做_部分的代码。\n",
        "\n",
        "---\n",
        "\n",
        "### 让我们开始吧\n",
        "在这个notebook中，你将迈出第一步，来开发可以作为移动端或 Web应用程序一部分的算法。在这个项目的最后，你的程序将能够把用户提供的任何一个图像作为输入。如果可以从图像中检测到一只狗，它会输出对狗品种的预测。如果图像中是一个人脸，它会预测一个与其最相似的狗的种类。下面这张图展示了完成项目后可能的输出结果。（……实际上我们希望每个学生的输出结果不相同！）\n",
        "\n",
        "![Sample Dog Output](images/sample_dog_output.png)\n",
        "\n",
        "在现实世界中，你需要拼凑一系列的模型来完成不同的任务；举个例子，用来预测狗种类的算法会与预测人类的算法不同。在做项目的过程中，你可能会遇到不少失败的预测，因为并不存在完美的算法和模型。你最终提交的不完美的解决方案也一定会给你带来一个有趣的学习经验！\n",
        "\n",
        "### 项目内容\n",
        "\n",
        "我们将这个notebook分为不同的步骤，你可以使用下面的链接来浏览此notebook。\n",
        "\n",
        "* [Step 0](#step0): 导入数据集\n",
        "* [Step 1](#step1): 检测人脸\n",
        "* [Step 2](#step2): 检测狗狗\n",
        "* [Step 3](#step3): 从头创建一个CNN来分类狗品种\n",
        "* [Step 4](#step4): 使用一个CNN来区分狗的品种(使用迁移学习)\n",
        "* [Step 5](#step5): 建立一个CNN来分类狗的品种（使用迁移学习）\n",
        "* [Step 6](#step6): 完成你的算法\n",
        "* [Step 7](#step7): 测试你的算法\n",
        "\n",
        "在该项目中包含了如下的问题：\n",
        "\n",
        "* [问题 1](#question1)\n",
        "* [问题 2](#question2)\n",
        "* [问题 3](#question3)\n",
        "* [问题 4](#question4)\n",
        "* [问题 5](#question5)\n",
        "* [问题 6](#question6)\n",
        "* [问题 7](#question7)\n",
        "* [问题 8](#question8)\n",
        "* [问题 9](#question9)\n",
        "* [问题 10](#question10)\n",
        "* [问题 11](#question11)\n",
        "\n",
        "\n",
        "---\n",
        "<a id='step0'></a>\n"
      ]
    },
    {
      "metadata": {
        "id": "k3MoZ82YgOuv",
        "colab_type": "code",
        "outputId": "ef5dbbaf-a5ef-4f48-d092-5df096b35b52",
        "colab": {
          "base_uri": "https://localhost:8080/",
          "height": 121
        }
      },
      "cell_type": "code",
      "source": [
        "# All the documents are stored on Google Drive.\n",
        "# It requires authorisation before use them.\n",
        "# This chunk of code is about authorisation.\n",
        "\n",
        "# Mounting Google Drive locally\n",
        "# https://colab.research.google.com/notebooks/io.ipynb#scrollTo=u22w3BFiOveA\n",
        "\n",
        "from google.colab import drive\n",
        "drive.mount('/content/gdrive')"
      ],
      "execution_count": 1,
      "outputs": [
        {
          "output_type": "stream",
          "text": [
            "Go to this URL in a browser: https://accounts.google.com/o/oauth2/auth?client_id=947318989803-6bn6qk8qdgf4n4g3pfee6491hc0brc4i.apps.googleusercontent.com&redirect_uri=urn%3Aietf%3Awg%3Aoauth%3A2.0%3Aoob&scope=email%20https%3A%2F%2Fwww.googleapis.com%2Fauth%2Fdocs.test%20https%3A%2F%2Fwww.googleapis.com%2Fauth%2Fdrive%20https%3A%2F%2Fwww.googleapis.com%2Fauth%2Fdrive.photos.readonly%20https%3A%2F%2Fwww.googleapis.com%2Fauth%2Fpeopleapi.readonly&response_type=code\n",
            "\n",
            "Enter your authorization code:\n",
            "··········\n",
            "Mounted at /content/gdrive\n"
          ],
          "name": "stdout"
        }
      ]
    },
    {
      "metadata": {
        "id": "pzIh7v-4gUnO",
        "colab_type": "code",
        "outputId": "75a87fd8-8453-44e8-f2ba-fa3b7bdd5f24",
        "colab": {
          "base_uri": "https://localhost:8080/",
          "height": 34
        }
      },
      "cell_type": "code",
      "source": [
        "!pwd"
      ],
      "execution_count": 2,
      "outputs": [
        {
          "output_type": "stream",
          "text": [
            "/content\n"
          ],
          "name": "stdout"
        }
      ]
    },
    {
      "metadata": {
        "id": "o4tYDKZXgWrl",
        "colab_type": "code",
        "outputId": "5733ff06-0f8f-4753-c866-7ab4759dc420",
        "colab": {
          "base_uri": "https://localhost:8080/",
          "height": 34
        }
      },
      "cell_type": "code",
      "source": [
        "#google colab - change path to google drive\n",
        "\n",
        "import os \n",
        "os.chdir('gdrive/My Drive/Colab Notebooks/dl_p2_dog_classifier')\n",
        "!pwd"
      ],
      "execution_count": 3,
      "outputs": [
        {
          "output_type": "stream",
          "text": [
            "/content/gdrive/My Drive/Colab Notebooks/dl_p2_dog_classifier\n"
          ],
          "name": "stdout"
        }
      ]
    },
    {
      "metadata": {
        "id": "43r4uHtJgaPa",
        "colab_type": "code",
        "colab": {}
      },
      "cell_type": "code",
      "source": [
        "!ls"
      ],
      "execution_count": 0,
      "outputs": []
    },
    {
      "metadata": {
        "id": "iysMnPgJOhL4",
        "colab_type": "code",
        "colab": {
          "base_uri": "https://localhost:8080/",
          "height": 255
        },
        "outputId": "49398574-ab96-4347-c4fb-655dda743ef4"
      },
      "cell_type": "code",
      "source": [
        "!pip install keras==2.1.6"
      ],
      "execution_count": 5,
      "outputs": [
        {
          "output_type": "stream",
          "text": [
            "Collecting keras==2.1.6\n",
            "\u001b[?25l  Downloading https://files.pythonhosted.org/packages/54/e8/eaff7a09349ae9bd40d3ebaf028b49f5e2392c771f294910f75bb608b241/Keras-2.1.6-py2.py3-none-any.whl (339kB)\n",
            "\u001b[K    100% |████████████████████████████████| 348kB 32.6MB/s \n",
            "\u001b[?25hRequirement already satisfied: pyyaml in /usr/local/lib/python3.6/dist-packages (from keras==2.1.6) (3.13)\n",
            "Requirement already satisfied: six>=1.9.0 in /usr/local/lib/python3.6/dist-packages (from keras==2.1.6) (1.11.0)\n",
            "Requirement already satisfied: scipy>=0.14 in /usr/local/lib/python3.6/dist-packages (from keras==2.1.6) (1.2.1)\n",
            "Requirement already satisfied: numpy>=1.9.1 in /usr/local/lib/python3.6/dist-packages (from keras==2.1.6) (1.16.2)\n",
            "Requirement already satisfied: h5py in /usr/local/lib/python3.6/dist-packages (from keras==2.1.6) (2.8.0)\n",
            "Installing collected packages: keras\n",
            "  Found existing installation: Keras 2.2.4\n",
            "    Uninstalling Keras-2.2.4:\n",
            "      Successfully uninstalled Keras-2.2.4\n",
            "Successfully installed keras-2.1.6\n"
          ],
          "name": "stdout"
        }
      ]
    },
    {
      "metadata": {
        "id": "_kgSNnTLiEER",
        "colab_type": "code",
        "colab": {
          "base_uri": "https://localhost:8080/",
          "height": 34
        },
        "outputId": "4687c8c0-9016-4a97-efdc-28af2b1aa954"
      },
      "cell_type": "code",
      "source": [
        "from sklearn.datasets import load_files       \n",
        "from keras.utils import np_utils\n",
        "from keras.preprocessing import image \n",
        "from keras.applications.resnet50 import ResNet50\n",
        "from keras.applications.resnet50 import preprocess_input, decode_predictions\n",
        "from keras.callbacks import ModelCheckpoint  \n",
        "from keras.layers import Conv2D, MaxPooling2D, GlobalAveragePooling2D\n",
        "from keras.layers import Dropout, Dense, BatchNormalization, Activation\n",
        "from keras.models import Sequential\n",
        "from keras.callbacks import ModelCheckpoint  \n",
        "\n",
        "\n",
        "from tqdm import tqdm\n",
        "from glob import glob\n",
        "import cv2  \n",
        "from PIL import ImageFile\n",
        "\n",
        "\n",
        "\n",
        "import numpy as np\n",
        "import random\n",
        "              \n",
        "from IPython.display import Image\n",
        "import matplotlib.pyplot as plt      \n",
        "%matplotlib inline   \n",
        "\n",
        "from extract_bottleneck_features import *\n"
      ],
      "execution_count": 6,
      "outputs": [
        {
          "output_type": "stream",
          "text": [
            "Using TensorFlow backend.\n"
          ],
          "name": "stderr"
        }
      ]
    },
    {
      "metadata": {
        "id": "A_UEUxGyhsx5",
        "colab_type": "text"
      },
      "cell_type": "markdown",
      "source": [
        "## 步骤 0: 导入数据集\n",
        "\n",
        "### 导入狗数据集\n",
        "在下方的代码单元（cell）中，我们导入了一个狗图像的数据集。我们使用 scikit-learn 库中的 `load_files` 函数来获取一些变量：\n",
        "- `train_files`, `valid_files`, `test_files` - 包含图像的文件路径的numpy数组\n",
        "- `train_targets`, `valid_targets`, `test_targets` - 包含独热编码分类标签的numpy数组\n",
        "- `dog_names` - 由字符串构成的与标签相对应的狗的种类"
      ]
    },
    {
      "metadata": {
        "id": "pkr8fQDYcv7T",
        "colab_type": "code",
        "colab": {}
      },
      "cell_type": "code",
      "source": [
        "# define function to load train, test, and validation datasets\n",
        "def load_dataset(path):\n",
        "    data = load_files(path)\n",
        "    dog_files = np.array(data['filenames'])\n",
        "    dog_targets = np_utils.to_categorical(np.array(data['target']), 133)\n",
        "    return dog_files, dog_targets"
      ],
      "execution_count": 0,
      "outputs": []
    },
    {
      "metadata": {
        "id": "jCYRDtxacyes",
        "colab_type": "code",
        "colab": {}
      },
      "cell_type": "code",
      "source": [
        "# load train, test, and validation datasets\n",
        "train_files, train_targets = load_dataset('data/dog_images/train')\n",
        "valid_files, valid_targets = load_dataset('data/dog_images/valid')\n",
        "test_files, test_targets = load_dataset('data/dog_images/test')"
      ],
      "execution_count": 0,
      "outputs": []
    },
    {
      "metadata": {
        "id": "wzTyodjVxvnA",
        "colab_type": "code",
        "outputId": "c34ea9be-dd72-4699-8411-eb6161163ff1",
        "colab": {
          "base_uri": "https://localhost:8080/",
          "height": 34
        }
      },
      "cell_type": "code",
      "source": [
        "train_files[0]"
      ],
      "execution_count": 0,
      "outputs": [
        {
          "output_type": "execute_result",
          "data": {
            "text/plain": [
              "'data/dog_images/train/095.Kuvasz/Kuvasz_06442.jpg'"
            ]
          },
          "metadata": {
            "tags": []
          },
          "execution_count": 8
        }
      ]
    },
    {
      "metadata": {
        "id": "aPxE_aobx5-Y",
        "colab_type": "code",
        "outputId": "226005a8-6745-4303-c70f-3deae9c0b0e8",
        "colab": {
          "base_uri": "https://localhost:8080/",
          "height": 168
        }
      },
      "cell_type": "code",
      "source": [
        "train_targets[1]"
      ],
      "execution_count": 0,
      "outputs": [
        {
          "output_type": "execute_result",
          "data": {
            "text/plain": [
              "array([0., 0., 0., 0., 0., 0., 0., 0., 0., 0., 0., 0., 0., 0., 0., 0., 0.,\n",
              "       0., 0., 0., 0., 0., 0., 0., 0., 0., 0., 0., 0., 0., 0., 0., 0., 0.,\n",
              "       0., 0., 0., 0., 0., 0., 0., 0., 0., 0., 0., 0., 0., 0., 0., 0., 0.,\n",
              "       0., 0., 0., 0., 0., 1., 0., 0., 0., 0., 0., 0., 0., 0., 0., 0., 0.,\n",
              "       0., 0., 0., 0., 0., 0., 0., 0., 0., 0., 0., 0., 0., 0., 0., 0., 0.,\n",
              "       0., 0., 0., 0., 0., 0., 0., 0., 0., 0., 0., 0., 0., 0., 0., 0., 0.,\n",
              "       0., 0., 0., 0., 0., 0., 0., 0., 0., 0., 0., 0., 0., 0., 0., 0., 0.,\n",
              "       0., 0., 0., 0., 0., 0., 0., 0., 0., 0., 0., 0., 0., 0.],\n",
              "      dtype=float32)"
            ]
          },
          "metadata": {
            "tags": []
          },
          "execution_count": 9
        }
      ]
    },
    {
      "metadata": {
        "id": "sn82AYO5c2VW",
        "colab_type": "code",
        "colab": {}
      },
      "cell_type": "code",
      "source": [
        "# load list of dog names\n",
        "dog_names = [item[20:-1] for item in sorted(glob(\"data/dog_images/train/*/\"))]"
      ],
      "execution_count": 0,
      "outputs": []
    },
    {
      "metadata": {
        "id": "CcgVyvbZyX04",
        "colab_type": "code",
        "outputId": "48e81298-c7e3-44dc-af57-8ff96e24c610",
        "colab": {
          "base_uri": "https://localhost:8080/",
          "height": 34
        }
      },
      "cell_type": "code",
      "source": [
        "dog_names[0]"
      ],
      "execution_count": 0,
      "outputs": [
        {
          "output_type": "execute_result",
          "data": {
            "text/plain": [
              "'n/001.Affenpinscher'"
            ]
          },
          "metadata": {
            "tags": []
          },
          "execution_count": 11
        }
      ]
    },
    {
      "metadata": {
        "id": "en45hIKdgHhb",
        "colab_type": "code",
        "outputId": "86a83982-bc2c-409e-b750-c0d0da65a828",
        "colab": {
          "base_uri": "https://localhost:8080/",
          "height": 118
        }
      },
      "cell_type": "code",
      "source": [
        "# print statistics about the dataset\n",
        "print('There are %d total dog categories.' % len(dog_names))\n",
        "print('There are %s total dog images.\\n' % len(np.hstack([train_files, valid_files, test_files])))\n",
        "print('There are %d training dog images.' % len(train_files))\n",
        "print('There are %d validation dog images.' % len(valid_files))\n",
        "print('There are %d test dog images.'% len(test_files))"
      ],
      "execution_count": 10,
      "outputs": [
        {
          "output_type": "stream",
          "text": [
            "There are 133 total dog categories.\n",
            "There are 8351 total dog images.\n",
            "\n",
            "There are 6680 training dog images.\n",
            "There are 835 validation dog images.\n",
            "There are 836 test dog images.\n"
          ],
          "name": "stdout"
        }
      ]
    },
    {
      "metadata": {
        "id": "z7j-iF1YgHhi",
        "colab_type": "text"
      },
      "cell_type": "markdown",
      "source": [
        "### 导入人脸数据集\n",
        "\n",
        "在下方的代码单元中，我们导入人脸图像数据集，文件所在路径存储在名为 `human_files` 的 numpy 数组。"
      ]
    },
    {
      "metadata": {
        "id": "DAa_5bhBgHhj",
        "colab_type": "code",
        "outputId": "e7f1b9c1-ce34-4c78-b7b1-bf827645ad86",
        "colab": {
          "base_uri": "https://localhost:8080/",
          "height": 34
        }
      },
      "cell_type": "code",
      "source": [
        "random.seed(8675309)\n",
        "\n",
        "# 加载打乱后的人脸数据集的文件名\n",
        "human_files = np.array(glob(\"data/lfw/*/*\"))\n",
        "random.shuffle(human_files)\n",
        "\n",
        "# 打印数据集的数据量\n",
        "print('There are %d total human images.' % len(human_files))"
      ],
      "execution_count": 13,
      "outputs": [
        {
          "output_type": "stream",
          "text": [
            "There are 13233 total human images.\n"
          ],
          "name": "stdout"
        }
      ]
    },
    {
      "metadata": {
        "id": "KpGBwUZ8zEw7",
        "colab_type": "code",
        "outputId": "60b51ef9-2ae9-4075-cdac-cdd22441f78f",
        "colab": {
          "base_uri": "https://localhost:8080/",
          "height": 34
        }
      },
      "cell_type": "code",
      "source": [
        "human_files[0]"
      ],
      "execution_count": 15,
      "outputs": [
        {
          "output_type": "execute_result",
          "data": {
            "text/plain": [
              "'data/lfw/Kelvin_Sampson/Kelvin_Sampson_0002.jpg'"
            ]
          },
          "metadata": {
            "tags": []
          },
          "execution_count": 15
        }
      ]
    },
    {
      "metadata": {
        "id": "Bh7QBB9IgHhn",
        "colab_type": "text"
      },
      "cell_type": "markdown",
      "source": [
        "---\n",
        "<a id='step1'></a>\n",
        "## 步骤1：检测人脸\n",
        " \n",
        "我们将使用 OpenCV 中的 [Haar feature-based cascade classifiers](http://docs.opencv.org/trunk/d7/d8b/tutorial_py_face_detection.html) 来检测图像中的人脸。OpenCV 提供了很多预训练的人脸检测模型，它们以XML文件保存在 [github](https://github.com/opencv/opencv/tree/master/data/haarcascades)。我们已经下载了其中一个检测模型，并且把它存储在 `haarcascades` 的目录中。\n",
        "\n",
        "在如下代码单元中，我们将演示如何使用这个检测模型在样本图像中找到人脸。"
      ]
    },
    {
      "metadata": {
        "id": "Ng6lQTWlgHho",
        "colab_type": "code",
        "outputId": "3967af3a-10fe-4327-a312-fd53b44171d9",
        "colab": {
          "base_uri": "https://localhost:8080/",
          "height": 286
        }
      },
      "cell_type": "code",
      "source": [
        "# 提取预训练的人脸检测模型\n",
        "face_cascade = cv2.CascadeClassifier('haarcascades/haarcascade_frontalface_alt.xml')\n",
        "\n",
        "# 加载彩色（通道顺序为BGR）图像\n",
        "img = cv2.imread(human_files[3])\n",
        "\n",
        "# 将BGR图像进行灰度处理\n",
        "gray = cv2.cvtColor(img, cv2.COLOR_BGR2GRAY)\n",
        "\n",
        "# 在图像中找出脸\n",
        "faces = face_cascade.detectMultiScale(gray)\n",
        "\n",
        "# 打印图像中检测到的脸的个数\n",
        "print('Number of faces detected:', len(faces))\n",
        "\n",
        "# 获取每一个所检测到的脸的识别框\n",
        "for (x,y,w,h) in faces:\n",
        "    # 在人脸图像中绘制出识别框\n",
        "    cv2.rectangle(img,(x,y),(x+w,y+h),(255,0,0),2)\n",
        "    \n",
        "# 将BGR图像转变为RGB图像以打印\n",
        "cv_rgb = cv2.cvtColor(img, cv2.COLOR_BGR2RGB)\n",
        "\n",
        "# 展示含有识别框的图像\n",
        "plt.imshow(cv_rgb)\n",
        "plt.show()"
      ],
      "execution_count": 16,
      "outputs": [
        {
          "output_type": "stream",
          "text": [
            "Number of faces detected: 1\n"
          ],
          "name": "stdout"
        },
        {
          "output_type": "display_data",
          "data": {
            "image/png": "[encoded data removed]",
            "text/plain": [
              "<Figure size 432x288 with 1 Axes>"
            ]
          },
          "metadata": {
            "tags": []
          }
        }
      ]
    },
    {
      "metadata": {
        "id": "FSS5p_CzgHhs",
        "colab_type": "text"
      },
      "cell_type": "markdown",
      "source": [
        "在使用任何一个检测模型之前，将图像转换为灰度图是常用过程。`detectMultiScale` 函数使用储存在 `face_cascade` 中的的数据，对输入的灰度图像进行分类。\n",
        "\n",
        "在上方的代码中，`faces` 以 numpy 数组的形式，保存了识别到的面部信息。它其中每一行表示一个被检测到的脸，该数据包括如下四个信息：前两个元素  `x`、`y` 代表识别框左上角的 x 和 y 坐标（参照上图，注意 y 坐标的方向和我们默认的方向不同）；后两个元素代表识别框在 x 和 y 轴两个方向延伸的长度 `w` 和 `d`。 \n",
        "\n",
        "### 写一个人脸识别器\n",
        "\n",
        "我们可以将这个程序封装为一个函数。该函数的输入为人脸图像的**路径**，当图像中包含人脸时，该函数返回 `True`，反之返回 `False`。该函数定义如下所示。"
      ]
    },
    {
      "metadata": {
        "id": "6OhFnlqugHht",
        "colab_type": "code",
        "colab": {}
      },
      "cell_type": "code",
      "source": [
        "# 如果img_path路径表示的图像检测到了脸，返回\"True\" \n",
        "def face_detector(img_path):\n",
        "    img = cv2.imread(img_path)\n",
        "    gray = cv2.cvtColor(img, cv2.COLOR_BGR2GRAY)\n",
        "    faces = face_cascade.detectMultiScale(gray)\n",
        "    return len(faces) > 0"
      ],
      "execution_count": 0,
      "outputs": []
    },
    {
      "metadata": {
        "id": "8_lEltKegHhw",
        "colab_type": "text"
      },
      "cell_type": "markdown",
      "source": [
        "### **【练习】** 评估人脸检测模型"
      ]
    },
    {
      "metadata": {
        "id": "cnH-z0imgHhy",
        "colab_type": "text"
      },
      "cell_type": "markdown",
      "source": [
        "\n",
        "---\n",
        "\n",
        "<a id='question1'></a>\n",
        "### __问题 1:__ \n",
        "\n",
        "在下方的代码块中，使用 `face_detector` 函数，计算：\n",
        "\n",
        "- `human_files` 的前100张图像中，能够检测到**人脸**的图像占比多少？\n",
        "- `dog_files` 的前100张图像中，能够检测到**人脸**的图像占比多少？\n",
        "\n",
        "理想情况下，人图像中检测到人脸的概率应当为100%，而狗图像中检测到人脸的概率应该为0%。你会发现我们的算法并非完美，但结果仍然是可以接受的。我们从每个数据集中提取前100个图像的文件路径，并将它们存储在`human_files_short`和`dog_files_short`中。"
      ]
    },
    {
      "metadata": {
        "id": "lGPCvR7lgHhz",
        "colab_type": "code",
        "colab": {}
      },
      "cell_type": "code",
      "source": [
        "human_files_short = human_files[:100]\n",
        "dog_files_short = train_files[:100]"
      ],
      "execution_count": 0,
      "outputs": []
    },
    {
      "metadata": {
        "id": "l5RfVRwLPgrZ",
        "colab_type": "code",
        "colab": {}
      },
      "cell_type": "code",
      "source": [
        "## TODO: 基于human_files_short和dog_files_short\n",
        "## 中的图像测试face_detector的表现\n",
        "\n",
        "def detect(detector, files):\n",
        "    # return np.mean([detector(f) for f in files]) # 或这种写法\n",
        "    return np.mean(list(map(detector, files)))"
      ],
      "execution_count": 0,
      "outputs": []
    },
    {
      "metadata": {
        "id": "QArMkXk-A9oB",
        "colab_type": "code",
        "colab": {}
      },
      "cell_type": "code",
      "source": [
        "human_num = detect(face_detector, human_files_short)\n",
        "dog_num = detect(face_detector, dog_files_short)"
      ],
      "execution_count": 0,
      "outputs": []
    },
    {
      "metadata": {
        "id": "4Q6F28-ePNxI",
        "colab_type": "code",
        "outputId": "f6c870bc-97e3-416e-b754-7ea402efc0bb",
        "colab": {
          "base_uri": "https://localhost:8080/",
          "height": 50
        }
      },
      "cell_type": "code",
      "source": [
        "print(f\"In human files, {human_num *100}% of the first 100 images have a detected human face.\")\n",
        "print(f\"In dog files, {dog_num*100}% of the first 100 images have a detected human face.\")"
      ],
      "execution_count": 21,
      "outputs": [
        {
          "output_type": "stream",
          "text": [
            "In human files, 100.0% of the first 100 images have a detected human face.\n",
            "In dog files, 12.0% of the first 100 images have a detected human face.\n"
          ],
          "name": "stdout"
        }
      ]
    },
    {
      "metadata": {
        "id": "uFrB4e2cgHh2",
        "colab_type": "text"
      },
      "cell_type": "markdown",
      "source": [
        "---\n",
        "\n",
        "<a id='question2'></a>\n",
        "\n",
        "### __问题 2:__ \n",
        "\n",
        "就算法而言，该算法成功与否的关键在于，用户能否提供含有清晰面部特征的人脸图像。\n",
        "那么你认为，这样的要求在实际使用中对用户合理吗？如果你觉得不合理，你能否想到一个方法，即使图像中并没有清晰的面部特征，也能够检测到人脸？\n",
        "\n",
        "__回答:__\n",
        "不合理。尽管在一些安全领域需要用户提供清晰的面部图像，如身份识别、黑名单监控等；但在另一些领域则不需要清晰的面部图像，如客流量统计等。\n",
        "\n",
        "可使用一些深度学习的算法如FaceNet\n"
      ]
    },
    {
      "metadata": {
        "id": "MQVmydbZgHh3",
        "colab_type": "text"
      },
      "cell_type": "markdown",
      "source": [
        "---\n",
        "\n",
        "<a id='Selection1'></a>\n",
        "### 选做：\n",
        "\n",
        "我们建议在你的算法中使用opencv的人脸检测模型去检测人类图像，不过你可以自由地探索其他的方法，尤其是尝试使用深度学习来解决它:)。请用下方的代码单元来设计和测试你的面部监测算法。如果你决定完成这个_选做_任务，你需要报告算法在每一个数据集上的表现。"
      ]
    },
    {
      "metadata": {
        "id": "PBKTknnsgHh3",
        "colab_type": "code",
        "colab": {}
      },
      "cell_type": "code",
      "source": [
        "## (选做) TODO: 报告另一个面部检测算法在LFW数据集上的表现\n",
        "### 你可以随意使用所需的代码单元数"
      ],
      "execution_count": 0,
      "outputs": []
    },
    {
      "metadata": {
        "id": "WjAnNTnwgHh7",
        "colab_type": "text"
      },
      "cell_type": "markdown",
      "source": [
        "---\n",
        "<a id='step2'></a>\n",
        "\n",
        "## 步骤 2: 检测狗狗\n",
        "\n",
        "在这个部分中，我们使用预训练的 [ResNet-50](http://ethereon.github.io/netscope/#/gist/db945b393d40bfa26006) 模型去检测图像中的狗。下方的第一行代码就是下载了 ResNet-50 模型的网络结构参数，以及基于 [ImageNet](http://www.image-net.org/) 数据集的预训练权重。\n",
        "\n",
        "ImageNet 这目前一个非常流行的数据集，常被用来测试图像分类等计算机视觉任务相关的算法。它包含超过一千万个 URL，每一个都链接到 [1000 categories](https://gist.github.com/yrevar/942d3a0ac09ec9e5eb3a) 中所对应的一个物体的图像。任给输入一个图像，该 ResNet-50 模型会返回一个对图像中物体的预测结果。"
      ]
    },
    {
      "metadata": {
        "id": "W5_bvlEggHh9",
        "colab_type": "code",
        "outputId": "e00c3384-241b-40c0-8e75-fedf1c6777cb",
        "colab": {
          "base_uri": "https://localhost:8080/",
          "height": 121
        }
      },
      "cell_type": "code",
      "source": [
        "# 定义ResNet50模型\n",
        "ResNet50_model = ResNet50(weights='imagenet')"
      ],
      "execution_count": 23,
      "outputs": [
        {
          "output_type": "stream",
          "text": [
            "WARNING:tensorflow:From /usr/local/lib/python3.6/dist-packages/tensorflow/python/framework/op_def_library.py:263: colocate_with (from tensorflow.python.framework.ops) is deprecated and will be removed in a future version.\n",
            "Instructions for updating:\n",
            "Colocations handled automatically by placer.\n",
            "Downloading data from https://github.com/fchollet/deep-learning-models/releases/download/v0.2/resnet50_weights_tf_dim_ordering_tf_kernels.h5\n",
            "102858752/102853048 [==============================] - 3s 0us/step\n"
          ],
          "name": "stdout"
        }
      ]
    },
    {
      "metadata": {
        "id": "VxJv3ohBgHiB",
        "colab_type": "text"
      },
      "cell_type": "markdown",
      "source": [
        "### 数据预处理\n",
        "\n",
        "- 在使用 TensorFlow 作为后端的时候，在 Keras 中，CNN 的输入是一个4维数组（也被称作4维张量），它的各维度尺寸为 `(nb_samples, rows, columns, channels)`。其中 `nb_samples` 表示图像（或者样本）的总数，`rows`, `columns`, 和 `channels` 分别表示图像的行数、列数和通道数。\n",
        "\n",
        "\n",
        "- 下方的 `path_to_tensor` 函数实现如下将彩色图像的字符串型的文件路径作为输入，返回一个4维张量，作为 Keras CNN 输入。因为我们的输入图像是彩色图像，因此它们具有三个通道（ `channels` 为 `3`）。\n",
        "    1. 该函数首先读取一张图像，然后将其缩放为 224×224 的图像。\n",
        "    2. 随后，该图像被调整为具有4个维度的张量。\n",
        "    3. 对于任一输入图像，最后返回的张量的维度是：`(1, 224, 224, 3)`。\n",
        "\n",
        "\n",
        "- `paths_to_tensor` 函数将图像路径的字符串组成的 numpy 数组作为输入，并返回一个4维张量，各维度尺寸为 `(nb_samples, 224, 224, 3)`。 在这里，`nb_samples`是提供的图像路径的数据中的样本数量或图像数量。你也可以将 `nb_samples` 理解为数据集中3维张量的个数（每个3维张量表示一个不同的图像。"
      ]
    },
    {
      "metadata": {
        "id": "075duavKgHiB",
        "colab_type": "code",
        "colab": {}
      },
      "cell_type": "code",
      "source": [
        "#from keras.preprocessing import image                  \n",
        "#from tqdm import tqdm\n",
        "\n",
        "def path_to_tensor(img_path):\n",
        "    # 用PIL加载RGB图像为PIL.Image.Image类型\n",
        "    img = image.load_img(img_path, target_size=(224, 224))\n",
        "    # 将PIL.Image.Image类型转化为格式为(224, 224, 3)的3维张量\n",
        "    x = image.img_to_array(img)\n",
        "    # 将3维张量转化为格式为(1, 224, 224, 3)的4维张量并返回\n",
        "    return np.expand_dims(x, axis=0)\n",
        "\n",
        "def paths_to_tensor(img_paths):\n",
        "    list_of_tensors = [path_to_tensor(img_path) for img_path in tqdm(img_paths)]\n",
        "    return np.vstack(list_of_tensors)"
      ],
      "execution_count": 0,
      "outputs": []
    },
    {
      "metadata": {
        "id": "2FESuLJJgHiE",
        "colab_type": "text"
      },
      "cell_type": "markdown",
      "source": [
        "### 基于 ResNet-50 架构进行预测\n",
        "\n",
        "对于通过上述步骤得到的四维张量，在把它们输入到 ResNet-50 网络、或 Keras 中其他类似的预训练模型之前，还需要进行一些额外的处理：\n",
        "1. 首先，这些图像的通道顺序为 RGB，我们需要重排他们的通道顺序为 BGR。\n",
        "2. 其次，预训练模型的输入都进行了额外的归一化过程。因此我们在这里也要对这些张量进行归一化，即对所有图像所有像素都减去像素均值 `[103.939, 116.779, 123.68]`（以 RGB 模式表示，根据所有的 ImageNet 图像算出）。\n",
        "\n",
        "导入的 `preprocess_input` 函数实现了这些功能。如果你对此很感兴趣，可以在 [这里](https://github.com/fchollet/keras/blob/master/keras/applications/imagenet_utils.py) 查看 `preprocess_input`的代码。\n",
        "\n",
        "\n",
        "在实现了图像处理的部分之后，我们就可以使用模型来进行预测。这一步通过 `predict` 方法来实现，它返回一个向量，向量的第 i 个元素表示该图像属于第 i 个 ImageNet 类别的概率。这通过如下的 `ResNet50_predict_labels` 函数实现。\n",
        "\n",
        "通过对预测出的向量取用 argmax 函数（找到有最大概率值的下标序号），我们可以得到一个整数，即模型预测到的物体的类别。进而根据这个 [清单](https://gist.github.com/yrevar/942d3a0ac09ec9e5eb3a)，我们能够知道这具体是哪个品种的狗狗。\n"
      ]
    },
    {
      "metadata": {
        "id": "pxWaJNK0gHiF",
        "colab_type": "code",
        "colab": {}
      },
      "cell_type": "code",
      "source": [
        "#from keras.applications.resnet50 import preprocess_input, decode_predictions\n",
        "def ResNet50_predict_labels(img_path):\n",
        "    # 返回img_path路径的图像的预测向量\n",
        "    img = preprocess_input(path_to_tensor(img_path))\n",
        "    return np.argmax(ResNet50_model.predict(img))"
      ],
      "execution_count": 0,
      "outputs": []
    },
    {
      "metadata": {
        "id": "bBX4s1vegHiI",
        "colab_type": "text"
      },
      "cell_type": "markdown",
      "source": [
        "### 完成狗检测模型\n",
        "\n",
        "\n",
        "在研究该 [清单](https://gist.github.com/yrevar/942d3a0ac09ec9e5eb3a) 的时候，你会注意到，狗类别对应的序号为151-268。因此，在检查预训练模型判断图像是否包含狗的时候，我们只需要检查如上的 `ResNet50_predict_labels` 函数是否返回一个介于151和268之间（包含区间端点）的值。\n",
        "\n",
        "我们通过这些想法来完成下方的 `dog_detector` 函数，如果从图像中检测到狗就返回 `True`，否则返回 `False`。"
      ]
    },
    {
      "metadata": {
        "id": "j0auUpWYgHiJ",
        "colab_type": "code",
        "colab": {}
      },
      "cell_type": "code",
      "source": [
        "def dog_detector(img_path):\n",
        "    prediction = ResNet50_predict_labels(img_path)\n",
        "    return ((prediction <= 268) & (prediction >= 151)) "
      ],
      "execution_count": 0,
      "outputs": []
    },
    {
      "metadata": {
        "id": "-Si_BoX8gHiL",
        "colab_type": "text"
      },
      "cell_type": "markdown",
      "source": [
        "### 【作业】评估狗狗检测模型\n",
        "\n",
        "---\n",
        "\n",
        "<a id='question3'></a>\n",
        "### __问题 3:__ \n",
        "\n",
        "在下方的代码块中，使用 `dog_detector` 函数，计算：\n",
        "\n",
        "- `human_files_short`中图像检测到狗狗的百分比？\n",
        "- `dog_files_short`中图像检测到狗狗的百分比？"
      ]
    },
    {
      "metadata": {
        "id": "l1nkUMyHgHiM",
        "colab_type": "code",
        "outputId": "ac3b604e-f5de-420f-fbae-e4b10d9de6d6",
        "colab": {
          "base_uri": "https://localhost:8080/",
          "height": 50
        }
      },
      "cell_type": "code",
      "source": [
        "### TODO: 测试dog_detector函数在human_files_short和dog_files_short的表现\n",
        "human_num = detect(dog_detector, human_files_short)\n",
        "dog_num = detect(dog_detector, dog_files_short)\n",
        "\n",
        "print(f\"In human files, {human_num*100}% of the first 100 images have a detected human face.\")\n",
        "print(f\"In dog files, {dog_num*100}% of the first 100 images have a detected human face.\")"
      ],
      "execution_count": 27,
      "outputs": [
        {
          "output_type": "stream",
          "text": [
            "In human files, 2.0% of the first 100 images have a detected human face.\n",
            "In dog files, 100.0% of the first 100 images have a detected human face.\n"
          ],
          "name": "stdout"
        }
      ]
    },
    {
      "metadata": {
        "id": "8V2fcF29gHiP",
        "colab_type": "text"
      },
      "cell_type": "markdown",
      "source": [
        "---\n",
        "\n",
        "<a id='step3'></a>\n",
        "\n",
        "## 步骤 3: 从头开始创建一个CNN来分类狗品种\n",
        "\n",
        "\n",
        "现在我们已经实现了一个函数，能够在图像中识别人类及狗狗。但我们需要更进一步的方法，来对狗的类别进行识别。在这一步中，你需要实现一个卷积神经网络来对狗的品种进行分类。你需要__从头实现__你的卷积神经网络（在这一阶段，你还不能使用迁移学习），并且你需要达到超过1%的测试集准确率。在本项目的步骤五种，你还有机会使用迁移学习来实现一个准确率大大提高的模型。\n",
        "\n",
        "在添加卷积层的时候，注意不要加上太多的（可训练的）层。更多的参数意味着更长的训练时间，也就是说你更可能需要一个 GPU 来加速训练过程。万幸的是，Keras 提供了能够轻松预测每次迭代（epoch）花费时间所需的函数。你可以据此推断你算法所需的训练时间。\n",
        "\n",
        "值得注意的是，对狗的图像进行分类是一项极具挑战性的任务。因为即便是一个正常人，也很难区分布列塔尼犬和威尔士史宾格犬。\n",
        "\n",
        "布列塔尼犬（Brittany） | 威尔士史宾格犬（Welsh Springer Spaniel）\n",
        "- | - \n",
        "<img src=\"images/Brittany_02625.jpg\" width=\"100\"> | <img src=\"images/Welsh_springer_spaniel_08203.jpg\" width=\"200\">\n",
        "\n",
        "不难发现其他的狗品种会有很小的类间差别（比如金毛寻回犬和美国水猎犬）。\n",
        "\n",
        "\n",
        "金毛寻回犬（Curly-Coated Retriever） | 美国水猎犬（American Water Spaniel）\n",
        "- | -\n",
        "<img src=\"images/Curly-coated_retriever_03896.jpg\" width=\"200\"> | <img src=\"images/American_water_spaniel_00648.jpg\" width=\"200\">\n",
        "\n",
        "同样，拉布拉多犬（labradors）有黄色、棕色和黑色这三种。那么你设计的基于视觉的算法将不得不克服这种较高的类间差别，以达到能够将这些不同颜色的同类狗分到同一个品种中。\n",
        "\n",
        "黄色拉布拉多犬（Yellow Labrador） | 棕色拉布拉多犬（Chocolate Labrador） | 黑色拉布拉多犬（Black Labrador）\n",
        "- | -\n",
        "<img src=\"images/Labrador_retriever_06457.jpg\" width=\"150\"> | <img src=\"images/Labrador_retriever_06455.jpg\" width=\"240\"> | <img src=\"images/Labrador_retriever_06449.jpg\" width=\"220\">\n",
        "\n",
        "我们也提到了随机分类将得到一个非常低的结果：不考虑品种略有失衡的影响，随机猜测到正确品种的概率是1/133，相对应的准确率是低于1%的。\n",
        "\n",
        "请记住，在深度学习领域，实践远远高于理论。大量尝试不同的框架吧，相信你的直觉！当然，玩得开心！\n",
        "\n",
        "\n",
        "### 数据预处理\n",
        "\n",
        "\n",
        "通过对每张图像的像素值除以255，我们对图像实现了归一化处理。"
      ]
    },
    {
      "metadata": {
        "id": "fuWQ0902gHiP",
        "colab_type": "code",
        "outputId": "c3bec3f7-6ccb-4691-8605-4e5f450297e5",
        "colab": {
          "base_uri": "https://localhost:8080/",
          "height": 67
        }
      },
      "cell_type": "code",
      "source": [
        "#from PIL import ImageFile                            \n",
        "ImageFile.LOAD_TRUNCATED_IMAGES = True                 \n",
        "\n",
        "# Keras中的数据预处理过程\n",
        "train_tensors = paths_to_tensor(train_files).astype('float32')/255\n",
        "valid_tensors = paths_to_tensor(valid_files).astype('float32')/255\n",
        "test_tensors = paths_to_tensor(test_files).astype('float32')/255"
      ],
      "execution_count": 28,
      "outputs": [
        {
          "output_type": "stream",
          "text": [
            "100%|██████████| 6680/6680 [01:01<00:00, 108.88it/s]\n",
            "100%|██████████| 835/835 [00:07<00:00, 107.69it/s]\n",
            "100%|██████████| 836/836 [00:07<00:00, 114.43it/s]\n"
          ],
          "name": "stderr"
        }
      ]
    },
    {
      "metadata": {
        "id": "w-pp9ZnwKtq_",
        "colab_type": "code",
        "colab": {
          "base_uri": "https://localhost:8080/",
          "height": 5174
        },
        "outputId": "20b00cdf-e217-475d-fb10-4ca2e8aca243"
      },
      "cell_type": "code",
      "source": [
        "train_tensors"
      ],
      "execution_count": 29,
      "outputs": [
        {
          "output_type": "execute_result",
          "data": {
            "text/plain": [
              "array([[[[0.60784316, 0.61960787, 0.69411767],\n",
              "         [0.6627451 , 0.6509804 , 0.7254902 ],\n",
              "         [0.6392157 , 0.65882355, 0.7372549 ],\n",
              "         ...,\n",
              "         [0.5882353 , 0.6       , 0.6745098 ],\n",
              "         [0.57254905, 0.58431375, 0.65882355],\n",
              "         [0.5529412 , 0.5803922 , 0.6509804 ]],\n",
              "\n",
              "        [[0.6627451 , 0.67058825, 0.7294118 ],\n",
              "         [0.6392157 , 0.63529414, 0.69803923],\n",
              "         [0.6039216 , 0.6313726 , 0.7019608 ],\n",
              "         ...,\n",
              "         [0.54509807, 0.5803922 , 0.64705884],\n",
              "         [0.5568628 , 0.5764706 , 0.6509804 ],\n",
              "         [0.5411765 , 0.5686275 , 0.6392157 ]],\n",
              "\n",
              "        [[0.59607846, 0.6039216 , 0.6627451 ],\n",
              "         [0.64705884, 0.65882355, 0.7176471 ],\n",
              "         [0.6392157 , 0.6745098 , 0.7411765 ],\n",
              "         ...,\n",
              "         [0.5529412 , 0.6       , 0.654902  ],\n",
              "         [0.5529412 , 0.5803922 , 0.6509804 ],\n",
              "         [0.54509807, 0.57254905, 0.64705884]],\n",
              "\n",
              "        ...,\n",
              "\n",
              "        [[0.14509805, 0.13333334, 0.07450981],\n",
              "         [0.14117648, 0.13333334, 0.08627451],\n",
              "         [0.16470589, 0.14117648, 0.08627451],\n",
              "         ...,\n",
              "         [0.6431373 , 0.65882355, 0.7058824 ],\n",
              "         [0.6117647 , 0.61960787, 0.6784314 ],\n",
              "         [0.60784316, 0.6313726 , 0.69411767]],\n",
              "\n",
              "        [[0.14117648, 0.12941177, 0.05490196],\n",
              "         [0.15294118, 0.12941177, 0.06666667],\n",
              "         [0.15686275, 0.14117648, 0.09803922],\n",
              "         ...,\n",
              "         [0.5921569 , 0.6313726 , 0.6666667 ],\n",
              "         [0.5882353 , 0.5921569 , 0.6627451 ],\n",
              "         [0.6117647 , 0.62352943, 0.6901961 ]],\n",
              "\n",
              "        [[0.13333334, 0.12156863, 0.0627451 ],\n",
              "         [0.14117648, 0.11764706, 0.0627451 ],\n",
              "         [0.15294118, 0.13725491, 0.10196079],\n",
              "         ...,\n",
              "         [0.6039216 , 0.6431373 , 0.68235296],\n",
              "         [0.59607846, 0.6       , 0.67058825],\n",
              "         [0.60784316, 0.627451  , 0.7019608 ]]],\n",
              "\n",
              "\n",
              "       [[[0.6313726 , 0.38431373, 0.01960784],\n",
              "         [0.63529414, 0.3882353 , 0.02352941],\n",
              "         [0.6313726 , 0.38431373, 0.01176471],\n",
              "         ...,\n",
              "         [0.4745098 , 0.08627451, 0.00392157],\n",
              "         [0.44705883, 0.08627451, 0.        ],\n",
              "         [0.47058824, 0.10980392, 0.01960784]],\n",
              "\n",
              "        [[0.63529414, 0.3882353 , 0.02352941],\n",
              "         [0.6313726 , 0.38431373, 0.01960784],\n",
              "         [0.6392157 , 0.39215687, 0.01960784],\n",
              "         ...,\n",
              "         [0.4862745 , 0.09019608, 0.01176471],\n",
              "         [0.4509804 , 0.08235294, 0.        ],\n",
              "         [0.4745098 , 0.10588235, 0.00784314]],\n",
              "\n",
              "        [[0.63529414, 0.3882353 , 0.02352941],\n",
              "         [0.627451  , 0.38039216, 0.01568628],\n",
              "         [0.6431373 , 0.39607844, 0.02352941],\n",
              "         ...,\n",
              "         [0.4862745 , 0.09019608, 0.01176471],\n",
              "         [0.44313726, 0.06666667, 0.        ],\n",
              "         [0.4627451 , 0.08627451, 0.        ]],\n",
              "\n",
              "        ...,\n",
              "\n",
              "        [[0.21176471, 0.10980392, 0.05098039],\n",
              "         [0.21568628, 0.11372549, 0.05490196],\n",
              "         [0.19607843, 0.10588235, 0.04313726],\n",
              "         ...,\n",
              "         [0.21568628, 0.10588235, 0.10196079],\n",
              "         [0.23921569, 0.11372549, 0.07058824],\n",
              "         [0.25490198, 0.12941177, 0.08627451]],\n",
              "\n",
              "        [[0.20392157, 0.10196079, 0.04313726],\n",
              "         [0.21176471, 0.10980392, 0.05098039],\n",
              "         [0.19607843, 0.10588235, 0.04313726],\n",
              "         ...,\n",
              "         [0.19607843, 0.08627451, 0.08235294],\n",
              "         [0.22352941, 0.09803922, 0.05490196],\n",
              "         [0.24313726, 0.11764706, 0.07450981]],\n",
              "\n",
              "        [[0.19607843, 0.09411765, 0.03529412],\n",
              "         [0.22352941, 0.12156863, 0.0627451 ],\n",
              "         [0.20392157, 0.11372549, 0.05098039],\n",
              "         ...,\n",
              "         [0.14117648, 0.04313726, 0.02745098],\n",
              "         [0.19215687, 0.07450981, 0.04313726],\n",
              "         [0.20784314, 0.09019608, 0.05882353]]],\n",
              "\n",
              "\n",
              "       [[[0.61960787, 0.62352943, 0.6039216 ],\n",
              "         [0.627451  , 0.6313726 , 0.6117647 ],\n",
              "         [0.627451  , 0.6313726 , 0.6117647 ],\n",
              "         ...,\n",
              "         [0.34901962, 0.3529412 , 0.32941177],\n",
              "         [0.35686275, 0.36078432, 0.3372549 ],\n",
              "         [0.35686275, 0.36078432, 0.3372549 ]],\n",
              "\n",
              "        [[0.61960787, 0.62352943, 0.6039216 ],\n",
              "         [0.627451  , 0.6313726 , 0.6117647 ],\n",
              "         [0.6313726 , 0.63529414, 0.6156863 ],\n",
              "         ...,\n",
              "         [0.34901962, 0.3529412 , 0.32941177],\n",
              "         [0.35686275, 0.36078432, 0.3372549 ],\n",
              "         [0.35686275, 0.36078432, 0.3372549 ]],\n",
              "\n",
              "        [[0.61960787, 0.62352943, 0.6039216 ],\n",
              "         [0.627451  , 0.6313726 , 0.6117647 ],\n",
              "         [0.63529414, 0.6392157 , 0.61960787],\n",
              "         ...,\n",
              "         [0.34901962, 0.3529412 , 0.32941177],\n",
              "         [0.35686275, 0.36078432, 0.3372549 ],\n",
              "         [0.35686275, 0.36078432, 0.3372549 ]],\n",
              "\n",
              "        ...,\n",
              "\n",
              "        [[0.53333336, 0.40784314, 0.46666667],\n",
              "         [0.5372549 , 0.41568628, 0.47843137],\n",
              "         [0.5254902 , 0.4117647 , 0.48235294],\n",
              "         ...,\n",
              "         [0.5254902 , 0.40392157, 0.42745098],\n",
              "         [0.52156866, 0.4       , 0.43137255],\n",
              "         [0.5764706 , 0.4509804 , 0.49411765]],\n",
              "\n",
              "        [[0.2509804 , 0.19215687, 0.21176471],\n",
              "         [0.5254902 , 0.43137255, 0.4862745 ],\n",
              "         [0.5647059 , 0.44313726, 0.5137255 ],\n",
              "         ...,\n",
              "         [0.57254905, 0.44313726, 0.47058824],\n",
              "         [0.4862745 , 0.35686275, 0.38431373],\n",
              "         [0.56078434, 0.43137255, 0.45882353]],\n",
              "\n",
              "        [[0.1882353 , 0.20392157, 0.2       ],\n",
              "         [0.30588236, 0.26666668, 0.3019608 ],\n",
              "         [0.5058824 , 0.42352942, 0.48235294],\n",
              "         ...,\n",
              "         [0.6117647 , 0.48235294, 0.50980395],\n",
              "         [0.5294118 , 0.4       , 0.42745098],\n",
              "         [0.5568628 , 0.42745098, 0.45490196]]],\n",
              "\n",
              "\n",
              "       ...,\n",
              "\n",
              "\n",
              "       [[[0.0627451 , 0.1254902 , 0.08235294],\n",
              "         [0.06666667, 0.12941177, 0.09019608],\n",
              "         [0.05882353, 0.12156863, 0.08235294],\n",
              "         ...,\n",
              "         [0.28235295, 0.5019608 , 0.35686275],\n",
              "         [0.2901961 , 0.50980395, 0.37254903],\n",
              "         [0.32156864, 0.5254902 , 0.38431373]],\n",
              "\n",
              "        [[0.07843138, 0.14117648, 0.09019608],\n",
              "         [0.06666667, 0.13725491, 0.09019608],\n",
              "         [0.05882353, 0.12941177, 0.08235294],\n",
              "         ...,\n",
              "         [0.25882354, 0.49803922, 0.3372549 ],\n",
              "         [0.2627451 , 0.49803922, 0.34901962],\n",
              "         [0.30980393, 0.5294118 , 0.3764706 ]],\n",
              "\n",
              "        [[0.09019608, 0.16078432, 0.09803922],\n",
              "         [0.06666667, 0.14901961, 0.09019608],\n",
              "         [0.0627451 , 0.15294118, 0.09019608],\n",
              "         ...,\n",
              "         [0.24705882, 0.4745098 , 0.3137255 ],\n",
              "         [0.2627451 , 0.49019608, 0.33333334],\n",
              "         [0.29803923, 0.5137255 , 0.35686275]],\n",
              "\n",
              "        ...,\n",
              "\n",
              "        [[0.85882354, 0.77254903, 0.78039217],\n",
              "         [0.8862745 , 0.8117647 , 0.81960785],\n",
              "         [0.92941177, 0.8745098 , 0.8745098 ],\n",
              "         ...,\n",
              "         [0.16862746, 0.34117648, 0.2509804 ],\n",
              "         [0.28235295, 0.4745098 , 0.3882353 ],\n",
              "         [0.32156864, 0.5019608 , 0.3882353 ]],\n",
              "\n",
              "        [[0.8       , 0.73333335, 0.7647059 ],\n",
              "         [0.9372549 , 0.85882354, 0.8666667 ],\n",
              "         [0.9254902 , 0.84705883, 0.8509804 ],\n",
              "         ...,\n",
              "         [0.        , 0.16078432, 0.05098039],\n",
              "         [0.11372549, 0.28235295, 0.17254902],\n",
              "         [0.14117648, 0.37254903, 0.24705882]],\n",
              "\n",
              "        [[0.8352941 , 0.7764706 , 0.8039216 ],\n",
              "         [0.8784314 , 0.8156863 , 0.81960785],\n",
              "         [0.8509804 , 0.7882353 , 0.7882353 ],\n",
              "         ...,\n",
              "         [0.03921569, 0.20784314, 0.09019608],\n",
              "         [0.21960784, 0.38039216, 0.25490198],\n",
              "         [0.10196079, 0.2784314 , 0.14901961]]],\n",
              "\n",
              "\n",
              "       [[[0.7254902 , 0.6627451 , 0.6117647 ],\n",
              "         [0.5529412 , 0.49019608, 0.4392157 ],\n",
              "         [0.67058825, 0.5921569 , 0.54901963],\n",
              "         ...,\n",
              "         [0.6392157 , 0.5647059 , 0.5411765 ],\n",
              "         [0.7529412 , 0.68235296, 0.6431373 ],\n",
              "         [0.654902  , 0.58431375, 0.5294118 ]],\n",
              "\n",
              "        [[0.6156863 , 0.5529412 , 0.5019608 ],\n",
              "         [0.6431373 , 0.5803922 , 0.5294118 ],\n",
              "         [0.72156864, 0.6431373 , 0.6       ],\n",
              "         ...,\n",
              "         [0.7647059 , 0.69411767, 0.6392157 ],\n",
              "         [0.6313726 , 0.56078434, 0.5137255 ],\n",
              "         [0.75686276, 0.6862745 , 0.6392157 ]],\n",
              "\n",
              "        [[0.68235296, 0.61960787, 0.5686275 ],\n",
              "         [0.68235296, 0.61960787, 0.5686275 ],\n",
              "         [0.6313726 , 0.5529412 , 0.50980395],\n",
              "         ...,\n",
              "         [0.63529414, 0.5686275 , 0.49019608],\n",
              "         [0.6431373 , 0.5764706 , 0.5137255 ],\n",
              "         [0.61960787, 0.54901963, 0.5019608 ]],\n",
              "\n",
              "        ...,\n",
              "\n",
              "        [[0.2784314 , 0.23921569, 0.20392157],\n",
              "         [0.03137255, 0.        , 0.        ],\n",
              "         [0.48235294, 0.43137255, 0.4       ],\n",
              "         ...,\n",
              "         [0.5647059 , 0.5137255 , 0.49019608],\n",
              "         [0.56078434, 0.50980395, 0.47843137],\n",
              "         [0.6313726 , 0.5803922 , 0.54509807]],\n",
              "\n",
              "        [[0.34509805, 0.32941177, 0.29411766],\n",
              "         [0.5019608 , 0.4745098 , 0.44313726],\n",
              "         [0.5137255 , 0.4627451 , 0.4392157 ],\n",
              "         ...,\n",
              "         [0.59607846, 0.54509807, 0.52156866],\n",
              "         [0.6117647 , 0.56078434, 0.5294118 ],\n",
              "         [0.5568628 , 0.5058824 , 0.47058824]],\n",
              "\n",
              "        [[0.46666667, 0.46666667, 0.43529412],\n",
              "         [0.49803922, 0.47843137, 0.45490196],\n",
              "         [0.44705883, 0.40392157, 0.3882353 ],\n",
              "         ...,\n",
              "         [0.60784316, 0.5568628 , 0.53333336],\n",
              "         [0.6313726 , 0.5803922 , 0.54901963],\n",
              "         [0.6901961 , 0.6392157 , 0.6039216 ]]],\n",
              "\n",
              "\n",
              "       [[[0.96862745, 0.99215686, 0.9843137 ],\n",
              "         [0.96862745, 0.99215686, 0.9843137 ],\n",
              "         [0.96862745, 0.99215686, 0.9843137 ],\n",
              "         ...,\n",
              "         [0.6862745 , 0.43137255, 0.5647059 ],\n",
              "         [0.70980394, 0.45490196, 0.57254905],\n",
              "         [0.7058824 , 0.4509804 , 0.5686275 ]],\n",
              "\n",
              "        [[0.96862745, 0.99215686, 0.9843137 ],\n",
              "         [0.96862745, 0.99215686, 0.9843137 ],\n",
              "         [0.96862745, 0.99215686, 0.9843137 ],\n",
              "         ...,\n",
              "         [0.6745098 , 0.41960785, 0.5529412 ],\n",
              "         [0.6862745 , 0.43137255, 0.54901963],\n",
              "         [0.68235296, 0.43137255, 0.5372549 ]],\n",
              "\n",
              "        [[0.96862745, 0.99215686, 0.9843137 ],\n",
              "         [0.96862745, 0.99215686, 0.9843137 ],\n",
              "         [0.96862745, 0.99215686, 0.9843137 ],\n",
              "         ...,\n",
              "         [0.6666667 , 0.4117647 , 0.5372549 ],\n",
              "         [0.6666667 , 0.42352942, 0.52156866],\n",
              "         [0.6666667 , 0.42352942, 0.52156866]],\n",
              "\n",
              "        ...,\n",
              "\n",
              "        [[0.23529412, 0.33333334, 0.45490196],\n",
              "         [0.26666668, 0.35686275, 0.48235294],\n",
              "         [0.24313726, 0.33333334, 0.45882353],\n",
              "         ...,\n",
              "         [0.49019608, 0.32941177, 0.32156864],\n",
              "         [0.4862745 , 0.2901961 , 0.3254902 ],\n",
              "         [0.5019608 , 0.30588236, 0.34117648]],\n",
              "\n",
              "        [[0.2509804 , 0.34901962, 0.47058824],\n",
              "         [0.25882354, 0.35686275, 0.47843137],\n",
              "         [0.25490198, 0.34509805, 0.47058824],\n",
              "         ...,\n",
              "         [0.5019608 , 0.34117648, 0.33333334],\n",
              "         [0.49803922, 0.3019608 , 0.3372549 ],\n",
              "         [0.5058824 , 0.30980393, 0.34509805]],\n",
              "\n",
              "        [[0.25490198, 0.36078432, 0.47843137],\n",
              "         [0.27450982, 0.37254903, 0.49411765],\n",
              "         [0.2627451 , 0.36078432, 0.48235294],\n",
              "         ...,\n",
              "         [0.5568628 , 0.4       , 0.39215687],\n",
              "         [0.5176471 , 0.33333334, 0.37254903],\n",
              "         [0.49803922, 0.3137255 , 0.3529412 ]]]], dtype=float32)"
            ]
          },
          "metadata": {
            "tags": []
          },
          "execution_count": 29
        }
      ]
    },
    {
      "metadata": {
        "id": "7iAEGwF9gHiS",
        "colab_type": "text"
      },
      "cell_type": "markdown",
      "source": [
        "### 【练习】模型架构\n",
        "\n",
        "\n",
        "创建一个卷积神经网络来对狗品种进行分类。在你代码块的最后，执行 `model.summary()` 来输出你模型的总结信息。\n",
        "    \n",
        "我们已经帮你导入了一些所需的 Python 库，如有需要你可以自行导入。如果你在过程中遇到了困难，如下是给你的一点小提示——该模型能够在5个 epoch 内取得超过1%的测试准确率，并且能在CPU上很快地训练。\n",
        "\n",
        "![Sample CNN](images/sample_cnn.png)"
      ]
    },
    {
      "metadata": {
        "id": "RE8lBhNKgHiT",
        "colab_type": "text"
      },
      "cell_type": "markdown",
      "source": [
        "---\n",
        "\n",
        "<a id='question4'></a>  \n",
        "\n",
        "### __问题 4:__ \n",
        "\n",
        "在下方的代码块中尝试使用 Keras 搭建卷积网络的架构，并回答相关的问题。\n",
        "\n",
        "1. 你可以尝试自己搭建一个卷积网络的模型，那么你需要回答你搭建卷积网络的具体步骤（用了哪些层）以及为什么这样搭建。\n",
        "2. 你也可以根据上图提示的步骤搭建卷积网络，那么请说明为何如上的架构能够在该问题上取得很好的表现。\n",
        "\n",
        "__回答:__ \n",
        "- 卷积层：提取特征图\n",
        "- 池化层：提取特征图的主要特征 ->压缩图片 ->加速运算\n",
        "- 批标准化层：将激活输入值转为均值0标差1的正态分布，使其落入激活函数的数据敏感区域（远离两端极值），从而解决训练过程中的梯度消失问题。\n",
        "- 激活层relu：舍弃负值，而正值则保持不变。作为非线性函数，却具有线性函数特点。相比Sigmoid/tanh函数，relu计算更快。\n",
        "- 激活层softmax：将多个神经元的输出，映射到（0,1）区间中。因为我们最终求的是概率。"
      ]
    },
    {
      "metadata": {
        "id": "E9axXGVzOfhy",
        "colab_type": "code",
        "outputId": "28d72188-27b4-47c7-c235-7d2ea6950574",
        "colab": {
          "base_uri": "https://localhost:8080/",
          "height": 34
        }
      },
      "cell_type": "code",
      "source": [
        "train_tensors.shape"
      ],
      "execution_count": 30,
      "outputs": [
        {
          "output_type": "execute_result",
          "data": {
            "text/plain": [
              "(6680, 224, 224, 3)"
            ]
          },
          "metadata": {
            "tags": []
          },
          "execution_count": 30
        }
      ]
    },
    {
      "metadata": {
        "id": "Gz7ptLj9gHiU",
        "colab_type": "code",
        "outputId": "45ccc58c-bbd5-4f5d-bcca-567610c0329e",
        "colab": {
          "base_uri": "https://localhost:8080/",
          "height": 840
        }
      },
      "cell_type": "code",
      "source": [
        "#from keras.layers import Conv2D, MaxPooling2D, GlobalAveragePooling2D\n",
        "#from keras.layers import Dropout, Flatten, Dense\n",
        "#from keras.models import Sequential\n",
        "\n",
        "model = Sequential([\n",
        "    Conv2D(16, 2, padding='same', input_shape=train_tensors.shape[1:], name='conv_1'),\n",
        "    MaxPooling2D(2, strides=2, name='max_pool_1'),\n",
        "    BatchNormalization(name=\"batch_normal_1\"),\n",
        "    Activation('relu', name='act_1'),\n",
        "    Dropout(0.2, name='dropout_1'),\n",
        "    \n",
        "    Conv2D(32, 2, padding='same', name='conv_2'),\n",
        "    MaxPooling2D(2, strides=2, name='max_pool_2'),\n",
        "    BatchNormalization(name=\"batch_normal_2\"),\n",
        "    Activation('relu', name='act_2'),\n",
        "    Dropout(0.2, name='dropout_2'),\n",
        "    \n",
        "    Conv2D(64, 2, padding='same', name='conv_3'),\n",
        "    MaxPooling2D(2, strides=2, name='max_pool_3'),\n",
        "    BatchNormalization(name=\"batch_normal_3\"),\n",
        "    Activation('relu', name='act_3'),\n",
        "    Dropout(0.2, name='dropout_3'),\n",
        "    \n",
        "    GlobalAveragePooling2D(name='global_pool_1'),\n",
        "    Dense(64, name='dense_1'),\n",
        "    BatchNormalization(name=\"batch_normal_4\"),\n",
        "    Activation('relu', name='act_4'),\n",
        "    Dropout(0.2, name='dropout_4'),\n",
        "    \n",
        "    Dense(len(dog_names), activation='softmax', name='output')\n",
        "\n",
        "])\n",
        "\n",
        "                 \n",
        "model.summary()"
      ],
      "execution_count": 46,
      "outputs": [
        {
          "output_type": "stream",
          "text": [
            "_________________________________________________________________\n",
            "Layer (type)                 Output Shape              Param #   \n",
            "=================================================================\n",
            "conv_1 (Conv2D)              (None, 224, 224, 16)      208       \n",
            "_________________________________________________________________\n",
            "max_pool_1 (MaxPooling2D)    (None, 112, 112, 16)      0         \n",
            "_________________________________________________________________\n",
            "batch_normal_1 (BatchNormali (None, 112, 112, 16)      64        \n",
            "_________________________________________________________________\n",
            "act_1 (Activation)           (None, 112, 112, 16)      0         \n",
            "_________________________________________________________________\n",
            "dropout_1 (Dropout)          (None, 112, 112, 16)      0         \n",
            "_________________________________________________________________\n",
            "conv_2 (Conv2D)              (None, 112, 112, 32)      2080      \n",
            "_________________________________________________________________\n",
            "max_pool_2 (MaxPooling2D)    (None, 56, 56, 32)        0         \n",
            "_________________________________________________________________\n",
            "batch_normal_2 (BatchNormali (None, 56, 56, 32)        128       \n",
            "_________________________________________________________________\n",
            "act_2 (Activation)           (None, 56, 56, 32)        0         \n",
            "_________________________________________________________________\n",
            "dropout_2 (Dropout)          (None, 56, 56, 32)        0         \n",
            "_________________________________________________________________\n",
            "conv_3 (Conv2D)              (None, 56, 56, 64)        8256      \n",
            "_________________________________________________________________\n",
            "max_pool_3 (MaxPooling2D)    (None, 28, 28, 64)        0         \n",
            "_________________________________________________________________\n",
            "batch_normal_3 (BatchNormali (None, 28, 28, 64)        256       \n",
            "_________________________________________________________________\n",
            "act_3 (Activation)           (None, 28, 28, 64)        0         \n",
            "_________________________________________________________________\n",
            "dropout_3 (Dropout)          (None, 28, 28, 64)        0         \n",
            "_________________________________________________________________\n",
            "global_pool_1 (GlobalAverage (None, 64)                0         \n",
            "_________________________________________________________________\n",
            "dense_1 (Dense)              (None, 64)                4160      \n",
            "_________________________________________________________________\n",
            "batch_normal_4 (BatchNormali (None, 64)                256       \n",
            "_________________________________________________________________\n",
            "act_4 (Activation)           (None, 64)                0         \n",
            "_________________________________________________________________\n",
            "dropout_4 (Dropout)          (None, 64)                0         \n",
            "_________________________________________________________________\n",
            "output (Dense)               (None, 133)               8645      \n",
            "=================================================================\n",
            "Total params: 24,053\n",
            "Trainable params: 23,701\n",
            "Non-trainable params: 352\n",
            "_________________________________________________________________\n"
          ],
          "name": "stdout"
        }
      ]
    },
    {
      "metadata": {
        "id": "54-rq64ZgHiW",
        "colab_type": "code",
        "colab": {}
      },
      "cell_type": "code",
      "source": [
        "## 编译模型\n",
        "model.compile(optimizer='rmsprop', loss='categorical_crossentropy', metrics=['accuracy'])"
      ],
      "execution_count": 0,
      "outputs": []
    },
    {
      "metadata": {
        "id": "QwtqgQweXP99",
        "colab_type": "text"
      },
      "cell_type": "markdown",
      "source": [
        "**Note from Udacity Reviewer**:\n",
        "\n",
        "我更推荐你使用GlobalAveragePooling2D来取代Flatten，GlobalAveragePooling2D可以大量减少模型参数，降低过拟合的风险，同时显著降低计算成本，这也是现在主流的一些CNN架构的做法。\n",
        "\n",
        "此外，增加一些Dropout层是个明智的决定，同时你也可以添加BatchNormalization [Ref]层来降低Covariate Shift并加速运算过程，这也是主流CNN架构中的常见做法。\n",
        "\n",
        "要注意的是，使用BatchNormalization层时，我建议你在每个Conv2D或Dense层后、Activation前进行添加。这个视频演示了BatchNormalization是如何工作的。\n",
        "\n",
        "如果你决定使用BatchNormalization层，可以参考以下代码：\n",
        "```\n",
        "model.add(Conv2D(16, (3, 3), strides=(1, 1), padding='valid'))\n",
        "model.add(MaxPooling2D((2, 2)))\n",
        "model.add(BatchNormalization())\n",
        "model.add(Activation('relu'))\n",
        "```\n",
        "将MaxPooling2D提至BatchNormalization和Activation前和放在它们后面是等价的，但是放在前面可以减少模型运算量。\n",
        "\n",
        "更进一步，你可以尝试不同的模型结构，如更多的卷积层和全连接层、更多的节点数、使用不同类型的正则化层（Dropout、BatchNormalization等）、使用不同的权值初始化方案（truncated_normal、xavier等）、使用不同的激活函数（LeakyReLU、eLU等）、抉择使用Flatten还是GlobalAveragePooling2D等。\n",
        "\n",
        "在实际应用中，你需要根据场景的不同来设计不同的模型架构、使用不同的超参数。对比各类结构和超参数给模型带来的影响，有助于你更好的理解模型的结构。"
      ]
    },
    {
      "metadata": {
        "id": "vpoZEg4TgHib",
        "colab_type": "text"
      },
      "cell_type": "markdown",
      "source": [
        "---"
      ]
    },
    {
      "metadata": {
        "id": "L3kDNp-tgHid",
        "colab_type": "text"
      },
      "cell_type": "markdown",
      "source": [
        "## 【练习】训练模型\n",
        "\n",
        "\n",
        "---\n",
        "\n",
        "<a id='question5'></a>  \n",
        "\n",
        "### __问题 5:__ \n",
        "\n",
        "在下方代码单元训练模型。使用模型检查点（model checkpointing）来储存具有最低验证集 loss 的模型。\n",
        "\n",
        "可选题：你也可以对训练集进行 [数据增强](https://blog.keras.io/building-powerful-image-classification-models-using-very-little-data.html)，来优化模型的表现。\n",
        "\n"
      ]
    },
    {
      "metadata": {
        "id": "0_swjhB3gHie",
        "colab_type": "code",
        "colab": {}
      },
      "cell_type": "code",
      "source": [
        "#from keras.callbacks import ModelCheckpoint  \n",
        "\n",
        "### TODO: 设置训练模型的epochs的数量\n",
        "\n",
        "epochs = 10\n",
        "batch_size=20\n"
      ],
      "execution_count": 0,
      "outputs": []
    },
    {
      "metadata": {
        "id": "c9JqZKAuUy8K",
        "colab_type": "code",
        "outputId": "93b88332-53b9-479c-9a71-0d55c6445abb",
        "colab": {
          "base_uri": "https://localhost:8080/",
          "height": 722
        }
      },
      "cell_type": "code",
      "source": [
        "checkpointer = ModelCheckpoint(filepath='saved_models/weights.best.from_scratch.hdf5', \n",
        "                               verbose=1, save_best_only=True)\n",
        "\n",
        "model.fit(train_tensors, train_targets, \n",
        "          validation_data=(valid_tensors, valid_targets),\n",
        "          epochs = epochs, \n",
        "          batch_size = batch_size, \n",
        "          callbacks = [checkpointer], \n",
        "          verbose=2)"
      ],
      "execution_count": 49,
      "outputs": [
        {
          "output_type": "stream",
          "text": [
            "Train on 6680 samples, validate on 835 samples\n",
            "Epoch 1/10\n",
            " - 12s - loss: 4.9299 - acc: 0.0147 - val_loss: 5.0396 - val_acc: 0.0144\n",
            "\n",
            "Epoch 00001: val_loss improved from inf to 5.03957, saving model to saved_models/weights.best.from_scratch.hdf5\n",
            "Epoch 2/10\n",
            " - 10s - loss: 4.7293 - acc: 0.0263 - val_loss: 5.1370 - val_acc: 0.0180\n",
            "\n",
            "Epoch 00002: val_loss did not improve from 5.03957\n",
            "Epoch 3/10\n",
            " - 10s - loss: 4.5694 - acc: 0.0364 - val_loss: 4.7972 - val_acc: 0.0204\n",
            "\n",
            "Epoch 00003: val_loss improved from 5.03957 to 4.79721, saving model to saved_models/weights.best.from_scratch.hdf5\n",
            "Epoch 4/10\n",
            " - 10s - loss: 4.4769 - acc: 0.0449 - val_loss: 4.8709 - val_acc: 0.0168\n",
            "\n",
            "Epoch 00004: val_loss did not improve from 4.79721\n",
            "Epoch 5/10\n",
            " - 10s - loss: 4.3811 - acc: 0.0560 - val_loss: 4.7456 - val_acc: 0.0419\n",
            "\n",
            "Epoch 00005: val_loss improved from 4.79721 to 4.74563, saving model to saved_models/weights.best.from_scratch.hdf5\n",
            "Epoch 6/10\n",
            " - 10s - loss: 4.3095 - acc: 0.0651 - val_loss: 4.5566 - val_acc: 0.0431\n",
            "\n",
            "Epoch 00006: val_loss improved from 4.74563 to 4.55664, saving model to saved_models/weights.best.from_scratch.hdf5\n",
            "Epoch 7/10\n",
            " - 10s - loss: 4.2459 - acc: 0.0638 - val_loss: 4.7333 - val_acc: 0.0335\n",
            "\n",
            "Epoch 00007: val_loss did not improve from 4.55664\n",
            "Epoch 8/10\n",
            " - 10s - loss: 4.1863 - acc: 0.0729 - val_loss: 4.5342 - val_acc: 0.0491\n",
            "\n",
            "Epoch 00008: val_loss improved from 4.55664 to 4.53418, saving model to saved_models/weights.best.from_scratch.hdf5\n",
            "Epoch 9/10\n",
            " - 10s - loss: 4.1350 - acc: 0.0743 - val_loss: 4.5543 - val_acc: 0.0479\n",
            "\n",
            "Epoch 00009: val_loss did not improve from 4.53418\n",
            "Epoch 10/10\n",
            " - 10s - loss: 4.0953 - acc: 0.0825 - val_loss: 4.4659 - val_acc: 0.0515\n",
            "\n",
            "Epoch 00010: val_loss improved from 4.53418 to 4.46594, saving model to saved_models/weights.best.from_scratch.hdf5\n"
          ],
          "name": "stdout"
        },
        {
          "output_type": "execute_result",
          "data": {
            "text/plain": [
              "<keras.callbacks.History at 0x7f68f76829e8>"
            ]
          },
          "metadata": {
            "tags": []
          },
          "execution_count": 49
        }
      ]
    },
    {
      "metadata": {
        "id": "8Z692DVSgHij",
        "colab_type": "code",
        "colab": {}
      },
      "cell_type": "code",
      "source": [
        "## 加载具有最好验证loss的模型\n",
        "\n",
        "model.load_weights('saved_models/weights.best.from_scratch.hdf5')"
      ],
      "execution_count": 0,
      "outputs": []
    },
    {
      "metadata": {
        "id": "OI6RgWiugHim",
        "colab_type": "text"
      },
      "cell_type": "markdown",
      "source": [
        "### 测试模型\n",
        "\n",
        "在狗图像的测试数据集上试用你的模型。确保测试准确率大于1%。"
      ]
    },
    {
      "metadata": {
        "id": "19_9OwOZgHin",
        "colab_type": "code",
        "outputId": "c91bc4a2-66a3-45da-c47d-8566f3f28d9a",
        "colab": {
          "base_uri": "https://localhost:8080/",
          "height": 34
        }
      },
      "cell_type": "code",
      "source": [
        "# 获取测试数据集中每一个图像所预测的狗品种的index\n",
        "dog_breed_predictions = [np.argmax(model.predict(np.expand_dims(tensor, axis=0))) for tensor in test_tensors]\n",
        "\n",
        "# 报告测试准确率\n",
        "test_accuracy = 100*np.sum(np.array(dog_breed_predictions)==np.argmax(test_targets, axis=1))/len(dog_breed_predictions)\n",
        "print('Test accuracy: %.4f%%' % test_accuracy)"
      ],
      "execution_count": 52,
      "outputs": [
        {
          "output_type": "stream",
          "text": [
            "Test accuracy: 5.0239%\n"
          ],
          "name": "stdout"
        }
      ]
    },
    {
      "metadata": {
        "id": "neYbp0LJV4aK",
        "colab_type": "text"
      },
      "cell_type": "markdown",
      "source": [
        "方法二：\n",
        "\n",
        "（Udacity Reviewer提供的方法）"
      ]
    },
    {
      "metadata": {
        "id": "nt7IK7V5V_no",
        "colab_type": "code",
        "colab": {}
      },
      "cell_type": "code",
      "source": [
        "import keras.backend.tensorflow_backend as KTF\n",
        "import tensorflow as tf\n",
        "#from keras.preprocessing.image import ImageDataGenerator\n",
        "#from keras.callbacks import EarlyStopping"
      ],
      "execution_count": 0,
      "outputs": []
    },
    {
      "metadata": {
        "id": "sby3Dn0iWGwU",
        "colab_type": "code",
        "colab": {}
      },
      "cell_type": "code",
      "source": [
        "KTF.set_session(tf.Session(config=tf.ConfigProto(device_count={'gpu':0})))\n",
        "\n",
        "epochs = 100\n",
        "batch_size = 32"
      ],
      "execution_count": 0,
      "outputs": []
    },
    {
      "metadata": {
        "id": "epOrpg9rWCoU",
        "colab_type": "code",
        "colab": {}
      },
      "cell_type": "code",
      "source": [
        "model = Sequential()\n",
        "model.add(Conv2D(filters=16, kernel_size=[3, 3], input_shape=[224, 224, 3]))\n",
        "model.add(MaxPooling2D(pool_size=(2, 2)))\n",
        "model.add(BatchNormalization())\n",
        "model.add(Activation('relu'))\n",
        "model.add(Dropout(0.2))\n",
        "\n",
        "model.add(Conv2D(filters=32, kernel_size=[3, 3]))\n",
        "model.add(MaxPooling2D(pool_size=(2, 2)))\n",
        "model.add(BatchNormalization())\n",
        "model.add(Activation('relu'))\n",
        "model.add(Dropout(0.2))\n",
        "\n",
        "model.add(Conv2D(filters=64, kernel_size=[3, 3]))\n",
        "model.add(BatchNormalization())\n",
        "model.add(Activation('relu'))\n",
        "model.add(Conv2D(filters=64, kernel_size=[3, 3]))\n",
        "model.add(MaxPooling2D(pool_size=(2, 2)))\n",
        "model.add(BatchNormalization())\n",
        "model.add(Activation('relu'))\n",
        "model.add(Dropout(0.2))\n",
        "\n",
        "model.add(Conv2D(filters=128, kernel_size=[3, 3]))\n",
        "model.add(BatchNormalization())\n",
        "model.add(Activation('relu'))\n",
        "model.add(Conv2D(filters=128, kernel_size=[3, 3]))\n",
        "model.add(MaxPooling2D(pool_size=(2, 2)))\n",
        "model.add(BatchNormalization())\n",
        "model.add(Activation('relu'))\n",
        "model.add(Dropout(0.2))\n",
        "\n",
        "model.add(Conv2D(filters=128, kernel_size=[3, 3]))\n",
        "model.add(BatchNormalization())\n",
        "model.add(Activation('relu'))\n",
        "model.add(Conv2D(filters=128, kernel_size=[3, 3]))\n",
        "model.add(MaxPooling2D(pool_size=(2, 2)))\n",
        "model.add(BatchNormalization())\n",
        "model.add(Activation('relu'))\n",
        "model.add(Dropout(0.2))\n",
        "\n",
        "model.add(GlobalAveragePooling2D())\n",
        "model.add(Dropout(0.5))\n",
        "model.add(Dense(256, activation='relu'))\n",
        "model.add(Dropout(0.5))\n",
        "model.add(Dense(133, activation='softmax'))\n",
        "\n",
        "model.summary()"
      ],
      "execution_count": 0,
      "outputs": []
    },
    {
      "metadata": {
        "id": "MBSo2noaWOX1",
        "colab_type": "code",
        "colab": {}
      },
      "cell_type": "code",
      "source": [
        "train_datagen = ImageDataGenerator(\n",
        "        rotation_range=30,\n",
        "        width_shift_range=0.2,\n",
        "        height_shift_range=0.2,\n",
        "        shear_range=0.2,\n",
        "        zoom_range=0.2,\n",
        "        horizontal_flip=True,\n",
        "        fill_mode='nearest')\n",
        "train_generator = train_datagen.flow(train_tensors, train_targets, batch_size=batch_size)\n",
        "\n",
        "val_datagen = ImageDataGenerator()\n",
        "validation_generator = val_datagen.flow(valid_tensors, valid_targets, batch_size=batch_size)\n",
        "\n",
        "checkpointer = ModelCheckpoint(filepath='saved_models/weights.best.from_scratch.hdf5', \n",
        "                               verbose=1, save_best_only=True)\n",
        "\n",
        "earlystopping = EarlyStopping(monitor='val_loss', min_delta=0.001, patience=20, verbose=1)\n",
        "\n",
        "model.fit_generator(\n",
        "        train_generator,\n",
        "        steps_per_epoch=len(train_files) // batch_size,\n",
        "        epochs=epochs,\n",
        "        validation_data=validation_generator,\n",
        "        validation_steps=len(valid_files) // batch_size,\n",
        "        callbacks=[checkpointer, earlystopping])"
      ],
      "execution_count": 0,
      "outputs": []
    },
    {
      "metadata": {
        "id": "bGGd2YA6WY57",
        "colab_type": "text"
      },
      "cell_type": "markdown",
      "source": [
        "如果你想让算法自动选择epoch参数，并且避免epoch过多造成过拟合，我推荐你使用Keras中提供的early stopping callback（提前结束）方法。early stopping可以基于一些指定的规则自动结束训练过程，比如说连续指定次数epoch验证集准确率或误差都没有进步等。你可以参照[Keras' callback](https://keras.io/callbacks/)官方文档来了解更多。\n",
        "\n",
        "```\n",
        "keras.callbacks.EarlyStopping(monitor='val_loss', min_delta=0, patience=0, verbose=0, mode='auto', baseline=None, restore_best_weights=False)\n",
        "```\n",
        "\n",
        "`patience`参数代表了模型的valid loss连续多少回合没有提升就停止训练，默认设置为0，但是在实际使用中我并不推荐如此设置。因为在这种情况下只要验证集loss没有下降，训练立即就结束了，没有任何缓冲。而实际情况是模型可能只是陷入了一个局部最优，需要多几个epoch才能跳出来并且继续下降。所以我们一般的做法是将其设置为10左右，根据训练任务和速度有时还会更大一些，比如50、100，是具体情况而定。"
      ]
    },
    {
      "metadata": {
        "id": "akgxJ8w3W4sL",
        "colab_type": "code",
        "colab": {}
      },
      "cell_type": "code",
      "source": [
        "# 获取测试数据集中每一个图像所预测的狗品种的index\n",
        "dog_breed_predictions = [np.argmax(model.predict(np.expand_dims(tensor, axis=0))) for tensor in test_tensors]\n",
        "\n",
        "# 报告测试准确率\n",
        "test_accuracy = 100*np.sum(np.array(dog_breed_predictions)==np.argmax(test_targets, axis=1))/len(dog_breed_predictions)\n",
        "print('Test accuracy: %.4f%%' % test_accuracy)"
      ],
      "execution_count": 0,
      "outputs": []
    },
    {
      "metadata": {
        "id": "Hqz_VLkBgHip",
        "colab_type": "text"
      },
      "cell_type": "markdown",
      "source": [
        "---\n",
        "<a id='step4'></a>\n",
        "## 步骤 4: 使用一个CNN来区分狗的品种\n",
        "\n",
        "\n",
        "使用 迁移学习（Transfer Learning）的方法，能帮助我们在不损失准确率的情况下大大减少训练时间。在以下步骤中，你可以尝试使用迁移学习来训练你自己的CNN。\n"
      ]
    },
    {
      "metadata": {
        "id": "yvszWAjNYDAr",
        "colab_type": "text"
      },
      "cell_type": "markdown",
      "source": [
        "迁移学习的思路就是将一个预训练的模型，通过新的训练集进行二次训练。分为三种形式：\n",
        "\n",
        "1. Transfer Learning：\n",
        "\n",
        "冻结（将层设置为不可训练）预训练模型的全部卷积层，只训练自己定制的全连接层。\n",
        "\n",
        "比如说我们这个项目中，使用的4个迁移训练的模型都是在IMAGENET训练集上已经训练好的，然后我们把卷积层以后的部分去掉，加上全新的未训练的层（相当于把卷积的部分保留并冻结，重新训练分类的部分），然后用我们提供的新的训练集进行二次训练。相比直接在我们的训练集上训练一个全新的模型，迁移学习节省了大量的计算成本，同时因为IMAGENET数据集足够强大，可以导致更好的效果。\n",
        "\n",
        "2. Extract Feature Vector：\n",
        "\n",
        "先计算出预训练模型的卷积层对所有训练和测试数据的特征向量，然后抛开预训练模型，只训练自己定制的简配版全连接网络。\n",
        "\n",
        "\n",
        "在迁移学习中，迁移的模型（如ResNet）本身一般具有大量的参数，即使是进行迁移学习，也需要很强大的计算资源和计算时间（即使是使用GPU也需要数小时、数天甚至数周的时间）才能训练的动这么深的模型。即使把所有的层都冻结，那么在训练过程中每次更新梯度时，训练集都要和模型中的所有参数进行计算（大量的矩阵相乘），而即使这些参数是定死的、不需要进行更新，这个过程也是非常费时间的。而如果你是使用CPU在进行这一步，无疑会需要更多的时间。\n",
        "\n",
        "所以，Extract Feature Vector的做法是，把训练集经过预训练模型生成出bottleneck features，然后让你们直接通过bottleneck features进行训练。这种方法相当于是将整个模型拆分成了两个部分:\n",
        "- 第一步是将所有图片通过ResNet的卷积结构（所有层冻结），然后将数据“编码”成bottleneck features；\n",
        "- 第二步则是用这些bottleneck features训练我们后加的新的结构（分类器），即在本项目中你需要实现的部分。\n",
        "\n",
        "我们这个项目实际上采用的就是这种方法，因为参数冻结的部分本身就不需要更新，也不需要回传的参数，这种方法实际上和直接训练一个大型的迁移学习网络是差不多的。而这种做法可以省去每次更新过程中和原先模型中参数进行的大量矩阵运算，从而训练的速度就非常快了。\n",
        "\n",
        "3. Fine-tune\n",
        "\n",
        "冻结预训练模型的部分卷积层（通常是靠近输入的多数卷积层），训练剩下的卷积层（通常是靠近输出的部分卷积层）和全连接层。\n",
        "\n",
        "Fine-tune的形式下分不同程度的解冻原有层参数，甚至可以解冻所有层。实际上，预训练模型的每一层都可以自定义解冻，进行二次训练。相比冻结所有预训练模型卷积层，Fine-tune可以学到更多的特征知识，可以带来更好的效果，这种方法也是现在迁移学习中最为常用的做法。\n",
        "\n",
        "但是Fine-tune的代价就是需要大量的计算成本，包括计算时间和计算性能。\n",
        "\n",
        "如果你对Fine-tune感兴趣的话，具体如何解冻一些卷积层、使其可以二次训练，可以参考如下代码：\n",
        "```\n",
        "from keras.applications.inception_v3 import InceptionV3\n",
        "base_model = InceptionV3(weights='imagenet', include_top=False)\n",
        "for layer in base_model.layers[:NB_IV3_LAYERS_TO_FREEZE]:\n",
        "    layer.trainable = False\n",
        "for layer in base_model.layers[NB_IV3_LAYERS_TO_FREEZE:]:\n",
        "    layer.trainable = True\n",
        "```\n",
        "更多内容，建议你参考[keras官方文档](https://keras.io/applications/)中的示例。"
      ]
    },
    {
      "metadata": {
        "id": "sPeBZwBigHiq",
        "colab_type": "text"
      },
      "cell_type": "markdown",
      "source": [
        "### 得到从图像中提取的特征向量（Bottleneck Features）"
      ]
    },
    {
      "metadata": {
        "id": "I2GhuHbugHis",
        "colab_type": "code",
        "colab": {}
      },
      "cell_type": "code",
      "source": [
        "bottleneck_features = np.load('data/bottleneck_features/DogVGG16Data.npz')\n",
        "train_VGG16 = bottleneck_features['train']\n",
        "valid_VGG16 = bottleneck_features['valid']\n",
        "test_VGG16 = bottleneck_features['test']"
      ],
      "execution_count": 0,
      "outputs": []
    },
    {
      "metadata": {
        "id": "fTazjgWAFiOr",
        "colab_type": "code",
        "outputId": "ba1b74ca-4f9b-426a-ac2e-bc5d2dd17188",
        "colab": {
          "base_uri": "https://localhost:8080/",
          "height": 34
        }
      },
      "cell_type": "code",
      "source": [
        "train_VGG16.shape"
      ],
      "execution_count": 55,
      "outputs": [
        {
          "output_type": "execute_result",
          "data": {
            "text/plain": [
              "(6680, 7, 7, 512)"
            ]
          },
          "metadata": {
            "tags": []
          },
          "execution_count": 55
        }
      ]
    },
    {
      "metadata": {
        "id": "md9SrxoXgHiv",
        "colab_type": "text"
      },
      "cell_type": "markdown",
      "source": [
        "### 模型架构\n",
        "\n",
        "该模型使用预训练的 VGG-16 模型作为固定的图像特征提取器，其中 VGG-16 最后一层卷积层的输出被直接输入到我们的模型。我们只需要添加一个全局平均池化层以及一个全连接层，其中全连接层使用 softmax 激活函数，对每一个狗的种类都包含一个节点。"
      ]
    },
    {
      "metadata": {
        "id": "m6SVHEjpgHiw",
        "colab_type": "code",
        "outputId": "f5b0e936-19d8-489c-9815-fa7ec47e5831",
        "colab": {
          "base_uri": "https://localhost:8080/",
          "height": 202
        }
      },
      "cell_type": "code",
      "source": [
        "VGG16_model = Sequential()\n",
        "VGG16_model.add(GlobalAveragePooling2D(input_shape=train_VGG16.shape[1:]))\n",
        "VGG16_model.add(Dense(133, activation='softmax'))\n",
        "\n",
        "VGG16_model.summary()"
      ],
      "execution_count": 56,
      "outputs": [
        {
          "output_type": "stream",
          "text": [
            "_________________________________________________________________\n",
            "Layer (type)                 Output Shape              Param #   \n",
            "=================================================================\n",
            "global_average_pooling2d_2 ( (None, 512)               0         \n",
            "_________________________________________________________________\n",
            "dense_3 (Dense)              (None, 133)               68229     \n",
            "=================================================================\n",
            "Total params: 68,229\n",
            "Trainable params: 68,229\n",
            "Non-trainable params: 0\n",
            "_________________________________________________________________\n"
          ],
          "name": "stdout"
        }
      ]
    },
    {
      "metadata": {
        "id": "sGjJANVlgHiy",
        "colab_type": "code",
        "colab": {}
      },
      "cell_type": "code",
      "source": [
        "## 编译模型\n",
        "\n",
        "VGG16_model.compile(loss='categorical_crossentropy', optimizer='adam', metrics=['accuracy'])"
      ],
      "execution_count": 0,
      "outputs": []
    },
    {
      "metadata": {
        "id": "MHFc5odhZBqA",
        "colab_type": "text"
      },
      "cell_type": "markdown",
      "source": [
        "你选择了 rmsprop 作为优化器。\n",
        "\n",
        "但是，我更推荐你使用Adam 或者 Adagrad作为优化器，这也是目前最常使用的优化器算法。想要了解更多的话， [An overview of gradient descent optimization algorithms](http://ruder.io/optimizing-gradient-descent/)这篇文章介绍了当前流行的一些优化器算法的优劣比较，[Usage of optimizers in Keras](https://keras.io/optimizers/)这篇文章介绍了Keras中各类优化器的使用方法。"
      ]
    },
    {
      "metadata": {
        "id": "SEyPcKLJgHi1",
        "colab_type": "code",
        "outputId": "4f78249f-3182-4524-f4b1-db00046d6697",
        "colab": {
          "base_uri": "https://localhost:8080/",
          "height": 1394
        }
      },
      "cell_type": "code",
      "source": [
        "## 训练模型\n",
        "\n",
        "checkpointer = ModelCheckpoint(filepath='saved_models/weights.best.VGG16.hdf5', \n",
        "                               verbose=1, save_best_only=True)\n",
        "\n",
        "VGG16_model.fit(train_VGG16, train_targets, \n",
        "          validation_data=(valid_VGG16, valid_targets),\n",
        "          epochs=20, batch_size=20, callbacks=[checkpointer], verbose=1)"
      ],
      "execution_count": 58,
      "outputs": [
        {
          "output_type": "stream",
          "text": [
            "Train on 6680 samples, validate on 835 samples\n",
            "Epoch 1/20\n",
            "6680/6680 [==============================] - 3s 464us/step - loss: 11.7729 - acc: 0.1587 - val_loss: 10.3926 - val_acc: 0.2431\n",
            "\n",
            "Epoch 00001: val_loss improved from inf to 10.39264, saving model to saved_models/weights.best.VGG16.hdf5\n",
            "Epoch 2/20\n",
            "6680/6680 [==============================] - 2s 226us/step - loss: 9.2016 - acc: 0.3446 - val_loss: 9.3171 - val_acc: 0.3257\n",
            "\n",
            "Epoch 00002: val_loss improved from 10.39264 to 9.31709, saving model to saved_models/weights.best.VGG16.hdf5\n",
            "Epoch 3/20\n",
            "6680/6680 [==============================] - 1s 215us/step - loss: 8.5096 - acc: 0.4135 - val_loss: 8.6889 - val_acc: 0.3617\n",
            "\n",
            "Epoch 00003: val_loss improved from 9.31709 to 8.68887, saving model to saved_models/weights.best.VGG16.hdf5\n",
            "Epoch 4/20\n",
            "6680/6680 [==============================] - 1s 218us/step - loss: 7.9747 - acc: 0.4681 - val_loss: 8.6495 - val_acc: 0.3832\n",
            "\n",
            "Epoch 00004: val_loss improved from 8.68887 to 8.64948, saving model to saved_models/weights.best.VGG16.hdf5\n",
            "Epoch 5/20\n",
            "6680/6680 [==============================] - 1s 216us/step - loss: 7.8360 - acc: 0.4930 - val_loss: 8.5064 - val_acc: 0.4024\n",
            "\n",
            "Epoch 00005: val_loss improved from 8.64948 to 8.50644, saving model to saved_models/weights.best.VGG16.hdf5\n",
            "Epoch 6/20\n",
            "6680/6680 [==============================] - 1s 221us/step - loss: 7.8082 - acc: 0.4988 - val_loss: 8.4698 - val_acc: 0.4024\n",
            "\n",
            "Epoch 00006: val_loss improved from 8.50644 to 8.46984, saving model to saved_models/weights.best.VGG16.hdf5\n",
            "Epoch 7/20\n",
            "6680/6680 [==============================] - 1s 219us/step - loss: 7.7410 - acc: 0.5081 - val_loss: 8.3209 - val_acc: 0.4084\n",
            "\n",
            "Epoch 00007: val_loss improved from 8.46984 to 8.32087, saving model to saved_models/weights.best.VGG16.hdf5\n",
            "Epoch 8/20\n",
            "6680/6680 [==============================] - 1s 220us/step - loss: 7.6455 - acc: 0.5075 - val_loss: 8.3136 - val_acc: 0.4132\n",
            "\n",
            "Epoch 00008: val_loss improved from 8.32087 to 8.31362, saving model to saved_models/weights.best.VGG16.hdf5\n",
            "Epoch 9/20\n",
            "6680/6680 [==============================] - 1s 216us/step - loss: 7.6018 - acc: 0.5162 - val_loss: 8.3553 - val_acc: 0.4096\n",
            "\n",
            "Epoch 00009: val_loss did not improve from 8.31362\n",
            "Epoch 10/20\n",
            "6680/6680 [==============================] - 1s 215us/step - loss: 7.5623 - acc: 0.5234 - val_loss: 8.2763 - val_acc: 0.4216\n",
            "\n",
            "Epoch 00010: val_loss improved from 8.31362 to 8.27631, saving model to saved_models/weights.best.VGG16.hdf5\n",
            "Epoch 11/20\n",
            "6680/6680 [==============================] - 1s 216us/step - loss: 7.5593 - acc: 0.5253 - val_loss: 8.3510 - val_acc: 0.4000\n",
            "\n",
            "Epoch 00011: val_loss did not improve from 8.27631\n",
            "Epoch 12/20\n",
            "6680/6680 [==============================] - 1s 216us/step - loss: 7.5890 - acc: 0.5174 - val_loss: 8.4276 - val_acc: 0.4072\n",
            "\n",
            "Epoch 00012: val_loss did not improve from 8.27631\n",
            "Epoch 13/20\n",
            "6680/6680 [==============================] - 1s 216us/step - loss: 7.6518 - acc: 0.5070 - val_loss: 8.3783 - val_acc: 0.4156\n",
            "\n",
            "Epoch 00013: val_loss did not improve from 8.27631\n",
            "Epoch 14/20\n",
            "6680/6680 [==============================] - 1s 215us/step - loss: 7.5823 - acc: 0.5199 - val_loss: 8.4032 - val_acc: 0.4275\n",
            "\n",
            "Epoch 00014: val_loss did not improve from 8.27631\n",
            "Epoch 15/20\n",
            "6680/6680 [==============================] - 1s 216us/step - loss: 7.5615 - acc: 0.5243 - val_loss: 8.3419 - val_acc: 0.4240\n",
            "\n",
            "Epoch 00015: val_loss did not improve from 8.27631\n",
            "Epoch 16/20\n",
            "6680/6680 [==============================] - 1s 214us/step - loss: 7.5599 - acc: 0.5249 - val_loss: 8.2684 - val_acc: 0.4395\n",
            "\n",
            "Epoch 00016: val_loss improved from 8.27631 to 8.26840, saving model to saved_models/weights.best.VGG16.hdf5\n",
            "Epoch 17/20\n",
            "6680/6680 [==============================] - 1s 219us/step - loss: 7.5373 - acc: 0.5302 - val_loss: 8.3216 - val_acc: 0.4359\n",
            "\n",
            "Epoch 00017: val_loss did not improve from 8.26840\n",
            "Epoch 18/20\n",
            "6680/6680 [==============================] - 1s 215us/step - loss: 7.5588 - acc: 0.5269 - val_loss: 8.2971 - val_acc: 0.4395\n",
            "\n",
            "Epoch 00018: val_loss did not improve from 8.26840\n",
            "Epoch 19/20\n",
            "6680/6680 [==============================] - 1s 218us/step - loss: 7.6108 - acc: 0.5159 - val_loss: 8.3352 - val_acc: 0.4323\n",
            "\n",
            "Epoch 00019: val_loss did not improve from 8.26840\n",
            "Epoch 20/20\n",
            "6680/6680 [==============================] - 1s 215us/step - loss: 7.5890 - acc: 0.5195 - val_loss: 8.5644 - val_acc: 0.4156\n",
            "\n",
            "Epoch 00020: val_loss did not improve from 8.26840\n"
          ],
          "name": "stdout"
        },
        {
          "output_type": "execute_result",
          "data": {
            "text/plain": [
              "<keras.callbacks.History at 0x7f68f6bca2e8>"
            ]
          },
          "metadata": {
            "tags": []
          },
          "execution_count": 58
        }
      ]
    },
    {
      "metadata": {
        "id": "vJ7HBZLtgHi4",
        "colab_type": "code",
        "colab": {}
      },
      "cell_type": "code",
      "source": [
        "## 加载具有最好验证loss的模型\n",
        "\n",
        "VGG16_model.load_weights('saved_models/weights.best.VGG16.hdf5')"
      ],
      "execution_count": 0,
      "outputs": []
    },
    {
      "metadata": {
        "id": "NRq6yMMSgHi7",
        "colab_type": "text"
      },
      "cell_type": "markdown",
      "source": [
        "### 测试模型\n",
        "现在，我们可以测试此CNN在狗图像测试数据集中识别品种的效果如何。我们在下方打印出测试准确率。"
      ]
    },
    {
      "metadata": {
        "id": "R5dk9K8RgHi8",
        "colab_type": "code",
        "outputId": "0d60ee56-dc3a-40e8-f376-34095c1f9822",
        "colab": {
          "base_uri": "https://localhost:8080/",
          "height": 34
        }
      },
      "cell_type": "code",
      "source": [
        "# 获取测试数据集中每一个图像所预测的狗品种的index\n",
        "VGG16_predictions = [np.argmax(VGG16_model.predict(np.expand_dims(feature, axis=0))) for feature in test_VGG16]\n",
        "\n",
        "# 报告测试准确率\n",
        "test_accuracy = 100*np.sum(np.array(VGG16_predictions)==np.argmax(test_targets, axis=1))/len(VGG16_predictions)\n",
        "print('Test accuracy: %.4f%%' % test_accuracy)"
      ],
      "execution_count": 60,
      "outputs": [
        {
          "output_type": "stream",
          "text": [
            "Test accuracy: 43.1818%\n"
          ],
          "name": "stdout"
        }
      ]
    },
    {
      "metadata": {
        "id": "rpozNKVlgHjA",
        "colab_type": "text"
      },
      "cell_type": "markdown",
      "source": [
        "### 使用模型预测狗的品种"
      ]
    },
    {
      "metadata": {
        "id": "Wcrq12YdgHjB",
        "colab_type": "code",
        "colab": {}
      },
      "cell_type": "code",
      "source": [
        "#from extract_bottleneck_features import *\n",
        "\n",
        "def VGG16_predict_breed(img_path):\n",
        "    # 提取bottleneck特征\n",
        "    bottleneck_feature = extract_VGG16(path_to_tensor(img_path))\n",
        "    # 获取预测向量\n",
        "    predicted_vector = VGG16_model.predict(bottleneck_feature)\n",
        "    # 返回此模型预测的狗的品种\n",
        "    return dog_names[np.argmax(predicted_vector)]"
      ],
      "execution_count": 0,
      "outputs": []
    },
    {
      "metadata": {
        "id": "DTfcg76OgHjE",
        "colab_type": "text"
      },
      "cell_type": "markdown",
      "source": [
        "---\n",
        "<a id='step5'></a>\n",
        "## 步骤 5: 建立一个CNN来分类狗的品种（使用迁移学习）\n",
        "\n",
        "现在你将使用迁移学习来建立一个CNN，从而可以从图像中识别狗的品种。你的 CNN 在测试集上的准确率必须至少达到60%。\n",
        "\n",
        "在步骤4中，我们使用了迁移学习来创建一个使用基于 VGG-16 提取的特征向量来搭建一个 CNN。在本部分内容中，你必须使用另一个预训练模型来搭建一个 CNN。为了让这个任务更易实现，我们已经预先对目前 keras 中可用的几种网络进行了预训练：\n",
        "\n",
        "- [VGG-19](https://s3-us-west-1.amazonaws.com/udacity-aind/dog-project/DogVGG19Data.npz) bottleneck features\n",
        "- [ResNet-50](https://s3-us-west-1.amazonaws.com/udacity-aind/dog-project/DogResnet50Data.npz) bottleneck features\n",
        "- [Inception](https://s3-us-west-1.amazonaws.com/udacity-aind/dog-project/DogInceptionV3Data.npz) bottleneck features\n",
        "- [Xception](https://s3-us-west-1.amazonaws.com/udacity-aind/dog-project/DogXceptionData.npz) bottleneck features\n",
        "\n",
        "这些文件被命名为为：\n",
        "\n",
        "    Dog{network}Data.npz\n",
        "\n",
        "其中 `{network}` 可以是 `VGG19`、`Resnet50`、`InceptionV3` 或 `Xception` 中的一个。选择上方网络架构中的一个，他们已经保存在目录 `/data/bottleneck_features/` 中。\n",
        "\n",
        "\n",
        "### 【练习】获取模型的特征向量\n",
        "\n",
        "在下方代码块中，通过运行下方代码提取训练、测试与验证集相对应的bottleneck特征。\n",
        "\n",
        "    bottleneck_features = np.load('/data/bottleneck_features/Dog{network}Data.npz')\n",
        "    train_{network} = bottleneck_features['train']\n",
        "    valid_{network} = bottleneck_features['valid']\n",
        "    test_{network} = bottleneck_features['test']"
      ]
    },
    {
      "metadata": {
        "id": "niyjiE50gHjF",
        "colab_type": "code",
        "colab": {}
      },
      "cell_type": "code",
      "source": [
        "### TODO: 从另一个预训练的CNN获取bottleneck特征\n",
        "\n",
        "bottleneck_features = np.load('data/bottleneck_features/DogResnet50Data.npz')\n",
        "train_Resnet50 = bottleneck_features['train']\n",
        "valid_Resnet50 = bottleneck_features['valid']\n",
        "test_Resnet50 = bottleneck_features['test']"
      ],
      "execution_count": 0,
      "outputs": []
    },
    {
      "metadata": {
        "id": "lav_3iZbcY6s",
        "colab_type": "code",
        "outputId": "87e25869-9c6b-4fbd-a32c-a2b297e5cd64",
        "colab": {
          "base_uri": "https://localhost:8080/",
          "height": 34
        }
      },
      "cell_type": "code",
      "source": [
        "train_Resnet50.shape"
      ],
      "execution_count": 63,
      "outputs": [
        {
          "output_type": "execute_result",
          "data": {
            "text/plain": [
              "(6680, 1, 1, 2048)"
            ]
          },
          "metadata": {
            "tags": []
          },
          "execution_count": 63
        }
      ]
    },
    {
      "metadata": {
        "id": "-ddAk_5fgHjH",
        "colab_type": "text"
      },
      "cell_type": "markdown",
      "source": [
        "### 【练习】模型架构\n",
        "\n",
        "建立一个CNN来分类狗品种。在你的代码单元块的最后，通过运行如下代码输出网络的结构：\n",
        "    \n",
        "        <your model's name>.summary()\n",
        "   \n",
        "---\n",
        "\n",
        "<a id='question6'></a>  \n",
        "\n",
        "### __问题 6:__ \n",
        "\n",
        "\n",
        "在下方的代码块中尝试使用 Keras 搭建最终的网络架构，并回答你实现最终 CNN 架构的步骤与每一步的作用，并描述你在迁移学习过程中，使用该网络架构的原因。\n",
        "\n",
        "\n",
        "__回答:__ \n",
        "池化层：降低维度，防止过度拟合。\n",
        "之前尝试过再加的dropout 或另一个全连接层，效果并不理想。所以最终只保留了1个池化层和1个输出的全连接层。\n",
        "\n",
        "相比普通的CNN，迁移学习可以取得更好的效果，因为迁移学习所使用的模型已经在庞大的数据库上进行了长时间的训练。若想使普通CNN达到迁移学习的效果，需要付出大量的成本。\n",
        "\n",
        "我尝试了其他几个架构，所得的validation accuracy比Resnet50低很多。所以最终选择了Resnet50。"
      ]
    },
    {
      "metadata": {
        "id": "xIOMBugngHjI",
        "colab_type": "code",
        "outputId": "b62bb82e-5ed1-4230-e0a8-a25eb0e56b2d",
        "colab": {
          "base_uri": "https://localhost:8080/",
          "height": 202
        }
      },
      "cell_type": "code",
      "source": [
        "### TODO: 定义你的框架\n",
        "Resnet50_model = Sequential()\n",
        "Resnet50_model.add(GlobalAveragePooling2D(input_shape = train_Resnet50.shape[1:]))\n",
        "#Resnet50_model.add(Dense(512, activation='relu'))\n",
        "#Resnet50_model.add(Dropout(0.2))\n",
        "Resnet50_model.add(Dense(133, activation='softmax'))\n",
        "\n",
        "Resnet50_model.summary()"
      ],
      "execution_count": 64,
      "outputs": [
        {
          "output_type": "stream",
          "text": [
            "_________________________________________________________________\n",
            "Layer (type)                 Output Shape              Param #   \n",
            "=================================================================\n",
            "global_average_pooling2d_3 ( (None, 2048)              0         \n",
            "_________________________________________________________________\n",
            "dense_4 (Dense)              (None, 133)               272517    \n",
            "=================================================================\n",
            "Total params: 272,517\n",
            "Trainable params: 272,517\n",
            "Non-trainable params: 0\n",
            "_________________________________________________________________\n"
          ],
          "name": "stdout"
        }
      ]
    },
    {
      "metadata": {
        "id": "GBRz0mgagHjK",
        "colab_type": "code",
        "colab": {}
      },
      "cell_type": "code",
      "source": [
        "### TODO: 编译模型\n",
        "\n",
        "Resnet50_model.compile(loss='categorical_crossentropy', optimizer='adam', metrics=['accuracy'])"
      ],
      "execution_count": 0,
      "outputs": []
    },
    {
      "metadata": {
        "id": "SXmUwuSrgHjM",
        "colab_type": "text"
      },
      "cell_type": "markdown",
      "source": [
        "---\n",
        "\n",
        "### 【练习】训练模型\n",
        "\n",
        "<a id='question7'></a>  \n",
        "\n",
        "### __问题 7:__ \n",
        "\n",
        "在下方代码单元中训练你的模型。使用模型检查点（model checkpointing）来储存具有最低验证集 loss 的模型。\n",
        "\n",
        "当然，你也可以对训练集进行 [数据增强](https://blog.keras.io/building-powerful-image-classification-models-using-very-little-data.html) 以优化模型的表现，不过这不是必须的步骤。\n"
      ]
    },
    {
      "metadata": {
        "id": "yy0mYimugHjM",
        "colab_type": "code",
        "outputId": "d5908811-bbf2-4377-8c92-3e53363d262d",
        "colab": {
          "base_uri": "https://localhost:8080/",
          "height": 722
        }
      },
      "cell_type": "code",
      "source": [
        "### TODO: 训练模型\n",
        "\n",
        "## 训练模型\n",
        "\n",
        "checkpointer = ModelCheckpoint(filepath='saved_models/weights.best.Resnet50.hdf5', \n",
        "                               verbose=1, save_best_only=True)\n",
        "\n",
        "Resnet50_model.fit(train_Resnet50, train_targets, \n",
        "                   validation_data = (valid_Resnet50, valid_targets),\n",
        "                   epochs = 10, \n",
        "                   batch_size = 20, \n",
        "                   callbacks=[checkpointer], \n",
        "                   verbose=2)"
      ],
      "execution_count": 66,
      "outputs": [
        {
          "output_type": "stream",
          "text": [
            "Train on 6680 samples, validate on 835 samples\n",
            "Epoch 1/10\n",
            " - 3s - loss: 1.6735 - acc: 0.5922 - val_loss: 0.8544 - val_acc: 0.7389\n",
            "\n",
            "Epoch 00001: val_loss improved from inf to 0.85436, saving model to saved_models/weights.best.Resnet50.hdf5\n",
            "Epoch 2/10\n",
            " - 1s - loss: 0.3568 - acc: 0.9019 - val_loss: 0.6827 - val_acc: 0.7772\n",
            "\n",
            "Epoch 00002: val_loss improved from 0.85436 to 0.68270, saving model to saved_models/weights.best.Resnet50.hdf5\n",
            "Epoch 3/10\n",
            " - 1s - loss: 0.1610 - acc: 0.9680 - val_loss: 0.6815 - val_acc: 0.7964\n",
            "\n",
            "Epoch 00003: val_loss improved from 0.68270 to 0.68155, saving model to saved_models/weights.best.Resnet50.hdf5\n",
            "Epoch 4/10\n",
            " - 1s - loss: 0.0860 - acc: 0.9909 - val_loss: 0.6098 - val_acc: 0.8120\n",
            "\n",
            "Epoch 00004: val_loss improved from 0.68155 to 0.60984, saving model to saved_models/weights.best.Resnet50.hdf5\n",
            "Epoch 5/10\n",
            " - 1s - loss: 0.0557 - acc: 0.9951 - val_loss: 0.5895 - val_acc: 0.8156\n",
            "\n",
            "Epoch 00005: val_loss improved from 0.60984 to 0.58947, saving model to saved_models/weights.best.Resnet50.hdf5\n",
            "Epoch 6/10\n",
            " - 1s - loss: 0.0414 - acc: 0.9960 - val_loss: 0.5904 - val_acc: 0.8216\n",
            "\n",
            "Epoch 00006: val_loss did not improve from 0.58947\n",
            "Epoch 7/10\n",
            " - 1s - loss: 0.0320 - acc: 0.9969 - val_loss: 0.5997 - val_acc: 0.8216\n",
            "\n",
            "Epoch 00007: val_loss did not improve from 0.58947\n",
            "Epoch 8/10\n",
            " - 1s - loss: 0.0291 - acc: 0.9954 - val_loss: 0.6228 - val_acc: 0.8263\n",
            "\n",
            "Epoch 00008: val_loss did not improve from 0.58947\n",
            "Epoch 9/10\n",
            " - 1s - loss: 0.0211 - acc: 0.9970 - val_loss: 0.5717 - val_acc: 0.8311\n",
            "\n",
            "Epoch 00009: val_loss improved from 0.58947 to 0.57168, saving model to saved_models/weights.best.Resnet50.hdf5\n",
            "Epoch 10/10\n",
            " - 1s - loss: 0.0193 - acc: 0.9979 - val_loss: 0.5752 - val_acc: 0.8275\n",
            "\n",
            "Epoch 00010: val_loss did not improve from 0.57168\n"
          ],
          "name": "stdout"
        },
        {
          "output_type": "execute_result",
          "data": {
            "text/plain": [
              "<keras.callbacks.History at 0x7f68f68ac3c8>"
            ]
          },
          "metadata": {
            "tags": []
          },
          "execution_count": 66
        }
      ]
    },
    {
      "metadata": {
        "id": "zR_DuLy-gHjO",
        "colab_type": "code",
        "colab": {}
      },
      "cell_type": "code",
      "source": [
        "### TODO: 加载具有最佳验证loss的模型权重\n",
        "\n",
        "Resnet50_model.load_weights('saved_models/weights.best.Resnet50.hdf5')"
      ],
      "execution_count": 0,
      "outputs": []
    },
    {
      "metadata": {
        "id": "RcEk8lTBgHjQ",
        "colab_type": "text"
      },
      "cell_type": "markdown",
      "source": [
        "---\n",
        "\n",
        "### 【练习】测试模型\n",
        "\n",
        "<a id='question8'></a>  \n",
        "\n",
        "### __问题 8:__ \n",
        "\n",
        "在狗图像的测试数据集上试用你的模型。确保测试准确率大于60%。"
      ]
    },
    {
      "metadata": {
        "id": "bagKeeiIgHjR",
        "colab_type": "code",
        "outputId": "1c763dd0-36e5-444b-f152-c9b4b0b879b3",
        "colab": {
          "base_uri": "https://localhost:8080/",
          "height": 34
        }
      },
      "cell_type": "code",
      "source": [
        "### TODO: 在测试集上计算分类准确率\n",
        "\n",
        "# 获取测试数据集中每一个图像所预测的狗品种的index\n",
        "Resnet50_predictions = [np.argmax(Resnet50_model.predict(np.expand_dims(feature, axis=0))) for feature in test_Resnet50]\n",
        "\n",
        "# 报告测试准确率\n",
        "test_accuracy = 100*np.sum(np.array(Resnet50_predictions)==np.argmax(test_targets, axis=1))/len(Resnet50_predictions)\n",
        "print('Test accuracy: %.4f%%' % test_accuracy)"
      ],
      "execution_count": 68,
      "outputs": [
        {
          "output_type": "stream",
          "text": [
            "Test accuracy: 83.6124%\n"
          ],
          "name": "stdout"
        }
      ]
    },
    {
      "metadata": {
        "id": "qm4DEtr-gHjT",
        "colab_type": "text"
      },
      "cell_type": "markdown",
      "source": [
        "---\n",
        "\n",
        "### 【练习】使用模型测试狗的品种\n",
        "\n",
        "\n",
        "实现一个函数，它的输入为图像路径，功能为预测对应图像的类别，输出为你模型预测出的狗类别（`Affenpinscher`, `Afghan_hound` 等）。\n",
        "\n",
        "与步骤5中的模拟函数类似，你的函数应当包含如下三个步骤：\n",
        "\n",
        "1. 根据选定的模型载入图像特征（bottleneck features）\n",
        "2. 将图像特征输输入到你的模型中，并返回预测向量。注意，在该向量上使用 argmax 函数可以返回狗种类的序号。\n",
        "3. 使用在步骤0中定义的 `dog_names` 数组来返回对应的狗种类名称。\n",
        "\n",
        "提取图像特征过程中使用到的函数可以在 `extract_bottleneck_features.py` 中找到。同时，他们应已在之前的代码块中被导入。根据你选定的 CNN 网络，你可以使用 `extract_{network}` 函数来获得对应的图像特征，其中 `{network}` 代表 `VGG19`, `Resnet50`, `InceptionV3`, 或 `Xception` 中的一个。\n",
        " \n",
        "---\n",
        "\n",
        "<a id='question9'></a>  \n",
        "\n",
        "### __问题 9:__"
      ]
    },
    {
      "metadata": {
        "id": "suY9LyIXyK2Y",
        "colab_type": "code",
        "colab": {}
      },
      "cell_type": "code",
      "source": [
        "### TODO: 写一个函数，该函数将图像的路径作为输入\n",
        "### 然后返回此模型所预测的狗的品种\n",
        "\n",
        "def Resnet50_predict_breed(img_path):\n",
        "    # 提取bottleneck特征\n",
        "    bottleneck_feature = extract_Resnet50(path_to_tensor(img_path))\n",
        "    # 获取模型\n",
        "    Resnet50_model.load_weights('saved_models/weights.best.Resnet50.hdf5')\n",
        "    # 获取预测向量\n",
        "    predicted_vector = Resnet50_model.predict(bottleneck_feature)\n",
        "    # 返回此模型预测的狗的品种\n",
        "    return dog_names[np.argmax(predicted_vector)]"
      ],
      "execution_count": 0,
      "outputs": []
    },
    {
      "metadata": {
        "id": "YBZZqvuhgHjW",
        "colab_type": "text"
      },
      "cell_type": "markdown",
      "source": [
        "---\n",
        "\n",
        "<a id='step6'></a>\n",
        "## 步骤 6: 完成你的算法\n",
        "\n",
        "\n",
        "\n",
        "实现一个算法，它的输入为图像的路径，它能够区分图像是否包含一个人、狗或两者都不包含，然后：\n",
        "\n",
        "- 如果从图像中检测到一只__狗__，返回被预测的品种。\n",
        "- 如果从图像中检测到__人__，返回最相像的狗品种。\n",
        "- 如果两者都不能在图像中检测到，输出错误提示。\n",
        "\n",
        "我们非常欢迎你来自己编写检测图像中人类与狗的函数，你可以随意地使用上方完成的 `face_detector` 和 `dog_detector` 函数。你__需要__在步骤5使用你的CNN来预测狗品种。\n",
        "\n",
        "下面提供了算法的示例输出，但你可以自由地设计自己的模型！\n",
        "\n",
        "![Sample Human Output](images/sample_human_output.png)\n",
        "\n",
        "\n",
        "\n",
        "\n",
        "<a id='question10'></a>  \n",
        "\n",
        "### __问题 10:__\n",
        "\n",
        "在下方代码块中完成你的代码。\n",
        "\n",
        "---\n"
      ]
    },
    {
      "metadata": {
        "id": "PQ24sKvTgHjX",
        "colab_type": "code",
        "colab": {}
      },
      "cell_type": "code",
      "source": [
        "def show_img(path):\n",
        "  img = image.load_img(path, target_size=(224, 224))\n",
        "  plt.imshow(img)"
      ],
      "execution_count": 0,
      "outputs": []
    },
    {
      "metadata": {
        "id": "nC6g_94E3ctj",
        "colab_type": "code",
        "colab": {}
      },
      "cell_type": "code",
      "source": [
        "def predict_cate(path):\n",
        "  show_img(path)\n",
        "  \n",
        "  breed = Resnet50_predict_breed(path).split('.')[-1].replace('_', \" \")\n",
        "  \n",
        "  if dog_detector(path):\n",
        "    print(f\"This is a {breed} dog.\")\n",
        "    \n",
        "  elif face_detector(path):\n",
        "    print(f\"This is a human who looks like a {breed} dog.\")\n",
        "    \n",
        "  else:\n",
        "    print(\"This is neither a human nor a dog.\")"
      ],
      "execution_count": 0,
      "outputs": []
    },
    {
      "metadata": {
        "id": "kFc0fBU2DoKU",
        "colab_type": "code",
        "outputId": "734f7c04-acc1-468c-ad23-9c6ff8b90946",
        "colab": {
          "base_uri": "https://localhost:8080/",
          "height": 34
        }
      },
      "cell_type": "code",
      "source": [
        "path_to_tensor('data/lfw/Kelvin_Sampson/Kelvin_Sampson_0002.jpg').shape"
      ],
      "execution_count": 72,
      "outputs": [
        {
          "output_type": "execute_result",
          "data": {
            "text/plain": [
              "(1, 224, 224, 3)"
            ]
          },
          "metadata": {
            "tags": []
          },
          "execution_count": 72
        }
      ]
    },
    {
      "metadata": {
        "id": "aZY7m4ybD2Qa",
        "colab_type": "code",
        "outputId": "83493a48-48cd-4be9-a313-c3630e9f2846",
        "colab": {
          "base_uri": "https://localhost:8080/",
          "height": 67
        }
      },
      "cell_type": "code",
      "source": [
        "extract_Resnet50(path_to_tensor('data/lfw/Kelvin_Sampson/Kelvin_Sampson_0002.jpg')).shape"
      ],
      "execution_count": 73,
      "outputs": [
        {
          "output_type": "stream",
          "text": [
            "Downloading data from https://github.com/fchollet/deep-learning-models/releases/download/v0.2/resnet50_weights_tf_dim_ordering_tf_kernels_notop.h5\n",
            "94658560/94653016 [==============================] - 3s 0us/step\n"
          ],
          "name": "stdout"
        },
        {
          "output_type": "execute_result",
          "data": {
            "text/plain": [
              "(1, 1, 1, 2048)"
            ]
          },
          "metadata": {
            "tags": []
          },
          "execution_count": 73
        }
      ]
    },
    {
      "metadata": {
        "id": "womRuhiQEvAU",
        "colab_type": "code",
        "outputId": "dc025c64-6104-43ef-9007-81ba23902e2d",
        "colab": {
          "base_uri": "https://localhost:8080/",
          "height": 67
        }
      },
      "cell_type": "code",
      "source": [
        "extract_VGG19(path_to_tensor('data/lfw/Kelvin_Sampson/Kelvin_Sampson_0002.jpg')).shape"
      ],
      "execution_count": 74,
      "outputs": [
        {
          "output_type": "stream",
          "text": [
            "Downloading data from https://github.com/fchollet/deep-learning-models/releases/download/v0.1/vgg19_weights_tf_dim_ordering_tf_kernels_notop.h5\n",
            "80142336/80134624 [==============================] - 2s 0us/step\n"
          ],
          "name": "stdout"
        },
        {
          "output_type": "execute_result",
          "data": {
            "text/plain": [
              "(1, 7, 7, 512)"
            ]
          },
          "metadata": {
            "tags": []
          },
          "execution_count": 74
        }
      ]
    },
    {
      "metadata": {
        "id": "Cq0vp8VEFAAQ",
        "colab_type": "code",
        "outputId": "34bfbc13-8b77-4fa2-b3dc-35d3d4de23bb",
        "colab": {
          "base_uri": "https://localhost:8080/",
          "height": 67
        }
      },
      "cell_type": "code",
      "source": [
        "extract_VGG16(path_to_tensor('data/lfw/Kelvin_Sampson/Kelvin_Sampson_0002.jpg')).shape"
      ],
      "execution_count": 75,
      "outputs": [
        {
          "output_type": "stream",
          "text": [
            "Downloading data from https://github.com/fchollet/deep-learning-models/releases/download/v0.1/vgg16_weights_tf_dim_ordering_tf_kernels_notop.h5\n",
            "58892288/58889256 [==============================] - 2s 0us/step\n"
          ],
          "name": "stdout"
        },
        {
          "output_type": "execute_result",
          "data": {
            "text/plain": [
              "(1, 7, 7, 512)"
            ]
          },
          "metadata": {
            "tags": []
          },
          "execution_count": 75
        }
      ]
    },
    {
      "metadata": {
        "id": "la0xtFzK3gDH",
        "colab_type": "code",
        "colab": {
          "base_uri": "https://localhost:8080/",
          "height": 3491
        },
        "outputId": "1af26046-01f0-4f74-887a-2b11e246f4b7"
      },
      "cell_type": "code",
      "source": [
        "# test\n",
        "predict_cate('data/lfw/Kelvin_Sampson/Kelvin_Sampson_0002.jpg')"
      ],
      "execution_count": 76,
      "outputs": [
        {
          "output_type": "error",
          "ename": "FailedPreconditionError",
          "evalue": "ignored",
          "traceback": [
            "\u001b[0;31m---------------------------------------------------------------------------\u001b[0m",
            "\u001b[0;31mFailedPreconditionError\u001b[0m                   Traceback (most recent call last)",
            "\u001b[0;32m/usr/local/lib/python3.6/dist-packages/tensorflow/python/client/session.py\u001b[0m in \u001b[0;36m_do_call\u001b[0;34m(self, fn, *args)\u001b[0m\n\u001b[1;32m   1333\u001b[0m     \u001b[0;32mtry\u001b[0m\u001b[0;34m:\u001b[0m\u001b[0;34m\u001b[0m\u001b[0;34m\u001b[0m\u001b[0m\n\u001b[0;32m-> 1334\u001b[0;31m       \u001b[0;32mreturn\u001b[0m \u001b[0mfn\u001b[0m\u001b[0;34m(\u001b[0m\u001b[0;34m*\u001b[0m\u001b[0margs\u001b[0m\u001b[0;34m)\u001b[0m\u001b[0;34m\u001b[0m\u001b[0;34m\u001b[0m\u001b[0m\n\u001b[0m\u001b[1;32m   1335\u001b[0m     \u001b[0;32mexcept\u001b[0m \u001b[0merrors\u001b[0m\u001b[0;34m.\u001b[0m\u001b[0mOpError\u001b[0m \u001b[0;32mas\u001b[0m \u001b[0me\u001b[0m\u001b[0;34m:\u001b[0m\u001b[0;34m\u001b[0m\u001b[0;34m\u001b[0m\u001b[0m\n",
            "\u001b[0;32m/usr/local/lib/python3.6/dist-packages/tensorflow/python/client/session.py\u001b[0m in \u001b[0;36m_run_fn\u001b[0;34m(feed_dict, fetch_list, target_list, options, run_metadata)\u001b[0m\n\u001b[1;32m   1318\u001b[0m       return self._call_tf_sessionrun(\n\u001b[0;32m-> 1319\u001b[0;31m           options, feed_dict, fetch_list, target_list, run_metadata)\n\u001b[0m\u001b[1;32m   1320\u001b[0m \u001b[0;34m\u001b[0m\u001b[0m\n",
            "\u001b[0;32m/usr/local/lib/python3.6/dist-packages/tensorflow/python/client/session.py\u001b[0m in \u001b[0;36m_call_tf_sessionrun\u001b[0;34m(self, options, feed_dict, fetch_list, target_list, run_metadata)\u001b[0m\n\u001b[1;32m   1406\u001b[0m         \u001b[0mself\u001b[0m\u001b[0;34m.\u001b[0m\u001b[0m_session\u001b[0m\u001b[0;34m,\u001b[0m \u001b[0moptions\u001b[0m\u001b[0;34m,\u001b[0m \u001b[0mfeed_dict\u001b[0m\u001b[0;34m,\u001b[0m \u001b[0mfetch_list\u001b[0m\u001b[0;34m,\u001b[0m \u001b[0mtarget_list\u001b[0m\u001b[0;34m,\u001b[0m\u001b[0;34m\u001b[0m\u001b[0;34m\u001b[0m\u001b[0m\n\u001b[0;32m-> 1407\u001b[0;31m         run_metadata)\n\u001b[0m\u001b[1;32m   1408\u001b[0m \u001b[0;34m\u001b[0m\u001b[0m\n",
            "\u001b[0;31mFailedPreconditionError\u001b[0m: Attempting to use uninitialized value bn5c_branch2b/moving_mean\n\t [[{{node bn5c_branch2b/moving_mean/read}}]]\n\t [[{{node fc1000/Softmax}}]]",
            "\nDuring handling of the above exception, another exception occurred:\n",
            "\u001b[0;31mFailedPreconditionError\u001b[0m                   Traceback (most recent call last)",
            "\u001b[0;32m<ipython-input-76-f6b4a3aff363>\u001b[0m in \u001b[0;36m<module>\u001b[0;34m()\u001b[0m\n\u001b[0;32m----> 1\u001b[0;31m \u001b[0mpredict_cate\u001b[0m\u001b[0;34m(\u001b[0m\u001b[0;34m'data/lfw/Kelvin_Sampson/Kelvin_Sampson_0002.jpg'\u001b[0m\u001b[0;34m)\u001b[0m\u001b[0;34m\u001b[0m\u001b[0;34m\u001b[0m\u001b[0m\n\u001b[0m",
            "\u001b[0;32m<ipython-input-71-97f83580e463>\u001b[0m in \u001b[0;36mpredict_cate\u001b[0;34m(path)\u001b[0m\n\u001b[1;32m      4\u001b[0m   \u001b[0mbreed\u001b[0m \u001b[0;34m=\u001b[0m \u001b[0mResnet50_predict_breed\u001b[0m\u001b[0;34m(\u001b[0m\u001b[0mpath\u001b[0m\u001b[0;34m)\u001b[0m\u001b[0;34m.\u001b[0m\u001b[0msplit\u001b[0m\u001b[0;34m(\u001b[0m\u001b[0;34m'.'\u001b[0m\u001b[0;34m)\u001b[0m\u001b[0;34m[\u001b[0m\u001b[0;34m-\u001b[0m\u001b[0;36m1\u001b[0m\u001b[0;34m]\u001b[0m\u001b[0;34m.\u001b[0m\u001b[0mreplace\u001b[0m\u001b[0;34m(\u001b[0m\u001b[0;34m'_'\u001b[0m\u001b[0;34m,\u001b[0m \u001b[0;34m\" \"\u001b[0m\u001b[0;34m)\u001b[0m\u001b[0;34m\u001b[0m\u001b[0;34m\u001b[0m\u001b[0m\n\u001b[1;32m      5\u001b[0m \u001b[0;34m\u001b[0m\u001b[0m\n\u001b[0;32m----> 6\u001b[0;31m   \u001b[0;32mif\u001b[0m \u001b[0mdog_detector\u001b[0m\u001b[0;34m(\u001b[0m\u001b[0mpath\u001b[0m\u001b[0;34m)\u001b[0m\u001b[0;34m:\u001b[0m\u001b[0;34m\u001b[0m\u001b[0;34m\u001b[0m\u001b[0m\n\u001b[0m\u001b[1;32m      7\u001b[0m     \u001b[0mprint\u001b[0m\u001b[0;34m(\u001b[0m\u001b[0;34mf\"This is a {breed} dog.\"\u001b[0m\u001b[0;34m)\u001b[0m\u001b[0;34m\u001b[0m\u001b[0;34m\u001b[0m\u001b[0m\n\u001b[1;32m      8\u001b[0m \u001b[0;34m\u001b[0m\u001b[0m\n",
            "\u001b[0;32m<ipython-input-26-7a63b193d314>\u001b[0m in \u001b[0;36mdog_detector\u001b[0;34m(img_path)\u001b[0m\n\u001b[1;32m      1\u001b[0m \u001b[0;32mdef\u001b[0m \u001b[0mdog_detector\u001b[0m\u001b[0;34m(\u001b[0m\u001b[0mimg_path\u001b[0m\u001b[0;34m)\u001b[0m\u001b[0;34m:\u001b[0m\u001b[0;34m\u001b[0m\u001b[0;34m\u001b[0m\u001b[0m\n\u001b[0;32m----> 2\u001b[0;31m     \u001b[0mprediction\u001b[0m \u001b[0;34m=\u001b[0m \u001b[0mResNet50_predict_labels\u001b[0m\u001b[0;34m(\u001b[0m\u001b[0mimg_path\u001b[0m\u001b[0;34m)\u001b[0m\u001b[0;34m\u001b[0m\u001b[0;34m\u001b[0m\u001b[0m\n\u001b[0m\u001b[1;32m      3\u001b[0m     \u001b[0;32mreturn\u001b[0m \u001b[0;34m(\u001b[0m\u001b[0;34m(\u001b[0m\u001b[0mprediction\u001b[0m \u001b[0;34m<=\u001b[0m \u001b[0;36m268\u001b[0m\u001b[0;34m)\u001b[0m \u001b[0;34m&\u001b[0m \u001b[0;34m(\u001b[0m\u001b[0mprediction\u001b[0m \u001b[0;34m>=\u001b[0m \u001b[0;36m151\u001b[0m\u001b[0;34m)\u001b[0m\u001b[0;34m)\u001b[0m\u001b[0;34m\u001b[0m\u001b[0;34m\u001b[0m\u001b[0m\n",
            "\u001b[0;32m<ipython-input-25-38fa25e5fc61>\u001b[0m in \u001b[0;36mResNet50_predict_labels\u001b[0;34m(img_path)\u001b[0m\n\u001b[1;32m      2\u001b[0m     \u001b[0;31m# 返回img_path路径的图像的预测向量\u001b[0m\u001b[0;34m\u001b[0m\u001b[0;34m\u001b[0m\u001b[0;34m\u001b[0m\u001b[0m\n\u001b[1;32m      3\u001b[0m     \u001b[0mimg\u001b[0m \u001b[0;34m=\u001b[0m \u001b[0mpreprocess_input\u001b[0m\u001b[0;34m(\u001b[0m\u001b[0mpath_to_tensor\u001b[0m\u001b[0;34m(\u001b[0m\u001b[0mimg_path\u001b[0m\u001b[0;34m)\u001b[0m\u001b[0;34m)\u001b[0m\u001b[0;34m\u001b[0m\u001b[0;34m\u001b[0m\u001b[0m\n\u001b[0;32m----> 4\u001b[0;31m     \u001b[0;32mreturn\u001b[0m \u001b[0mnp\u001b[0m\u001b[0;34m.\u001b[0m\u001b[0margmax\u001b[0m\u001b[0;34m(\u001b[0m\u001b[0mResNet50_model\u001b[0m\u001b[0;34m.\u001b[0m\u001b[0mpredict\u001b[0m\u001b[0;34m(\u001b[0m\u001b[0mimg\u001b[0m\u001b[0;34m)\u001b[0m\u001b[0;34m)\u001b[0m\u001b[0;34m\u001b[0m\u001b[0;34m\u001b[0m\u001b[0m\n\u001b[0m",
            "\u001b[0;32m/usr/local/lib/python3.6/dist-packages/keras/engine/training.py\u001b[0m in \u001b[0;36mpredict\u001b[0;34m(self, x, batch_size, verbose, steps)\u001b[0m\n\u001b[1;32m   1833\u001b[0m         \u001b[0mf\u001b[0m \u001b[0;34m=\u001b[0m \u001b[0mself\u001b[0m\u001b[0;34m.\u001b[0m\u001b[0mpredict_function\u001b[0m\u001b[0;34m\u001b[0m\u001b[0;34m\u001b[0m\u001b[0m\n\u001b[1;32m   1834\u001b[0m         return self._predict_loop(f, ins, batch_size=batch_size,\n\u001b[0;32m-> 1835\u001b[0;31m                                   verbose=verbose, steps=steps)\n\u001b[0m\u001b[1;32m   1836\u001b[0m \u001b[0;34m\u001b[0m\u001b[0m\n\u001b[1;32m   1837\u001b[0m     def train_on_batch(self, x, y,\n",
            "\u001b[0;32m/usr/local/lib/python3.6/dist-packages/keras/engine/training.py\u001b[0m in \u001b[0;36m_predict_loop\u001b[0;34m(self, f, ins, batch_size, verbose, steps)\u001b[0m\n\u001b[1;32m   1329\u001b[0m                     \u001b[0mins_batch\u001b[0m\u001b[0;34m[\u001b[0m\u001b[0mi\u001b[0m\u001b[0;34m]\u001b[0m \u001b[0;34m=\u001b[0m \u001b[0mins_batch\u001b[0m\u001b[0;34m[\u001b[0m\u001b[0mi\u001b[0m\u001b[0;34m]\u001b[0m\u001b[0;34m.\u001b[0m\u001b[0mtoarray\u001b[0m\u001b[0;34m(\u001b[0m\u001b[0;34m)\u001b[0m\u001b[0;34m\u001b[0m\u001b[0;34m\u001b[0m\u001b[0m\n\u001b[1;32m   1330\u001b[0m \u001b[0;34m\u001b[0m\u001b[0m\n\u001b[0;32m-> 1331\u001b[0;31m                 \u001b[0mbatch_outs\u001b[0m \u001b[0;34m=\u001b[0m \u001b[0mf\u001b[0m\u001b[0;34m(\u001b[0m\u001b[0mins_batch\u001b[0m\u001b[0;34m)\u001b[0m\u001b[0;34m\u001b[0m\u001b[0;34m\u001b[0m\u001b[0m\n\u001b[0m\u001b[1;32m   1332\u001b[0m                 \u001b[0;32mif\u001b[0m \u001b[0;32mnot\u001b[0m \u001b[0misinstance\u001b[0m\u001b[0;34m(\u001b[0m\u001b[0mbatch_outs\u001b[0m\u001b[0;34m,\u001b[0m \u001b[0mlist\u001b[0m\u001b[0;34m)\u001b[0m\u001b[0;34m:\u001b[0m\u001b[0;34m\u001b[0m\u001b[0;34m\u001b[0m\u001b[0m\n\u001b[1;32m   1333\u001b[0m                     \u001b[0mbatch_outs\u001b[0m \u001b[0;34m=\u001b[0m \u001b[0;34m[\u001b[0m\u001b[0mbatch_outs\u001b[0m\u001b[0;34m]\u001b[0m\u001b[0;34m\u001b[0m\u001b[0;34m\u001b[0m\u001b[0m\n",
            "\u001b[0;32m/usr/local/lib/python3.6/dist-packages/keras/backend/tensorflow_backend.py\u001b[0m in \u001b[0;36m__call__\u001b[0;34m(self, inputs)\u001b[0m\n\u001b[1;32m   2480\u001b[0m         \u001b[0msession\u001b[0m \u001b[0;34m=\u001b[0m \u001b[0mget_session\u001b[0m\u001b[0;34m(\u001b[0m\u001b[0;34m)\u001b[0m\u001b[0;34m\u001b[0m\u001b[0;34m\u001b[0m\u001b[0m\n\u001b[1;32m   2481\u001b[0m         updated = session.run(fetches=fetches, feed_dict=feed_dict,\n\u001b[0;32m-> 2482\u001b[0;31m                               **self.session_kwargs)\n\u001b[0m\u001b[1;32m   2483\u001b[0m         \u001b[0;32mreturn\u001b[0m \u001b[0mupdated\u001b[0m\u001b[0;34m[\u001b[0m\u001b[0;34m:\u001b[0m\u001b[0mlen\u001b[0m\u001b[0;34m(\u001b[0m\u001b[0mself\u001b[0m\u001b[0;34m.\u001b[0m\u001b[0moutputs\u001b[0m\u001b[0;34m)\u001b[0m\u001b[0;34m]\u001b[0m\u001b[0;34m\u001b[0m\u001b[0;34m\u001b[0m\u001b[0m\n\u001b[1;32m   2484\u001b[0m \u001b[0;34m\u001b[0m\u001b[0m\n",
            "\u001b[0;32m/usr/local/lib/python3.6/dist-packages/tensorflow/python/client/session.py\u001b[0m in \u001b[0;36mrun\u001b[0;34m(self, fetches, feed_dict, options, run_metadata)\u001b[0m\n\u001b[1;32m    927\u001b[0m     \u001b[0;32mtry\u001b[0m\u001b[0;34m:\u001b[0m\u001b[0;34m\u001b[0m\u001b[0;34m\u001b[0m\u001b[0m\n\u001b[1;32m    928\u001b[0m       result = self._run(None, fetches, feed_dict, options_ptr,\n\u001b[0;32m--> 929\u001b[0;31m                          run_metadata_ptr)\n\u001b[0m\u001b[1;32m    930\u001b[0m       \u001b[0;32mif\u001b[0m \u001b[0mrun_metadata\u001b[0m\u001b[0;34m:\u001b[0m\u001b[0;34m\u001b[0m\u001b[0;34m\u001b[0m\u001b[0m\n\u001b[1;32m    931\u001b[0m         \u001b[0mproto_data\u001b[0m \u001b[0;34m=\u001b[0m \u001b[0mtf_session\u001b[0m\u001b[0;34m.\u001b[0m\u001b[0mTF_GetBuffer\u001b[0m\u001b[0;34m(\u001b[0m\u001b[0mrun_metadata_ptr\u001b[0m\u001b[0;34m)\u001b[0m\u001b[0;34m\u001b[0m\u001b[0;34m\u001b[0m\u001b[0m\n",
            "\u001b[0;32m/usr/local/lib/python3.6/dist-packages/tensorflow/python/client/session.py\u001b[0m in \u001b[0;36m_run\u001b[0;34m(self, handle, fetches, feed_dict, options, run_metadata)\u001b[0m\n\u001b[1;32m   1150\u001b[0m     \u001b[0;32mif\u001b[0m \u001b[0mfinal_fetches\u001b[0m \u001b[0;32mor\u001b[0m \u001b[0mfinal_targets\u001b[0m \u001b[0;32mor\u001b[0m \u001b[0;34m(\u001b[0m\u001b[0mhandle\u001b[0m \u001b[0;32mand\u001b[0m \u001b[0mfeed_dict_tensor\u001b[0m\u001b[0;34m)\u001b[0m\u001b[0;34m:\u001b[0m\u001b[0;34m\u001b[0m\u001b[0;34m\u001b[0m\u001b[0m\n\u001b[1;32m   1151\u001b[0m       results = self._do_run(handle, final_targets, final_fetches,\n\u001b[0;32m-> 1152\u001b[0;31m                              feed_dict_tensor, options, run_metadata)\n\u001b[0m\u001b[1;32m   1153\u001b[0m     \u001b[0;32melse\u001b[0m\u001b[0;34m:\u001b[0m\u001b[0;34m\u001b[0m\u001b[0;34m\u001b[0m\u001b[0m\n\u001b[1;32m   1154\u001b[0m       \u001b[0mresults\u001b[0m \u001b[0;34m=\u001b[0m \u001b[0;34m[\u001b[0m\u001b[0;34m]\u001b[0m\u001b[0;34m\u001b[0m\u001b[0;34m\u001b[0m\u001b[0m\n",
            "\u001b[0;32m/usr/local/lib/python3.6/dist-packages/tensorflow/python/client/session.py\u001b[0m in \u001b[0;36m_do_run\u001b[0;34m(self, handle, target_list, fetch_list, feed_dict, options, run_metadata)\u001b[0m\n\u001b[1;32m   1326\u001b[0m     \u001b[0;32mif\u001b[0m \u001b[0mhandle\u001b[0m \u001b[0;32mis\u001b[0m \u001b[0;32mNone\u001b[0m\u001b[0;34m:\u001b[0m\u001b[0;34m\u001b[0m\u001b[0;34m\u001b[0m\u001b[0m\n\u001b[1;32m   1327\u001b[0m       return self._do_call(_run_fn, feeds, fetches, targets, options,\n\u001b[0;32m-> 1328\u001b[0;31m                            run_metadata)\n\u001b[0m\u001b[1;32m   1329\u001b[0m     \u001b[0;32melse\u001b[0m\u001b[0;34m:\u001b[0m\u001b[0;34m\u001b[0m\u001b[0;34m\u001b[0m\u001b[0m\n\u001b[1;32m   1330\u001b[0m       \u001b[0;32mreturn\u001b[0m \u001b[0mself\u001b[0m\u001b[0;34m.\u001b[0m\u001b[0m_do_call\u001b[0m\u001b[0;34m(\u001b[0m\u001b[0m_prun_fn\u001b[0m\u001b[0;34m,\u001b[0m \u001b[0mhandle\u001b[0m\u001b[0;34m,\u001b[0m \u001b[0mfeeds\u001b[0m\u001b[0;34m,\u001b[0m \u001b[0mfetches\u001b[0m\u001b[0;34m)\u001b[0m\u001b[0;34m\u001b[0m\u001b[0;34m\u001b[0m\u001b[0m\n",
            "\u001b[0;32m/usr/local/lib/python3.6/dist-packages/tensorflow/python/client/session.py\u001b[0m in \u001b[0;36m_do_call\u001b[0;34m(self, fn, *args)\u001b[0m\n\u001b[1;32m   1346\u001b[0m           \u001b[0;32mpass\u001b[0m\u001b[0;34m\u001b[0m\u001b[0;34m\u001b[0m\u001b[0m\n\u001b[1;32m   1347\u001b[0m       \u001b[0mmessage\u001b[0m \u001b[0;34m=\u001b[0m \u001b[0merror_interpolation\u001b[0m\u001b[0;34m.\u001b[0m\u001b[0minterpolate\u001b[0m\u001b[0;34m(\u001b[0m\u001b[0mmessage\u001b[0m\u001b[0;34m,\u001b[0m \u001b[0mself\u001b[0m\u001b[0;34m.\u001b[0m\u001b[0m_graph\u001b[0m\u001b[0;34m)\u001b[0m\u001b[0;34m\u001b[0m\u001b[0;34m\u001b[0m\u001b[0m\n\u001b[0;32m-> 1348\u001b[0;31m       \u001b[0;32mraise\u001b[0m \u001b[0mtype\u001b[0m\u001b[0;34m(\u001b[0m\u001b[0me\u001b[0m\u001b[0;34m)\u001b[0m\u001b[0;34m(\u001b[0m\u001b[0mnode_def\u001b[0m\u001b[0;34m,\u001b[0m \u001b[0mop\u001b[0m\u001b[0;34m,\u001b[0m \u001b[0mmessage\u001b[0m\u001b[0;34m)\u001b[0m\u001b[0;34m\u001b[0m\u001b[0;34m\u001b[0m\u001b[0m\n\u001b[0m\u001b[1;32m   1349\u001b[0m \u001b[0;34m\u001b[0m\u001b[0m\n\u001b[1;32m   1350\u001b[0m   \u001b[0;32mdef\u001b[0m \u001b[0m_extend_graph\u001b[0m\u001b[0;34m(\u001b[0m\u001b[0mself\u001b[0m\u001b[0;34m)\u001b[0m\u001b[0;34m:\u001b[0m\u001b[0;34m\u001b[0m\u001b[0;34m\u001b[0m\u001b[0m\n",
            "\u001b[0;31mFailedPreconditionError\u001b[0m: Attempting to use uninitialized value bn5c_branch2b/moving_mean\n\t [[node bn5c_branch2b/moving_mean/read (defined at /usr/local/lib/python3.6/dist-packages/keras/backend/tensorflow_backend.py:396) ]]\n\t [[node fc1000/Softmax (defined at /usr/local/lib/python3.6/dist-packages/keras/backend/tensorflow_backend.py:2963) ]]\n\nCaused by op 'bn5c_branch2b/moving_mean/read', defined at:\n  File \"/usr/lib/python3.6/runpy.py\", line 193, in _run_module_as_main\n    \"__main__\", mod_spec)\n  File \"/usr/lib/python3.6/runpy.py\", line 85, in _run_code\n    exec(code, run_globals)\n  File \"/usr/local/lib/python3.6/dist-packages/ipykernel_launcher.py\", line 16, in <module>\n    app.launch_new_instance()\n  File \"/usr/local/lib/python3.6/dist-packages/traitlets/config/application.py\", line 658, in launch_instance\n    app.start()\n  File \"/usr/local/lib/python3.6/dist-packages/ipykernel/kernelapp.py\", line 477, in start\n    ioloop.IOLoop.instance().start()\n  File \"/usr/local/lib/python3.6/dist-packages/tornado/ioloop.py\", line 832, in start\n    self._run_callback(self._callbacks.popleft())\n  File \"/usr/local/lib/python3.6/dist-packages/tornado/ioloop.py\", line 605, in _run_callback\n    ret = callback()\n  File \"/usr/local/lib/python3.6/dist-packages/tornado/stack_context.py\", line 277, in null_wrapper\n    return fn(*args, **kwargs)\n  File \"/usr/local/lib/python3.6/dist-packages/zmq/eventloop/zmqstream.py\", line 536, in <lambda>\n    self.io_loop.add_callback(lambda : self._handle_events(self.socket, 0))\n  File \"/usr/local/lib/python3.6/dist-packages/zmq/eventloop/zmqstream.py\", line 450, in _handle_events\n    self._handle_recv()\n  File \"/usr/local/lib/python3.6/dist-packages/zmq/eventloop/zmqstream.py\", line 480, in _handle_recv\n    self._run_callback(callback, msg)\n  File \"/usr/local/lib/python3.6/dist-packages/zmq/eventloop/zmqstream.py\", line 432, in _run_callback\n    callback(*args, **kwargs)\n  File \"/usr/local/lib/python3.6/dist-packages/tornado/stack_context.py\", line 277, in null_wrapper\n    return fn(*args, **kwargs)\n  File \"/usr/local/lib/python3.6/dist-packages/ipykernel/kernelbase.py\", line 283, in dispatcher\n    return self.dispatch_shell(stream, msg)\n  File \"/usr/local/lib/python3.6/dist-packages/ipykernel/kernelbase.py\", line 235, in dispatch_shell\n    handler(stream, idents, msg)\n  File \"/usr/local/lib/python3.6/dist-packages/ipykernel/kernelbase.py\", line 399, in execute_request\n    user_expressions, allow_stdin)\n  File \"/usr/local/lib/python3.6/dist-packages/ipykernel/ipkernel.py\", line 196, in do_execute\n    res = shell.run_cell(code, store_history=store_history, silent=silent)\n  File \"/usr/local/lib/python3.6/dist-packages/ipykernel/zmqshell.py\", line 533, in run_cell\n    return super(ZMQInteractiveShell, self).run_cell(*args, **kwargs)\n  File \"/usr/local/lib/python3.6/dist-packages/IPython/core/interactiveshell.py\", line 2718, in run_cell\n    interactivity=interactivity, compiler=compiler, result=result)\n  File \"/usr/local/lib/python3.6/dist-packages/IPython/core/interactiveshell.py\", line 2822, in run_ast_nodes\n    if self.run_code(code, result):\n  File \"/usr/local/lib/python3.6/dist-packages/IPython/core/interactiveshell.py\", line 2882, in run_code\n    exec(code_obj, self.user_global_ns, self.user_ns)\n  File \"<ipython-input-23-81be085cd92a>\", line 1, in <module>\n    ResNet50_model = ResNet50(weights='imagenet')\n  File \"/usr/local/lib/python3.6/dist-packages/keras/applications/resnet50.py\", line 237, in ResNet50\n    x = identity_block(x, 3, [512, 512, 2048], stage=5, block='c')\n  File \"/usr/local/lib/python3.6/dist-packages/keras/applications/resnet50.py\", line 70, in identity_block\n    x = BatchNormalization(axis=bn_axis, name=bn_name_base + '2b')(x)\n  File \"/usr/local/lib/python3.6/dist-packages/keras/engine/topology.py\", line 592, in __call__\n    self.build(input_shapes[0])\n  File \"/usr/local/lib/python3.6/dist-packages/keras/layers/normalization.py\", line 122, in build\n    trainable=False)\n  File \"/usr/local/lib/python3.6/dist-packages/keras/legacy/interfaces.py\", line 91, in wrapper\n    return func(*args, **kwargs)\n  File \"/usr/local/lib/python3.6/dist-packages/keras/engine/topology.py\", line 416, in add_weight\n    constraint=constraint)\n  File \"/usr/local/lib/python3.6/dist-packages/keras/backend/tensorflow_backend.py\", line 396, in variable\n    v = tf.Variable(value, dtype=tf.as_dtype(dtype), name=name)\n  File \"/usr/local/lib/python3.6/dist-packages/tensorflow/python/ops/variables.py\", line 213, in __call__\n    return cls._variable_v1_call(*args, **kwargs)\n  File \"/usr/local/lib/python3.6/dist-packages/tensorflow/python/ops/variables.py\", line 176, in _variable_v1_call\n    aggregation=aggregation)\n  File \"/usr/local/lib/python3.6/dist-packages/tensorflow/python/ops/variables.py\", line 155, in <lambda>\n    previous_getter = lambda **kwargs: default_variable_creator(None, **kwargs)\n  File \"/usr/local/lib/python3.6/dist-packages/tensorflow/python/ops/variable_scope.py\", line 2495, in default_variable_creator\n    expected_shape=expected_shape, import_scope=import_scope)\n  File \"/usr/local/lib/python3.6/dist-packages/tensorflow/python/ops/variables.py\", line 217, in __call__\n    return super(VariableMetaclass, cls).__call__(*args, **kwargs)\n  File \"/usr/local/lib/python3.6/dist-packages/tensorflow/python/ops/variables.py\", line 1395, in __init__\n    constraint=constraint)\n  File \"/usr/local/lib/python3.6/dist-packages/tensorflow/python/ops/variables.py\", line 1557, in _init_from_args\n    self._snapshot = array_ops.identity(self._variable, name=\"read\")\n  File \"/usr/local/lib/python3.6/dist-packages/tensorflow/python/util/dispatch.py\", line 180, in wrapper\n    return target(*args, **kwargs)\n  File \"/usr/local/lib/python3.6/dist-packages/tensorflow/python/ops/array_ops.py\", line 81, in identity\n    ret = gen_array_ops.identity(input, name=name)\n  File \"/usr/local/lib/python3.6/dist-packages/tensorflow/python/ops/gen_array_ops.py\", line 3890, in identity\n    \"Identity\", input=input, name=name)\n  File \"/usr/local/lib/python3.6/dist-packages/tensorflow/python/framework/op_def_library.py\", line 788, in _apply_op_helper\n    op_def=op_def)\n  File \"/usr/local/lib/python3.6/dist-packages/tensorflow/python/util/deprecation.py\", line 507, in new_func\n    return func(*args, **kwargs)\n  File \"/usr/local/lib/python3.6/dist-packages/tensorflow/python/framework/ops.py\", line 3300, in create_op\n    op_def=op_def)\n  File \"/usr/local/lib/python3.6/dist-packages/tensorflow/python/framework/ops.py\", line 1801, in __init__\n    self._traceback = tf_stack.extract_stack()\n\nFailedPreconditionError (see above for traceback): Attempting to use uninitialized value bn5c_branch2b/moving_mean\n\t [[node bn5c_branch2b/moving_mean/read (defined at /usr/local/lib/python3.6/dist-packages/keras/backend/tensorflow_backend.py:396) ]]\n\t [[node fc1000/Softmax (defined at /usr/local/lib/python3.6/dist-packages/keras/backend/tensorflow_backend.py:2963) ]]\n"
          ]
        },
        {
          "output_type": "display_data",
          "data": {
            "image/png": "[encoded data removed]",
            "text/plain": [
              "<Figure size 432x288 with 1 Axes>"
            ]
          },
          "metadata": {
            "tags": []
          }
        }
      ]
    },
    {
      "metadata": {
        "id": "jx1eEshugHjd",
        "colab_type": "text"
      },
      "cell_type": "markdown",
      "source": [
        "---\n",
        "<a id='step7'></a>\n",
        "## 步骤 7: 测试你的算法\n",
        "\n",
        "在这个部分中，你将尝试一下你的新算法！算法认为__你__看起来像什么类型的狗？如果你有一只狗，它可以准确地预测你的狗的品种吗？如果你有一只猫，它会将你的猫误判为一只狗吗？\n",
        "\n",
        "**上传方式：点击左上角的Jupyter回到上级菜单，你可以看到Jupyter Notebook的右上方会有Upload按钮。**\n",
        "\n",
        "<a id='question11'></a>  \n",
        "\n",
        "### __问题 11:__\n",
        "\n",
        "在下方编写代码，用至少6张现实中的图片来测试你的算法。你可以使用任意照片，不过请至少使用两张人类图片（要征得当事人同意哦）和两张狗的图片。\n",
        "同时请回答如下问题：\n",
        "\n",
        "1. 输出结果比你预想的要好吗 :) ？或者更糟 :( ？\n",
        "2. 提出至少三点改进你的模型的想法。"
      ]
    },
    {
      "metadata": {
        "id": "HeUaOkuBgHje",
        "colab_type": "code",
        "outputId": "f6751ff4-63ef-455b-e122-83721adc6a92",
        "colab": {
          "base_uri": "https://localhost:8080/",
          "height": 118
        }
      },
      "cell_type": "code",
      "source": [
        "## TODO: 在你的电脑上，在步骤6中，至少在6张图片上运行你的算法。\n",
        "test_pictures = []\n",
        "\n",
        "for i in range(3):\n",
        "  test_pictures.append(train_files[i])\n",
        "  test_pictures.append(human_files[i])\n",
        "  \n",
        "test_pictures"
      ],
      "execution_count": 77,
      "outputs": [
        {
          "output_type": "execute_result",
          "data": {
            "text/plain": [
              "['data/dog_images/train/095.Kuvasz/Kuvasz_06442.jpg',\n",
              " 'data/lfw/Kelvin_Sampson/Kelvin_Sampson_0002.jpg',\n",
              " 'data/dog_images/train/057.Dalmatian/Dalmatian_04054.jpg',\n",
              " 'data/lfw/Silvan_Shalom/Silvan_Shalom_0002.jpg',\n",
              " 'data/dog_images/train/088.Irish_water_spaniel/Irish_water_spaniel_06014.jpg',\n",
              " 'data/lfw/Vladimir_Putin/Vladimir_Putin_0008.jpg']"
            ]
          },
          "metadata": {
            "tags": []
          },
          "execution_count": 77
        }
      ]
    },
    {
      "metadata": {
        "id": "WaxWOVQ2b5Kw",
        "colab_type": "code",
        "outputId": "36060fd9-f1f3-4652-e977-1bb2a3c1e887",
        "colab": {
          "base_uri": "https://localhost:8080/",
          "height": 3458
        }
      },
      "cell_type": "code",
      "source": [
        "for pic in test_pictures:\n",
        "  predict_cate(pic)"
      ],
      "execution_count": 78,
      "outputs": [
        {
          "output_type": "error",
          "ename": "FailedPreconditionError",
          "evalue": "ignored",
          "traceback": [
            "\u001b[0;31m---------------------------------------------------------------------------\u001b[0m",
            "\u001b[0;31mFailedPreconditionError\u001b[0m                   Traceback (most recent call last)",
            "\u001b[0;32m/usr/local/lib/python3.6/dist-packages/tensorflow/python/client/session.py\u001b[0m in \u001b[0;36m_do_call\u001b[0;34m(self, fn, *args)\u001b[0m\n\u001b[1;32m   1333\u001b[0m     \u001b[0;32mtry\u001b[0m\u001b[0;34m:\u001b[0m\u001b[0;34m\u001b[0m\u001b[0;34m\u001b[0m\u001b[0m\n\u001b[0;32m-> 1334\u001b[0;31m       \u001b[0;32mreturn\u001b[0m \u001b[0mfn\u001b[0m\u001b[0;34m(\u001b[0m\u001b[0;34m*\u001b[0m\u001b[0margs\u001b[0m\u001b[0;34m)\u001b[0m\u001b[0;34m\u001b[0m\u001b[0;34m\u001b[0m\u001b[0m\n\u001b[0m\u001b[1;32m   1335\u001b[0m     \u001b[0;32mexcept\u001b[0m \u001b[0merrors\u001b[0m\u001b[0;34m.\u001b[0m\u001b[0mOpError\u001b[0m \u001b[0;32mas\u001b[0m \u001b[0me\u001b[0m\u001b[0;34m:\u001b[0m\u001b[0;34m\u001b[0m\u001b[0;34m\u001b[0m\u001b[0m\n",
            "\u001b[0;32m/usr/local/lib/python3.6/dist-packages/tensorflow/python/client/session.py\u001b[0m in \u001b[0;36m_run_fn\u001b[0;34m(feed_dict, fetch_list, target_list, options, run_metadata)\u001b[0m\n\u001b[1;32m   1318\u001b[0m       return self._call_tf_sessionrun(\n\u001b[0;32m-> 1319\u001b[0;31m           options, feed_dict, fetch_list, target_list, run_metadata)\n\u001b[0m\u001b[1;32m   1320\u001b[0m \u001b[0;34m\u001b[0m\u001b[0m\n",
            "\u001b[0;32m/usr/local/lib/python3.6/dist-packages/tensorflow/python/client/session.py\u001b[0m in \u001b[0;36m_call_tf_sessionrun\u001b[0;34m(self, options, feed_dict, fetch_list, target_list, run_metadata)\u001b[0m\n\u001b[1;32m   1406\u001b[0m         \u001b[0mself\u001b[0m\u001b[0;34m.\u001b[0m\u001b[0m_session\u001b[0m\u001b[0;34m,\u001b[0m \u001b[0moptions\u001b[0m\u001b[0;34m,\u001b[0m \u001b[0mfeed_dict\u001b[0m\u001b[0;34m,\u001b[0m \u001b[0mfetch_list\u001b[0m\u001b[0;34m,\u001b[0m \u001b[0mtarget_list\u001b[0m\u001b[0;34m,\u001b[0m\u001b[0;34m\u001b[0m\u001b[0;34m\u001b[0m\u001b[0m\n\u001b[0;32m-> 1407\u001b[0;31m         run_metadata)\n\u001b[0m\u001b[1;32m   1408\u001b[0m \u001b[0;34m\u001b[0m\u001b[0m\n",
            "\u001b[0;31mFailedPreconditionError\u001b[0m: Attempting to use uninitialized value bn5c_branch2b/moving_mean\n\t [[{{node bn5c_branch2b/moving_mean/read}}]]",
            "\nDuring handling of the above exception, another exception occurred:\n",
            "\u001b[0;31mFailedPreconditionError\u001b[0m                   Traceback (most recent call last)",
            "\u001b[0;32m<ipython-input-78-745ee58f669d>\u001b[0m in \u001b[0;36m<module>\u001b[0;34m()\u001b[0m\n\u001b[1;32m      1\u001b[0m \u001b[0;32mfor\u001b[0m \u001b[0mpic\u001b[0m \u001b[0;32min\u001b[0m \u001b[0mtest_pictures\u001b[0m\u001b[0;34m:\u001b[0m\u001b[0;34m\u001b[0m\u001b[0;34m\u001b[0m\u001b[0m\n\u001b[0;32m----> 2\u001b[0;31m   \u001b[0mpredict_cate\u001b[0m\u001b[0;34m(\u001b[0m\u001b[0mpic\u001b[0m\u001b[0;34m)\u001b[0m\u001b[0;34m\u001b[0m\u001b[0;34m\u001b[0m\u001b[0m\n\u001b[0m",
            "\u001b[0;32m<ipython-input-71-97f83580e463>\u001b[0m in \u001b[0;36mpredict_cate\u001b[0;34m(path)\u001b[0m\n\u001b[1;32m      4\u001b[0m   \u001b[0mbreed\u001b[0m \u001b[0;34m=\u001b[0m \u001b[0mResnet50_predict_breed\u001b[0m\u001b[0;34m(\u001b[0m\u001b[0mpath\u001b[0m\u001b[0;34m)\u001b[0m\u001b[0;34m.\u001b[0m\u001b[0msplit\u001b[0m\u001b[0;34m(\u001b[0m\u001b[0;34m'.'\u001b[0m\u001b[0;34m)\u001b[0m\u001b[0;34m[\u001b[0m\u001b[0;34m-\u001b[0m\u001b[0;36m1\u001b[0m\u001b[0;34m]\u001b[0m\u001b[0;34m.\u001b[0m\u001b[0mreplace\u001b[0m\u001b[0;34m(\u001b[0m\u001b[0;34m'_'\u001b[0m\u001b[0;34m,\u001b[0m \u001b[0;34m\" \"\u001b[0m\u001b[0;34m)\u001b[0m\u001b[0;34m\u001b[0m\u001b[0;34m\u001b[0m\u001b[0m\n\u001b[1;32m      5\u001b[0m \u001b[0;34m\u001b[0m\u001b[0m\n\u001b[0;32m----> 6\u001b[0;31m   \u001b[0;32mif\u001b[0m \u001b[0mdog_detector\u001b[0m\u001b[0;34m(\u001b[0m\u001b[0mpath\u001b[0m\u001b[0;34m)\u001b[0m\u001b[0;34m:\u001b[0m\u001b[0;34m\u001b[0m\u001b[0;34m\u001b[0m\u001b[0m\n\u001b[0m\u001b[1;32m      7\u001b[0m     \u001b[0mprint\u001b[0m\u001b[0;34m(\u001b[0m\u001b[0;34mf\"This is a {breed} dog.\"\u001b[0m\u001b[0;34m)\u001b[0m\u001b[0;34m\u001b[0m\u001b[0;34m\u001b[0m\u001b[0m\n\u001b[1;32m      8\u001b[0m \u001b[0;34m\u001b[0m\u001b[0m\n",
            "\u001b[0;32m<ipython-input-26-7a63b193d314>\u001b[0m in \u001b[0;36mdog_detector\u001b[0;34m(img_path)\u001b[0m\n\u001b[1;32m      1\u001b[0m \u001b[0;32mdef\u001b[0m \u001b[0mdog_detector\u001b[0m\u001b[0;34m(\u001b[0m\u001b[0mimg_path\u001b[0m\u001b[0;34m)\u001b[0m\u001b[0;34m:\u001b[0m\u001b[0;34m\u001b[0m\u001b[0;34m\u001b[0m\u001b[0m\n\u001b[0;32m----> 2\u001b[0;31m     \u001b[0mprediction\u001b[0m \u001b[0;34m=\u001b[0m \u001b[0mResNet50_predict_labels\u001b[0m\u001b[0;34m(\u001b[0m\u001b[0mimg_path\u001b[0m\u001b[0;34m)\u001b[0m\u001b[0;34m\u001b[0m\u001b[0;34m\u001b[0m\u001b[0m\n\u001b[0m\u001b[1;32m      3\u001b[0m     \u001b[0;32mreturn\u001b[0m \u001b[0;34m(\u001b[0m\u001b[0;34m(\u001b[0m\u001b[0mprediction\u001b[0m \u001b[0;34m<=\u001b[0m \u001b[0;36m268\u001b[0m\u001b[0;34m)\u001b[0m \u001b[0;34m&\u001b[0m \u001b[0;34m(\u001b[0m\u001b[0mprediction\u001b[0m \u001b[0;34m>=\u001b[0m \u001b[0;36m151\u001b[0m\u001b[0;34m)\u001b[0m\u001b[0;34m)\u001b[0m\u001b[0;34m\u001b[0m\u001b[0;34m\u001b[0m\u001b[0m\n",
            "\u001b[0;32m<ipython-input-25-38fa25e5fc61>\u001b[0m in \u001b[0;36mResNet50_predict_labels\u001b[0;34m(img_path)\u001b[0m\n\u001b[1;32m      2\u001b[0m     \u001b[0;31m# 返回img_path路径的图像的预测向量\u001b[0m\u001b[0;34m\u001b[0m\u001b[0;34m\u001b[0m\u001b[0;34m\u001b[0m\u001b[0m\n\u001b[1;32m      3\u001b[0m     \u001b[0mimg\u001b[0m \u001b[0;34m=\u001b[0m \u001b[0mpreprocess_input\u001b[0m\u001b[0;34m(\u001b[0m\u001b[0mpath_to_tensor\u001b[0m\u001b[0;34m(\u001b[0m\u001b[0mimg_path\u001b[0m\u001b[0;34m)\u001b[0m\u001b[0;34m)\u001b[0m\u001b[0;34m\u001b[0m\u001b[0;34m\u001b[0m\u001b[0m\n\u001b[0;32m----> 4\u001b[0;31m     \u001b[0;32mreturn\u001b[0m \u001b[0mnp\u001b[0m\u001b[0;34m.\u001b[0m\u001b[0margmax\u001b[0m\u001b[0;34m(\u001b[0m\u001b[0mResNet50_model\u001b[0m\u001b[0;34m.\u001b[0m\u001b[0mpredict\u001b[0m\u001b[0;34m(\u001b[0m\u001b[0mimg\u001b[0m\u001b[0;34m)\u001b[0m\u001b[0;34m)\u001b[0m\u001b[0;34m\u001b[0m\u001b[0;34m\u001b[0m\u001b[0m\n\u001b[0m",
            "\u001b[0;32m/usr/local/lib/python3.6/dist-packages/keras/engine/training.py\u001b[0m in \u001b[0;36mpredict\u001b[0;34m(self, x, batch_size, verbose, steps)\u001b[0m\n\u001b[1;32m   1833\u001b[0m         \u001b[0mf\u001b[0m \u001b[0;34m=\u001b[0m \u001b[0mself\u001b[0m\u001b[0;34m.\u001b[0m\u001b[0mpredict_function\u001b[0m\u001b[0;34m\u001b[0m\u001b[0;34m\u001b[0m\u001b[0m\n\u001b[1;32m   1834\u001b[0m         return self._predict_loop(f, ins, batch_size=batch_size,\n\u001b[0;32m-> 1835\u001b[0;31m                                   verbose=verbose, steps=steps)\n\u001b[0m\u001b[1;32m   1836\u001b[0m \u001b[0;34m\u001b[0m\u001b[0m\n\u001b[1;32m   1837\u001b[0m     def train_on_batch(self, x, y,\n",
            "\u001b[0;32m/usr/local/lib/python3.6/dist-packages/keras/engine/training.py\u001b[0m in \u001b[0;36m_predict_loop\u001b[0;34m(self, f, ins, batch_size, verbose, steps)\u001b[0m\n\u001b[1;32m   1329\u001b[0m                     \u001b[0mins_batch\u001b[0m\u001b[0;34m[\u001b[0m\u001b[0mi\u001b[0m\u001b[0;34m]\u001b[0m \u001b[0;34m=\u001b[0m \u001b[0mins_batch\u001b[0m\u001b[0;34m[\u001b[0m\u001b[0mi\u001b[0m\u001b[0;34m]\u001b[0m\u001b[0;34m.\u001b[0m\u001b[0mtoarray\u001b[0m\u001b[0;34m(\u001b[0m\u001b[0;34m)\u001b[0m\u001b[0;34m\u001b[0m\u001b[0;34m\u001b[0m\u001b[0m\n\u001b[1;32m   1330\u001b[0m \u001b[0;34m\u001b[0m\u001b[0m\n\u001b[0;32m-> 1331\u001b[0;31m                 \u001b[0mbatch_outs\u001b[0m \u001b[0;34m=\u001b[0m \u001b[0mf\u001b[0m\u001b[0;34m(\u001b[0m\u001b[0mins_batch\u001b[0m\u001b[0;34m)\u001b[0m\u001b[0;34m\u001b[0m\u001b[0;34m\u001b[0m\u001b[0m\n\u001b[0m\u001b[1;32m   1332\u001b[0m                 \u001b[0;32mif\u001b[0m \u001b[0;32mnot\u001b[0m \u001b[0misinstance\u001b[0m\u001b[0;34m(\u001b[0m\u001b[0mbatch_outs\u001b[0m\u001b[0;34m,\u001b[0m \u001b[0mlist\u001b[0m\u001b[0;34m)\u001b[0m\u001b[0;34m:\u001b[0m\u001b[0;34m\u001b[0m\u001b[0;34m\u001b[0m\u001b[0m\n\u001b[1;32m   1333\u001b[0m                     \u001b[0mbatch_outs\u001b[0m \u001b[0;34m=\u001b[0m \u001b[0;34m[\u001b[0m\u001b[0mbatch_outs\u001b[0m\u001b[0;34m]\u001b[0m\u001b[0;34m\u001b[0m\u001b[0;34m\u001b[0m\u001b[0m\n",
            "\u001b[0;32m/usr/local/lib/python3.6/dist-packages/keras/backend/tensorflow_backend.py\u001b[0m in \u001b[0;36m__call__\u001b[0;34m(self, inputs)\u001b[0m\n\u001b[1;32m   2480\u001b[0m         \u001b[0msession\u001b[0m \u001b[0;34m=\u001b[0m \u001b[0mget_session\u001b[0m\u001b[0;34m(\u001b[0m\u001b[0;34m)\u001b[0m\u001b[0;34m\u001b[0m\u001b[0;34m\u001b[0m\u001b[0m\n\u001b[1;32m   2481\u001b[0m         updated = session.run(fetches=fetches, feed_dict=feed_dict,\n\u001b[0;32m-> 2482\u001b[0;31m                               **self.session_kwargs)\n\u001b[0m\u001b[1;32m   2483\u001b[0m         \u001b[0;32mreturn\u001b[0m \u001b[0mupdated\u001b[0m\u001b[0;34m[\u001b[0m\u001b[0;34m:\u001b[0m\u001b[0mlen\u001b[0m\u001b[0;34m(\u001b[0m\u001b[0mself\u001b[0m\u001b[0;34m.\u001b[0m\u001b[0moutputs\u001b[0m\u001b[0;34m)\u001b[0m\u001b[0;34m]\u001b[0m\u001b[0;34m\u001b[0m\u001b[0;34m\u001b[0m\u001b[0m\n\u001b[1;32m   2484\u001b[0m \u001b[0;34m\u001b[0m\u001b[0m\n",
            "\u001b[0;32m/usr/local/lib/python3.6/dist-packages/tensorflow/python/client/session.py\u001b[0m in \u001b[0;36mrun\u001b[0;34m(self, fetches, feed_dict, options, run_metadata)\u001b[0m\n\u001b[1;32m    927\u001b[0m     \u001b[0;32mtry\u001b[0m\u001b[0;34m:\u001b[0m\u001b[0;34m\u001b[0m\u001b[0;34m\u001b[0m\u001b[0m\n\u001b[1;32m    928\u001b[0m       result = self._run(None, fetches, feed_dict, options_ptr,\n\u001b[0;32m--> 929\u001b[0;31m                          run_metadata_ptr)\n\u001b[0m\u001b[1;32m    930\u001b[0m       \u001b[0;32mif\u001b[0m \u001b[0mrun_metadata\u001b[0m\u001b[0;34m:\u001b[0m\u001b[0;34m\u001b[0m\u001b[0;34m\u001b[0m\u001b[0m\n\u001b[1;32m    931\u001b[0m         \u001b[0mproto_data\u001b[0m \u001b[0;34m=\u001b[0m \u001b[0mtf_session\u001b[0m\u001b[0;34m.\u001b[0m\u001b[0mTF_GetBuffer\u001b[0m\u001b[0;34m(\u001b[0m\u001b[0mrun_metadata_ptr\u001b[0m\u001b[0;34m)\u001b[0m\u001b[0;34m\u001b[0m\u001b[0;34m\u001b[0m\u001b[0m\n",
            "\u001b[0;32m/usr/local/lib/python3.6/dist-packages/tensorflow/python/client/session.py\u001b[0m in \u001b[0;36m_run\u001b[0;34m(self, handle, fetches, feed_dict, options, run_metadata)\u001b[0m\n\u001b[1;32m   1150\u001b[0m     \u001b[0;32mif\u001b[0m \u001b[0mfinal_fetches\u001b[0m \u001b[0;32mor\u001b[0m \u001b[0mfinal_targets\u001b[0m \u001b[0;32mor\u001b[0m \u001b[0;34m(\u001b[0m\u001b[0mhandle\u001b[0m \u001b[0;32mand\u001b[0m \u001b[0mfeed_dict_tensor\u001b[0m\u001b[0;34m)\u001b[0m\u001b[0;34m:\u001b[0m\u001b[0;34m\u001b[0m\u001b[0;34m\u001b[0m\u001b[0m\n\u001b[1;32m   1151\u001b[0m       results = self._do_run(handle, final_targets, final_fetches,\n\u001b[0;32m-> 1152\u001b[0;31m                              feed_dict_tensor, options, run_metadata)\n\u001b[0m\u001b[1;32m   1153\u001b[0m     \u001b[0;32melse\u001b[0m\u001b[0;34m:\u001b[0m\u001b[0;34m\u001b[0m\u001b[0;34m\u001b[0m\u001b[0m\n\u001b[1;32m   1154\u001b[0m       \u001b[0mresults\u001b[0m \u001b[0;34m=\u001b[0m \u001b[0;34m[\u001b[0m\u001b[0;34m]\u001b[0m\u001b[0;34m\u001b[0m\u001b[0;34m\u001b[0m\u001b[0m\n",
            "\u001b[0;32m/usr/local/lib/python3.6/dist-packages/tensorflow/python/client/session.py\u001b[0m in \u001b[0;36m_do_run\u001b[0;34m(self, handle, target_list, fetch_list, feed_dict, options, run_metadata)\u001b[0m\n\u001b[1;32m   1326\u001b[0m     \u001b[0;32mif\u001b[0m \u001b[0mhandle\u001b[0m \u001b[0;32mis\u001b[0m \u001b[0;32mNone\u001b[0m\u001b[0;34m:\u001b[0m\u001b[0;34m\u001b[0m\u001b[0;34m\u001b[0m\u001b[0m\n\u001b[1;32m   1327\u001b[0m       return self._do_call(_run_fn, feeds, fetches, targets, options,\n\u001b[0;32m-> 1328\u001b[0;31m                            run_metadata)\n\u001b[0m\u001b[1;32m   1329\u001b[0m     \u001b[0;32melse\u001b[0m\u001b[0;34m:\u001b[0m\u001b[0;34m\u001b[0m\u001b[0;34m\u001b[0m\u001b[0m\n\u001b[1;32m   1330\u001b[0m       \u001b[0;32mreturn\u001b[0m \u001b[0mself\u001b[0m\u001b[0;34m.\u001b[0m\u001b[0m_do_call\u001b[0m\u001b[0;34m(\u001b[0m\u001b[0m_prun_fn\u001b[0m\u001b[0;34m,\u001b[0m \u001b[0mhandle\u001b[0m\u001b[0;34m,\u001b[0m \u001b[0mfeeds\u001b[0m\u001b[0;34m,\u001b[0m \u001b[0mfetches\u001b[0m\u001b[0;34m)\u001b[0m\u001b[0;34m\u001b[0m\u001b[0;34m\u001b[0m\u001b[0m\n",
            "\u001b[0;32m/usr/local/lib/python3.6/dist-packages/tensorflow/python/client/session.py\u001b[0m in \u001b[0;36m_do_call\u001b[0;34m(self, fn, *args)\u001b[0m\n\u001b[1;32m   1346\u001b[0m           \u001b[0;32mpass\u001b[0m\u001b[0;34m\u001b[0m\u001b[0;34m\u001b[0m\u001b[0m\n\u001b[1;32m   1347\u001b[0m       \u001b[0mmessage\u001b[0m \u001b[0;34m=\u001b[0m \u001b[0merror_interpolation\u001b[0m\u001b[0;34m.\u001b[0m\u001b[0minterpolate\u001b[0m\u001b[0;34m(\u001b[0m\u001b[0mmessage\u001b[0m\u001b[0;34m,\u001b[0m \u001b[0mself\u001b[0m\u001b[0;34m.\u001b[0m\u001b[0m_graph\u001b[0m\u001b[0;34m)\u001b[0m\u001b[0;34m\u001b[0m\u001b[0;34m\u001b[0m\u001b[0m\n\u001b[0;32m-> 1348\u001b[0;31m       \u001b[0;32mraise\u001b[0m \u001b[0mtype\u001b[0m\u001b[0;34m(\u001b[0m\u001b[0me\u001b[0m\u001b[0;34m)\u001b[0m\u001b[0;34m(\u001b[0m\u001b[0mnode_def\u001b[0m\u001b[0;34m,\u001b[0m \u001b[0mop\u001b[0m\u001b[0;34m,\u001b[0m \u001b[0mmessage\u001b[0m\u001b[0;34m)\u001b[0m\u001b[0;34m\u001b[0m\u001b[0;34m\u001b[0m\u001b[0m\n\u001b[0m\u001b[1;32m   1349\u001b[0m \u001b[0;34m\u001b[0m\u001b[0m\n\u001b[1;32m   1350\u001b[0m   \u001b[0;32mdef\u001b[0m \u001b[0m_extend_graph\u001b[0m\u001b[0;34m(\u001b[0m\u001b[0mself\u001b[0m\u001b[0;34m)\u001b[0m\u001b[0;34m:\u001b[0m\u001b[0;34m\u001b[0m\u001b[0;34m\u001b[0m\u001b[0m\n",
            "\u001b[0;31mFailedPreconditionError\u001b[0m: Attempting to use uninitialized value bn5c_branch2b/moving_mean\n\t [[node bn5c_branch2b/moving_mean/read (defined at /usr/local/lib/python3.6/dist-packages/keras/backend/tensorflow_backend.py:396) ]]\n\nCaused by op 'bn5c_branch2b/moving_mean/read', defined at:\n  File \"/usr/lib/python3.6/runpy.py\", line 193, in _run_module_as_main\n    \"__main__\", mod_spec)\n  File \"/usr/lib/python3.6/runpy.py\", line 85, in _run_code\n    exec(code, run_globals)\n  File \"/usr/local/lib/python3.6/dist-packages/ipykernel_launcher.py\", line 16, in <module>\n    app.launch_new_instance()\n  File \"/usr/local/lib/python3.6/dist-packages/traitlets/config/application.py\", line 658, in launch_instance\n    app.start()\n  File \"/usr/local/lib/python3.6/dist-packages/ipykernel/kernelapp.py\", line 477, in start\n    ioloop.IOLoop.instance().start()\n  File \"/usr/local/lib/python3.6/dist-packages/tornado/ioloop.py\", line 832, in start\n    self._run_callback(self._callbacks.popleft())\n  File \"/usr/local/lib/python3.6/dist-packages/tornado/ioloop.py\", line 605, in _run_callback\n    ret = callback()\n  File \"/usr/local/lib/python3.6/dist-packages/tornado/stack_context.py\", line 277, in null_wrapper\n    return fn(*args, **kwargs)\n  File \"/usr/local/lib/python3.6/dist-packages/zmq/eventloop/zmqstream.py\", line 536, in <lambda>\n    self.io_loop.add_callback(lambda : self._handle_events(self.socket, 0))\n  File \"/usr/local/lib/python3.6/dist-packages/zmq/eventloop/zmqstream.py\", line 450, in _handle_events\n    self._handle_recv()\n  File \"/usr/local/lib/python3.6/dist-packages/zmq/eventloop/zmqstream.py\", line 480, in _handle_recv\n    self._run_callback(callback, msg)\n  File \"/usr/local/lib/python3.6/dist-packages/zmq/eventloop/zmqstream.py\", line 432, in _run_callback\n    callback(*args, **kwargs)\n  File \"/usr/local/lib/python3.6/dist-packages/tornado/stack_context.py\", line 277, in null_wrapper\n    return fn(*args, **kwargs)\n  File \"/usr/local/lib/python3.6/dist-packages/ipykernel/kernelbase.py\", line 283, in dispatcher\n    return self.dispatch_shell(stream, msg)\n  File \"/usr/local/lib/python3.6/dist-packages/ipykernel/kernelbase.py\", line 235, in dispatch_shell\n    handler(stream, idents, msg)\n  File \"/usr/local/lib/python3.6/dist-packages/ipykernel/kernelbase.py\", line 399, in execute_request\n    user_expressions, allow_stdin)\n  File \"/usr/local/lib/python3.6/dist-packages/ipykernel/ipkernel.py\", line 196, in do_execute\n    res = shell.run_cell(code, store_history=store_history, silent=silent)\n  File \"/usr/local/lib/python3.6/dist-packages/ipykernel/zmqshell.py\", line 533, in run_cell\n    return super(ZMQInteractiveShell, self).run_cell(*args, **kwargs)\n  File \"/usr/local/lib/python3.6/dist-packages/IPython/core/interactiveshell.py\", line 2718, in run_cell\n    interactivity=interactivity, compiler=compiler, result=result)\n  File \"/usr/local/lib/python3.6/dist-packages/IPython/core/interactiveshell.py\", line 2822, in run_ast_nodes\n    if self.run_code(code, result):\n  File \"/usr/local/lib/python3.6/dist-packages/IPython/core/interactiveshell.py\", line 2882, in run_code\n    exec(code_obj, self.user_global_ns, self.user_ns)\n  File \"<ipython-input-23-81be085cd92a>\", line 1, in <module>\n    ResNet50_model = ResNet50(weights='imagenet')\n  File \"/usr/local/lib/python3.6/dist-packages/keras/applications/resnet50.py\", line 237, in ResNet50\n    x = identity_block(x, 3, [512, 512, 2048], stage=5, block='c')\n  File \"/usr/local/lib/python3.6/dist-packages/keras/applications/resnet50.py\", line 70, in identity_block\n    x = BatchNormalization(axis=bn_axis, name=bn_name_base + '2b')(x)\n  File \"/usr/local/lib/python3.6/dist-packages/keras/engine/topology.py\", line 592, in __call__\n    self.build(input_shapes[0])\n  File \"/usr/local/lib/python3.6/dist-packages/keras/layers/normalization.py\", line 122, in build\n    trainable=False)\n  File \"/usr/local/lib/python3.6/dist-packages/keras/legacy/interfaces.py\", line 91, in wrapper\n    return func(*args, **kwargs)\n  File \"/usr/local/lib/python3.6/dist-packages/keras/engine/topology.py\", line 416, in add_weight\n    constraint=constraint)\n  File \"/usr/local/lib/python3.6/dist-packages/keras/backend/tensorflow_backend.py\", line 396, in variable\n    v = tf.Variable(value, dtype=tf.as_dtype(dtype), name=name)\n  File \"/usr/local/lib/python3.6/dist-packages/tensorflow/python/ops/variables.py\", line 213, in __call__\n    return cls._variable_v1_call(*args, **kwargs)\n  File \"/usr/local/lib/python3.6/dist-packages/tensorflow/python/ops/variables.py\", line 176, in _variable_v1_call\n    aggregation=aggregation)\n  File \"/usr/local/lib/python3.6/dist-packages/tensorflow/python/ops/variables.py\", line 155, in <lambda>\n    previous_getter = lambda **kwargs: default_variable_creator(None, **kwargs)\n  File \"/usr/local/lib/python3.6/dist-packages/tensorflow/python/ops/variable_scope.py\", line 2495, in default_variable_creator\n    expected_shape=expected_shape, import_scope=import_scope)\n  File \"/usr/local/lib/python3.6/dist-packages/tensorflow/python/ops/variables.py\", line 217, in __call__\n    return super(VariableMetaclass, cls).__call__(*args, **kwargs)\n  File \"/usr/local/lib/python3.6/dist-packages/tensorflow/python/ops/variables.py\", line 1395, in __init__\n    constraint=constraint)\n  File \"/usr/local/lib/python3.6/dist-packages/tensorflow/python/ops/variables.py\", line 1557, in _init_from_args\n    self._snapshot = array_ops.identity(self._variable, name=\"read\")\n  File \"/usr/local/lib/python3.6/dist-packages/tensorflow/python/util/dispatch.py\", line 180, in wrapper\n    return target(*args, **kwargs)\n  File \"/usr/local/lib/python3.6/dist-packages/tensorflow/python/ops/array_ops.py\", line 81, in identity\n    ret = gen_array_ops.identity(input, name=name)\n  File \"/usr/local/lib/python3.6/dist-packages/tensorflow/python/ops/gen_array_ops.py\", line 3890, in identity\n    \"Identity\", input=input, name=name)\n  File \"/usr/local/lib/python3.6/dist-packages/tensorflow/python/framework/op_def_library.py\", line 788, in _apply_op_helper\n    op_def=op_def)\n  File \"/usr/local/lib/python3.6/dist-packages/tensorflow/python/util/deprecation.py\", line 507, in new_func\n    return func(*args, **kwargs)\n  File \"/usr/local/lib/python3.6/dist-packages/tensorflow/python/framework/ops.py\", line 3300, in create_op\n    op_def=op_def)\n  File \"/usr/local/lib/python3.6/dist-packages/tensorflow/python/framework/ops.py\", line 1801, in __init__\n    self._traceback = tf_stack.extract_stack()\n\nFailedPreconditionError (see above for traceback): Attempting to use uninitialized value bn5c_branch2b/moving_mean\n\t [[node bn5c_branch2b/moving_mean/read (defined at /usr/local/lib/python3.6/dist-packages/keras/backend/tensorflow_backend.py:396) ]]\n"
          ]
        },
        {
          "output_type": "display_data",
          "data": {
            "image/png": "[encoded data removed]",
            "text/plain": [
              "<Figure size 432x288 with 1 Axes>"
            ]
          },
          "metadata": {
            "tags": []
          }
        }
      ]
    },
    {
      "metadata": {
        "id": "IVf5j3wTgHjg",
        "colab_type": "text"
      },
      "cell_type": "markdown",
      "source": [
        "**注意: 当你写完了所有的代码，并且回答了所有的问题。你就可以把你的 iPython Notebook 导出成 HTML 文件。你可以在菜单栏，这样导出File -> Download as -> HTML (.html)把这个 HTML 和这个 iPython notebook 一起做为你的作业提交。**"
      ]
    },
    {
      "metadata": {
        "id": "LNbJkICWVY0n",
        "colab_type": "code",
        "colab": {}
      },
      "cell_type": "code",
      "source": [
        "# Convert into HTML\n",
        "!!jupyter nbconvert *.ipynb"
      ],
      "execution_count": 0,
      "outputs": []
    }
  ]
}